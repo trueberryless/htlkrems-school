{
 "cells": [
  {
   "cell_type": "markdown",
   "metadata": {},
   "source": [
    "# NumPy fundamentals\n",
    "\n",
    "Many thanks to: https://numpy.org/doc/stable/user/absolute_beginners.html\n",
    "\n",
    "## Introduction\n",
    "\n",
    "There are 6 general mechanisms for creating arrays:\n",
    "\n",
    "1. Conversion from other Python structures (i.e. lists and tuples) \n",
    "\n",
    "2. Intrinsic NumPy array creation functions (e.g. arange, ones, zeros, etc.)\n",
    "\n",
    "3. Replicating, joining, or mutating existing arrays\n",
    "\n",
    "4. Reading arrays from disk, either from standard or custom formats\n",
    "\n",
    "5. Creating arrays from raw bytes through the use of strings or buffers\n",
    "\n",
    "6. Use of special library functions (e.g. random)\n",
    "\n",
    "In most case, we do it as described in 1 or 2."
   ]
  },
  {
   "cell_type": "code",
   "execution_count": 3,
   "metadata": {},
   "outputs": [],
   "source": [
    "# Import numpy\n",
    "import numpy as np"
   ]
  },
  {
   "cell_type": "code",
   "execution_count": 2,
   "metadata": {},
   "outputs": [
    {
     "name": "stdout",
     "output_type": "stream",
     "text": [
      "Package                       Version\n",
      "----------------------------- --------------------\n",
      "alabaster                     0.7.12\n",
      "anaconda-client               1.11.0\n",
      "anaconda-navigator            2.3.1\n",
      "anaconda-project              0.11.1\n",
      "anyio                         3.5.0\n",
      "appdirs                       1.4.4\n",
      "argon2-cffi                   21.3.0\n",
      "argon2-cffi-bindings          21.2.0\n",
      "arrow                         1.2.2\n",
      "astroid                       2.11.7\n",
      "astropy                       5.1\n",
      "atomicwrites                  1.4.0\n",
      "attrs                         21.4.0\n",
      "Automat                       20.2.0\n",
      "autopep8                      1.6.0\n",
      "Babel                         2.9.1\n",
      "backcall                      0.2.0\n",
      "backports.functools-lru-cache 1.6.4\n",
      "backports.tempfile            1.0\n",
      "backports.weakref             1.0.post1\n",
      "bcrypt                        3.2.0\n",
      "beautifulsoup4                4.11.1\n",
      "binaryornot                   0.4.4\n",
      "bitarray                      2.5.1\n",
      "bkcharts                      0.2\n",
      "black                         22.6.0\n",
      "bleach                        4.1.0\n",
      "bokeh                         2.4.3\n",
      "boto3                         1.24.28\n",
      "botocore                      1.27.28\n",
      "Bottleneck                    1.3.5\n",
      "brotlipy                      0.7.0\n",
      "certifi                       2022.9.14\n",
      "cffi                          1.15.1\n",
      "chardet                       4.0.0\n",
      "charset-normalizer            2.0.4\n",
      "click                         8.0.4\n",
      "cloudpickle                   2.0.0\n",
      "clyent                        1.2.2\n",
      "colorama                      0.4.5\n",
      "colorcet                      3.0.0\n",
      "comtypes                      1.1.10\n",
      "conda                         22.9.0\n",
      "conda-build                   3.22.0\n",
      "conda-content-trust           0.1.3\n",
      "conda-pack                    0.6.0\n",
      "conda-package-handling        1.9.0\n",
      "conda-repo-cli                1.0.20\n",
      "conda-token                   0.4.0\n",
      "conda-verify                  3.4.2\n",
      "constantly                    15.1.0\n",
      "cookiecutter                  1.7.3\n",
      "cryptography                  37.0.1\n",
      "cssselect                     1.1.0\n",
      "cycler                        0.11.0\n",
      "Cython                        0.29.32\n",
      "cytoolz                       0.11.0\n",
      "daal4py                       2021.6.0\n",
      "dask                          2022.7.0\n",
      "datashader                    0.14.1\n",
      "datashape                     0.5.4\n",
      "debugpy                       1.5.1\n",
      "decorator                     5.1.1\n",
      "defusedxml                    0.7.1\n",
      "diff-match-patch              20200713\n",
      "dill                          0.3.4\n",
      "distributed                   2022.7.0\n",
      "docutils                      0.18.1\n",
      "entrypoints                   0.4\n",
      "et-xmlfile                    1.1.0\n",
      "fastjsonschema                2.16.2\n",
      "filelock                      3.6.0\n",
      "flake8                        4.0.1\n",
      "Flask                         1.1.2\n",
      "fonttools                     4.25.0\n",
      "fsspec                        2022.7.1\n",
      "future                        0.18.2\n",
      "gensim                        4.1.2\n",
      "glob2                         0.7\n",
      "greenlet                      1.1.1\n",
      "h5py                          3.7.0\n",
      "HeapDict                      1.0.1\n",
      "holoviews                     1.15.0\n",
      "hvplot                        0.8.0\n",
      "hyperlink                     21.0.0\n",
      "idna                          3.3\n",
      "imagecodecs                   2021.8.26\n",
      "imageio                       2.19.3\n",
      "imagesize                     1.4.1\n",
      "importlib-metadata            4.11.3\n",
      "incremental                   21.3.0\n",
      "inflection                    0.5.1\n",
      "iniconfig                     1.1.1\n",
      "intake                        0.6.5\n",
      "intervaltree                  3.1.0\n",
      "ipykernel                     6.15.2\n",
      "ipython                       7.31.1\n",
      "ipython-genutils              0.2.0\n",
      "ipywidgets                    7.6.5\n",
      "isort                         5.9.3\n",
      "itemadapter                   0.3.0\n",
      "itemloaders                   1.0.4\n",
      "itsdangerous                  2.0.1\n",
      "jdcal                         1.4.1\n",
      "jedi                          0.18.1\n",
      "jellyfish                     0.9.0\n",
      "Jinja2                        2.11.3\n",
      "jinja2-time                   0.2.0\n",
      "jmespath                      0.10.0\n",
      "joblib                        1.1.0\n",
      "json5                         0.9.6\n",
      "jsonschema                    4.16.0\n",
      "jupyter                       1.0.0\n",
      "jupyter_client                7.3.4\n",
      "jupyter-console               6.4.3\n",
      "jupyter_core                  4.11.1\n",
      "jupyter-server                1.18.1\n",
      "jupyterlab                    3.4.4\n",
      "jupyterlab-pygments           0.1.2\n",
      "jupyterlab-server             2.10.3\n",
      "jupyterlab-widgets            1.0.0\n",
      "keyring                       23.4.0\n",
      "kiwisolver                    1.4.2\n",
      "lazy-object-proxy             1.6.0\n",
      "libarchive-c                  2.9\n",
      "llvmlite                      0.38.0\n",
      "locket                        1.0.0\n",
      "lxml                          4.9.1\n",
      "lz4                           3.1.3\n",
      "Markdown                      3.3.4\n",
      "MarkupSafe                    2.0.1\n",
      "matplotlib                    3.5.2\n",
      "matplotlib-inline             0.1.6\n",
      "mccabe                        0.6.1\n",
      "menuinst                      1.4.19\n",
      "mistune                       0.8.4\n",
      "mkl-fft                       1.3.1\n",
      "mkl-random                    1.2.2\n",
      "mkl-service                   2.4.0\n",
      "mock                          4.0.3\n",
      "mpmath                        1.2.1\n",
      "msgpack                       1.0.3\n",
      "multipledispatch              0.6.0\n",
      "munkres                       1.1.4\n",
      "mypy-extensions               0.4.3\n",
      "navigator-updater             0.3.0\n",
      "nbclassic                     0.3.5\n",
      "nbclient                      0.5.13\n",
      "nbconvert                     6.4.4\n",
      "nbformat                      5.5.0\n",
      "nest-asyncio                  1.5.5\n",
      "networkx                      2.8.4\n",
      "nltk                          3.7\n",
      "nose                          1.3.7\n",
      "notebook                      6.4.12\n",
      "numba                         0.55.1\n",
      "numexpr                       2.8.3\n",
      "numpy                         1.21.5\n",
      "numpydoc                      1.4.0\n",
      "olefile                       0.46\n",
      "openpyxl                      3.0.10\n",
      "packaging                     21.3\n",
      "pandas                        1.4.4\n",
      "pandocfilters                 1.5.0\n",
      "panel                         0.13.1\n",
      "param                         1.12.0\n",
      "paramiko                      2.8.1\n",
      "parsel                        1.6.0\n",
      "parso                         0.8.3\n",
      "partd                         1.2.0\n",
      "pathlib                       1.0.1\n",
      "pathspec                      0.9.0\n",
      "patsy                         0.5.2\n",
      "pep8                          1.7.1\n",
      "pexpect                       4.8.0\n",
      "pickleshare                   0.7.5\n",
      "Pillow                        9.2.0\n",
      "pip                           22.2.2\n",
      "pkginfo                       1.8.2\n",
      "platformdirs                  2.5.2\n",
      "plotly                        5.9.0\n",
      "pluggy                        1.0.0\n",
      "poyo                          0.5.0\n",
      "prometheus-client             0.14.1\n",
      "prompt-toolkit                3.0.20\n",
      "Protego                       0.1.16\n",
      "psutil                        5.9.0\n",
      "ptyprocess                    0.7.0\n",
      "py                            1.11.0\n",
      "pyasn1                        0.4.8\n",
      "pyasn1-modules                0.2.8\n",
      "pycodestyle                   2.8.0\n",
      "pycosat                       0.6.3\n",
      "pycparser                     2.21\n",
      "pyct                          0.4.8\n",
      "pycurl                        7.45.1\n",
      "PyDispatcher                  2.0.5\n",
      "pydocstyle                    6.1.1\n",
      "pyerfa                        2.0.0\n",
      "pyflakes                      2.4.0\n",
      "Pygments                      2.11.2\n",
      "PyHamcrest                    2.0.2\n",
      "PyJWT                         2.4.0\n",
      "pylint                        2.14.5\n",
      "pyls-spyder                   0.4.0\n",
      "PyNaCl                        1.5.0\n",
      "pyodbc                        4.0.34\n",
      "pyOpenSSL                     22.0.0\n",
      "pyparsing                     3.0.9\n",
      "pyrsistent                    0.18.0\n",
      "PySocks                       1.7.1\n",
      "pytest                        7.1.2\n",
      "python-dateutil               2.8.2\n",
      "python-lsp-black              1.0.0\n",
      "python-lsp-jsonrpc            1.0.0\n",
      "python-lsp-server             1.3.3\n",
      "python-slugify                5.0.2\n",
      "python-snappy                 0.6.0\n",
      "pytz                          2022.1\n",
      "pyviz-comms                   2.0.2\n",
      "PyWavelets                    1.3.0\n",
      "pywin32                       302\n",
      "pywin32-ctypes                0.2.0\n",
      "pywinpty                      2.0.2\n",
      "PyYAML                        6.0\n",
      "pyzmq                         23.2.0\n",
      "QDarkStyle                    3.0.2\n",
      "qstylizer                     0.1.10\n",
      "QtAwesome                     1.0.3\n",
      "qtconsole                     5.2.2\n",
      "QtPy                          2.2.0\n",
      "queuelib                      1.5.0\n",
      "regex                         2022.7.9\n",
      "requests                      2.28.1\n",
      "requests-file                 1.5.1\n",
      "rope                          0.22.0\n",
      "Rtree                         0.9.7\n",
      "ruamel-yaml-conda             0.15.100\n",
      "s3transfer                    0.6.0\n",
      "scikit-image                  0.19.2\n",
      "scikit-learn                  1.0.2\n",
      "scikit-learn-intelex          2021.20221004.171935\n",
      "scipy                         1.9.1\n",
      "Scrapy                        2.6.2\n",
      "seaborn                       0.11.2\n",
      "Send2Trash                    1.8.0\n",
      "service-identity              18.1.0\n",
      "setuptools                    63.4.1\n",
      "sip                           4.19.13\n",
      "six                           1.16.0\n",
      "smart-open                    5.2.1\n",
      "sniffio                       1.2.0\n",
      "snowballstemmer               2.2.0\n",
      "sortedcollections             2.1.0\n",
      "sortedcontainers              2.4.0\n",
      "soupsieve                     2.3.1\n",
      "Sphinx                        5.0.2\n",
      "sphinxcontrib-applehelp       1.0.2\n",
      "sphinxcontrib-devhelp         1.0.2\n",
      "sphinxcontrib-htmlhelp        2.0.0\n",
      "sphinxcontrib-jsmath          1.0.1\n",
      "sphinxcontrib-qthelp          1.0.3\n",
      "sphinxcontrib-serializinghtml 1.1.5\n",
      "spyder                        5.2.2\n",
      "spyder-kernels                2.2.1\n",
      "SQLAlchemy                    1.4.39\n",
      "statsmodels                   0.13.2\n",
      "sympy                         1.10.1\n",
      "tables                        3.6.1\n",
      "tabulate                      0.8.10\n",
      "TBB                           0.2\n",
      "tblib                         1.7.0\n",
      "tenacity                      8.0.1\n",
      "terminado                     0.13.1\n",
      "testpath                      0.6.0\n",
      "text-unidecode                1.3\n",
      "textdistance                  4.2.1\n",
      "threadpoolctl                 2.2.0\n",
      "three-merge                   0.1.1\n",
      "tifffile                      2021.7.2\n",
      "tinycss                       0.4\n",
      "tldextract                    3.2.0\n",
      "toml                          0.10.2\n",
      "tomli                         2.0.1\n",
      "tomlkit                       0.11.1\n",
      "toolz                         0.11.2\n",
      "tornado                       6.1\n",
      "tqdm                          4.64.1\n",
      "traitlets                     5.1.1\n",
      "Twisted                       22.2.0\n",
      "twisted-iocpsupport           1.0.2\n",
      "typing_extensions             4.3.0\n",
      "ujson                         5.4.0\n",
      "Unidecode                     1.2.0\n",
      "urllib3                       1.26.11\n",
      "w3lib                         1.21.0\n",
      "watchdog                      2.1.6\n",
      "wcwidth                       0.2.5\n",
      "webencodings                  0.5.1\n",
      "websocket-client              0.58.0\n",
      "Werkzeug                      2.0.3\n",
      "wheel                         0.37.1\n",
      "widgetsnbextension            3.5.2\n",
      "win-inet-pton                 1.1.0\n",
      "win-unicode-console           0.5\n",
      "wincertstore                  0.2\n",
      "wrapt                         1.14.1\n",
      "xarray                        0.20.1\n",
      "xlrd                          2.0.1\n",
      "XlsxWriter                    3.0.3\n",
      "xlwings                       0.27.15\n",
      "yapf                          0.31.0\n",
      "zict                          2.1.0\n",
      "zipp                          3.8.0\n",
      "zope.interface                5.4.0\n"
     ]
    }
   ],
   "source": [
    "!pip list"
   ]
  },
  {
   "cell_type": "markdown",
   "metadata": {},
   "source": [
    "## How to create a basic array (=Vector)\n",
    "To create a NumPy array, you can use the function `np.array()`. All you need to do to create a simple array is pass a list to it."
   ]
  },
  {
   "cell_type": "code",
   "execution_count": 3,
   "metadata": {},
   "outputs": [
    {
     "name": "stdout",
     "output_type": "stream",
     "text": [
      "<class 'numpy.ndarray'>\n",
      "[1 2 3]\n"
     ]
    }
   ],
   "source": [
    "array = np.array([1, 2, 3])\n",
    "print(type(array))\n",
    "print(array)"
   ]
  },
  {
   "cell_type": "markdown",
   "metadata": {},
   "source": [
    "You can visualize your array this way:\n",
    "<img src=\"res/np_array.png\">\n",
    "\n",
    "### How do we get the dimension, size or shape of an array?\n",
    "- `ndarray.ndim` will tell you the number of axes, or dimensions, of the array.\n",
    "\n",
    "- `ndarray.size` will tell you the total number of elements of the array. This is the product of the elements of the array’s shape.\n",
    "\n",
    "- `ndarray.shape` will display a tuple of integers that indicate the number of elements stored along each dimension of the array. If, for example, you have a 2-D array with 2 rows and 3 columns, the shape of your array is (2, 3).\n",
    "- `ndarray.dtype` will tell you the data type. The Elements are all of the same type."
   ]
  },
  {
   "cell_type": "code",
   "execution_count": 4,
   "metadata": {},
   "outputs": [
    {
     "data": {
      "text/plain": [
       "1"
      ]
     },
     "execution_count": 4,
     "metadata": {},
     "output_type": "execute_result"
    }
   ],
   "source": [
    "array.ndim"
   ]
  },
  {
   "cell_type": "code",
   "execution_count": 5,
   "metadata": {},
   "outputs": [
    {
     "data": {
      "text/plain": [
       "3"
      ]
     },
     "execution_count": 5,
     "metadata": {},
     "output_type": "execute_result"
    }
   ],
   "source": [
    "array.size"
   ]
  },
  {
   "cell_type": "code",
   "execution_count": 6,
   "metadata": {},
   "outputs": [
    {
     "name": "stdout",
     "output_type": "stream",
     "text": [
      "<class 'tuple'>\n",
      "(3,)\n"
     ]
    }
   ],
   "source": [
    "print(type(array.shape))\n",
    "print(array.shape)"
   ]
  },
  {
   "cell_type": "code",
   "execution_count": 7,
   "metadata": {},
   "outputs": [
    {
     "data": {
      "text/plain": [
       "dtype('int32')"
      ]
     },
     "execution_count": 7,
     "metadata": {},
     "output_type": "execute_result"
    }
   ],
   "source": [
    "array.dtype"
   ]
  },
  {
   "cell_type": "markdown",
   "metadata": {},
   "source": [
    "### Intrinsic NumPy array creation functions\n",
    "- `np.zeros()` creates an array filled with 0’s\n",
    "- `np.ones()` creates an array filled with 1’s\n",
    "- `np.arange()` creates an array with a range of elements\n",
    "- `np.linspace()` creates an array with values that are spaced linearly in a specified interval "
   ]
  },
  {
   "cell_type": "code",
   "execution_count": 8,
   "metadata": {},
   "outputs": [
    {
     "name": "stdout",
     "output_type": "stream",
     "text": [
      "[0. 0.]\n",
      "\n",
      "[0. 0.]\n",
      "\n",
      "[[0. 0.]\n",
      " [0. 0.]]\n"
     ]
    }
   ],
   "source": [
    "# Return a new array of given shape and type\n",
    "print(np.zeros(2))\n",
    "print()\n",
    "\n",
    "# with tuples\n",
    "print(np.zeros((2)))\n",
    "print()\n",
    "print(np.zeros((2, 2)))"
   ]
  },
  {
   "cell_type": "code",
   "execution_count": 9,
   "metadata": {},
   "outputs": [
    {
     "name": "stdout",
     "output_type": "stream",
     "text": [
      "[1. 1.]\n",
      "\n",
      "[1. 1.]\n",
      "\n",
      "[[1. 1.]\n",
      " [1. 1.]]\n"
     ]
    }
   ],
   "source": [
    "# Return a new array of given shape and type\n",
    "print(np.ones(2))\n",
    "print()\n",
    "\n",
    "# with tuples\n",
    "print(np.ones((2)))\n",
    "print()\n",
    "print(np.ones((2, 2)))"
   ]
  },
  {
   "cell_type": "code",
   "execution_count": 10,
   "metadata": {},
   "outputs": [
    {
     "name": "stdout",
     "output_type": "stream",
     "text": [
      "[0 1 2 3 4 5 6 7 8 9]\n",
      "[3 4 5 6 7 8 9]\n",
      "[1 3 5 7 9]\n"
     ]
    }
   ],
   "source": [
    "# arange([start,] stop[, step,], dtype=None, *, like=None)\n",
    "print(np.arange(10))\n",
    "print(np.arange(3, 10))\n",
    "print(np.arange(1, 10, 2))"
   ]
  },
  {
   "cell_type": "code",
   "execution_count": 11,
   "metadata": {},
   "outputs": [
    {
     "name": "stdout",
     "output_type": "stream",
     "text": [
      "[ 1.          1.18367347  1.36734694  1.55102041  1.73469388  1.91836735\n",
      "  2.10204082  2.28571429  2.46938776  2.65306122  2.83673469  3.02040816\n",
      "  3.20408163  3.3877551   3.57142857  3.75510204  3.93877551  4.12244898\n",
      "  4.30612245  4.48979592  4.67346939  4.85714286  5.04081633  5.2244898\n",
      "  5.40816327  5.59183673  5.7755102   5.95918367  6.14285714  6.32653061\n",
      "  6.51020408  6.69387755  6.87755102  7.06122449  7.24489796  7.42857143\n",
      "  7.6122449   7.79591837  7.97959184  8.16326531  8.34693878  8.53061224\n",
      "  8.71428571  8.89795918  9.08163265  9.26530612  9.44897959  9.63265306\n",
      "  9.81632653 10.        ]\n",
      "[ 1.    3.25  5.5   7.75 10.  ]\n",
      "[ 1.   5.5 10. ]\n"
     ]
    }
   ],
   "source": [
    "#np.linspace(start,stop,num=50,endpoint=True,retstep=False,dtype=None,axis=0)\n",
    "print(np.linspace(1, 10))\n",
    "print(np.linspace(1, 10, 5))\n",
    "print(np.linspace(1, 10, 3))"
   ]
  },
  {
   "cell_type": "code",
   "execution_count": 12,
   "metadata": {},
   "outputs": [
    {
     "name": "stdout",
     "output_type": "stream",
     "text": [
      "(50,)\n"
     ]
    }
   ],
   "source": [
    "print(np.linspace(1, 10).shape) # default num is 50 by default"
   ]
  },
  {
   "cell_type": "markdown",
   "metadata": {},
   "source": [
    "### Specifying your data type\n",
    "While the default data type is floating point (`np.float64`), you can explicitly specify which data type you want using the `dtype` keyword."
   ]
  },
  {
   "cell_type": "code",
   "execution_count": 13,
   "metadata": {},
   "outputs": [],
   "source": [
    "dtype_example = np.arange(1, 10, 2, 'int8')\n",
    "dtype_example = np.arange(1, 10, 2, dtype=np.int8)"
   ]
  },
  {
   "cell_type": "code",
   "execution_count": 14,
   "metadata": {},
   "outputs": [
    {
     "name": "stdout",
     "output_type": "stream",
     "text": [
      "[1 3 5 7 9]\n",
      "int8\n"
     ]
    }
   ],
   "source": [
    "print(dtype_example)\n",
    "print(dtype_example.dtype)"
   ]
  },
  {
   "cell_type": "markdown",
   "metadata": {},
   "source": [
    "### What about reshaping an array?\n",
    "Yes, this is possible, but a little tricky! \n",
    "\n",
    ">Using `arr.reshape()` will give a new shape to an array without changing the data. Just remember that when you use the reshape method, the array you want to produce needs to have the **same number of elements** as the original array. If you start with an array with 12 elements, you’ll need to make sure that your new array also has a total of 12 elements."
   ]
  },
  {
   "cell_type": "code",
   "execution_count": 15,
   "metadata": {},
   "outputs": [
    {
     "name": "stdout",
     "output_type": "stream",
     "text": [
      "[1 2 3 4 5 6]\n"
     ]
    }
   ],
   "source": [
    "reshape_example = np.arange(1, 7)\n",
    "print(reshape_example)"
   ]
  },
  {
   "cell_type": "markdown",
   "metadata": {},
   "source": [
    "To reshape this vector in an array with three rows and two columns, use `reshape(3,2)`."
   ]
  },
  {
   "cell_type": "code",
   "execution_count": 16,
   "metadata": {},
   "outputs": [
    {
     "name": "stdout",
     "output_type": "stream",
     "text": [
      "[[1 2 3]\n",
      " [4 5 6]]\n"
     ]
    }
   ],
   "source": [
    "reshape_example = reshape_example.reshape((2, 3))\n",
    "print(reshape_example)"
   ]
  },
  {
   "cell_type": "code",
   "execution_count": 17,
   "metadata": {},
   "outputs": [
    {
     "name": "stdout",
     "output_type": "stream",
     "text": [
      "[[1 2]\n",
      " [3 4]\n",
      " [5 6]]\n"
     ]
    }
   ],
   "source": [
    "reshape_example = reshape_example.reshape((3, 2))\n",
    "print(reshape_example)"
   ]
  },
  {
   "cell_type": "markdown",
   "metadata": {},
   "source": [
    "<img src=\"res/np_reshape.png\" width=\"70%\">"
   ]
  },
  {
   "cell_type": "markdown",
   "metadata": {},
   "source": [
    "Eureka! We converted a vector into a 2D array (Matrix). To convert the array back to a vector, use `reshape` again"
   ]
  },
  {
   "cell_type": "code",
   "execution_count": 18,
   "metadata": {},
   "outputs": [
    {
     "name": "stdout",
     "output_type": "stream",
     "text": [
      "[1 2 3 4 5 6]\n"
     ]
    }
   ],
   "source": [
    "reshape_example = reshape_example.reshape((6,))\n",
    "print(reshape_example)"
   ]
  },
  {
   "cell_type": "code",
   "execution_count": 19,
   "metadata": {},
   "outputs": [
    {
     "name": "stdout",
     "output_type": "stream",
     "text": [
      "[1 2 3 4 5 6]\n"
     ]
    }
   ],
   "source": [
    "# fast and easy method to convert back to vector\n",
    "reshape_example = reshape_example.reshape(-1)\n",
    "print(reshape_example)"
   ]
  },
  {
   "cell_type": "markdown",
   "metadata": {},
   "source": [
    "### Indexing and slicing\n",
    "You can index and slice NumPy arrays in the same ways you can slice Python lists."
   ]
  },
  {
   "cell_type": "code",
   "execution_count": 20,
   "metadata": {},
   "outputs": [],
   "source": [
    "data = np.array([1, 2, 3])"
   ]
  },
  {
   "cell_type": "code",
   "execution_count": 21,
   "metadata": {},
   "outputs": [
    {
     "name": "stdout",
     "output_type": "stream",
     "text": [
      "data[-3:]: [1 2 3]\n",
      "data[-3:-2]: [1]\n",
      "data[-3:-1]: [1 2]\n",
      "data[-2:]: [2 3]\n",
      "data[-2:-1]: [2]\n",
      "data[-1:]: [3]\n",
      "data[0:1]: [1]\n",
      "data[0:2]: [1 2]\n",
      "data[0:3]: [1 2 3]\n",
      "data[1:2]: [2]\n",
      "data[1:3]: [2 3]\n",
      "data[2:3]: [3]\n"
     ]
    }
   ],
   "source": [
    "# looks more complicated that it is (it just prints every possibility)\n",
    "\n",
    "for i in range(-len(data), len(data) + 1):\n",
    "    other_i = True\n",
    "    for j in range(-len(data), len(data) + 1):\n",
    "        if i < 0 and other_i:\n",
    "            print(f\"data[{i}:]: {data[i:]}\")\n",
    "            other_i = False\n",
    "        if i < j:\n",
    "            if i < 0 and j >= 0: continue\n",
    "            print(f\"data[{i}:{j}]: {data[i:j]}\")  "
   ]
  },
  {
   "cell_type": "markdown",
   "metadata": {},
   "source": [
    "<img src=\"res/np_indexing.png\">"
   ]
  },
  {
   "cell_type": "markdown",
   "metadata": {},
   "source": [
    "## Basic array operations\n",
    "### Broadcasting\n",
    "There are times when you might want to carry out an operation between an array and a single number (also called an operation between a vector and a scalar). For example, your array (we’ll call it “data”) might contain information about distance in miles but you want to convert the information to kilometers. You can perform this operation with:"
   ]
  },
  {
   "cell_type": "code",
   "execution_count": 9,
   "metadata": {},
   "outputs": [
    {
     "data": {
      "text/plain": [
       "array([[[[1.00000000e+00, 1.10090090e+01, 2.10180180e+01,\n",
       "          3.10270270e+01, 4.10360360e+01, 5.10450450e+01,\n",
       "          6.10540541e+01, 7.10630631e+01, 8.10720721e+01,\n",
       "          9.10810811e+01],\n",
       "         [1.01090090e+02, 1.11099099e+02, 1.21108108e+02,\n",
       "          1.31117117e+02, 1.41126126e+02, 1.51135135e+02,\n",
       "          1.61144144e+02, 1.71153153e+02, 1.81162162e+02,\n",
       "          1.91171171e+02],\n",
       "         [2.01180180e+02, 2.11189189e+02, 2.21198198e+02,\n",
       "          2.31207207e+02, 2.41216216e+02, 2.51225225e+02,\n",
       "          2.61234234e+02, 2.71243243e+02, 2.81252252e+02,\n",
       "          2.91261261e+02],\n",
       "         [3.01270270e+02, 3.11279279e+02, 3.21288288e+02,\n",
       "          3.31297297e+02, 3.41306306e+02, 3.51315315e+02,\n",
       "          3.61324324e+02, 3.71333333e+02, 3.81342342e+02,\n",
       "          3.91351351e+02],\n",
       "         [4.01360360e+02, 4.11369369e+02, 4.21378378e+02,\n",
       "          4.31387387e+02, 4.41396396e+02, 4.51405405e+02,\n",
       "          4.61414414e+02, 4.71423423e+02, 4.81432432e+02,\n",
       "          4.91441441e+02],\n",
       "         [5.01450450e+02, 5.11459459e+02, 5.21468468e+02,\n",
       "          5.31477477e+02, 5.41486486e+02, 5.51495495e+02,\n",
       "          5.61504505e+02, 5.71513514e+02, 5.81522523e+02,\n",
       "          5.91531532e+02],\n",
       "         [6.01540541e+02, 6.11549550e+02, 6.21558559e+02,\n",
       "          6.31567568e+02, 6.41576577e+02, 6.51585586e+02,\n",
       "          6.61594595e+02, 6.71603604e+02, 6.81612613e+02,\n",
       "          6.91621622e+02],\n",
       "         [7.01630631e+02, 7.11639640e+02, 7.21648649e+02,\n",
       "          7.31657658e+02, 7.41666667e+02, 7.51675676e+02,\n",
       "          7.61684685e+02, 7.71693694e+02, 7.81702703e+02,\n",
       "          7.91711712e+02],\n",
       "         [8.01720721e+02, 8.11729730e+02, 8.21738739e+02,\n",
       "          8.31747748e+02, 8.41756757e+02, 8.51765766e+02,\n",
       "          8.61774775e+02, 8.71783784e+02, 8.81792793e+02,\n",
       "          8.91801802e+02],\n",
       "         [9.01810811e+02, 9.11819820e+02, 9.21828829e+02,\n",
       "          9.31837838e+02, 9.41846847e+02, 9.51855856e+02,\n",
       "          9.61864865e+02, 9.71873874e+02, 9.81882883e+02,\n",
       "          9.91891892e+02]],\n",
       "\n",
       "        [[1.00190090e+03, 1.01190991e+03, 1.02191892e+03,\n",
       "          1.03192793e+03, 1.04193694e+03, 1.05194595e+03,\n",
       "          1.06195495e+03, 1.07196396e+03, 1.08197297e+03,\n",
       "          1.09198198e+03],\n",
       "         [1.10199099e+03, 1.11200000e+03, 1.12200901e+03,\n",
       "          1.13201802e+03, 1.14202703e+03, 1.15203604e+03,\n",
       "          1.16204505e+03, 1.17205405e+03, 1.18206306e+03,\n",
       "          1.19207207e+03],\n",
       "         [1.20208108e+03, 1.21209009e+03, 1.22209910e+03,\n",
       "          1.23210811e+03, 1.24211712e+03, 1.25212613e+03,\n",
       "          1.26213514e+03, 1.27214414e+03, 1.28215315e+03,\n",
       "          1.29216216e+03],\n",
       "         [1.30217117e+03, 1.31218018e+03, 1.32218919e+03,\n",
       "          1.33219820e+03, 1.34220721e+03, 1.35221622e+03,\n",
       "          1.36222523e+03, 1.37223423e+03, 1.38224324e+03,\n",
       "          1.39225225e+03],\n",
       "         [1.40226126e+03, 1.41227027e+03, 1.42227928e+03,\n",
       "          1.43228829e+03, 1.44229730e+03, 1.45230631e+03,\n",
       "          1.46231532e+03, 1.47232432e+03, 1.48233333e+03,\n",
       "          1.49234234e+03],\n",
       "         [1.50235135e+03, 1.51236036e+03, 1.52236937e+03,\n",
       "          1.53237838e+03, 1.54238739e+03, 1.55239640e+03,\n",
       "          1.56240541e+03, 1.57241441e+03, 1.58242342e+03,\n",
       "          1.59243243e+03],\n",
       "         [1.60244144e+03, 1.61245045e+03, 1.62245946e+03,\n",
       "          1.63246847e+03, 1.64247748e+03, 1.65248649e+03,\n",
       "          1.66249550e+03, 1.67250450e+03, 1.68251351e+03,\n",
       "          1.69252252e+03],\n",
       "         [1.70253153e+03, 1.71254054e+03, 1.72254955e+03,\n",
       "          1.73255856e+03, 1.74256757e+03, 1.75257658e+03,\n",
       "          1.76258559e+03, 1.77259459e+03, 1.78260360e+03,\n",
       "          1.79261261e+03],\n",
       "         [1.80262162e+03, 1.81263063e+03, 1.82263964e+03,\n",
       "          1.83264865e+03, 1.84265766e+03, 1.85266667e+03,\n",
       "          1.86267568e+03, 1.87268468e+03, 1.88269369e+03,\n",
       "          1.89270270e+03],\n",
       "         [1.90271171e+03, 1.91272072e+03, 1.92272973e+03,\n",
       "          1.93273874e+03, 1.94274775e+03, 1.95275676e+03,\n",
       "          1.96276577e+03, 1.97277477e+03, 1.98278378e+03,\n",
       "          1.99279279e+03]],\n",
       "\n",
       "        [[2.00280180e+03, 2.01281081e+03, 2.02281982e+03,\n",
       "          2.03282883e+03, 2.04283784e+03, 2.05284685e+03,\n",
       "          2.06285586e+03, 2.07286486e+03, 2.08287387e+03,\n",
       "          2.09288288e+03],\n",
       "         [2.10289189e+03, 2.11290090e+03, 2.12290991e+03,\n",
       "          2.13291892e+03, 2.14292793e+03, 2.15293694e+03,\n",
       "          2.16294595e+03, 2.17295495e+03, 2.18296396e+03,\n",
       "          2.19297297e+03],\n",
       "         [2.20298198e+03, 2.21299099e+03, 2.22300000e+03,\n",
       "          2.23300901e+03, 2.24301802e+03, 2.25302703e+03,\n",
       "          2.26303604e+03, 2.27304505e+03, 2.28305405e+03,\n",
       "          2.29306306e+03],\n",
       "         [2.30307207e+03, 2.31308108e+03, 2.32309009e+03,\n",
       "          2.33309910e+03, 2.34310811e+03, 2.35311712e+03,\n",
       "          2.36312613e+03, 2.37313514e+03, 2.38314414e+03,\n",
       "          2.39315315e+03],\n",
       "         [2.40316216e+03, 2.41317117e+03, 2.42318018e+03,\n",
       "          2.43318919e+03, 2.44319820e+03, 2.45320721e+03,\n",
       "          2.46321622e+03, 2.47322523e+03, 2.48323423e+03,\n",
       "          2.49324324e+03],\n",
       "         [2.50325225e+03, 2.51326126e+03, 2.52327027e+03,\n",
       "          2.53327928e+03, 2.54328829e+03, 2.55329730e+03,\n",
       "          2.56330631e+03, 2.57331532e+03, 2.58332432e+03,\n",
       "          2.59333333e+03],\n",
       "         [2.60334234e+03, 2.61335135e+03, 2.62336036e+03,\n",
       "          2.63336937e+03, 2.64337838e+03, 2.65338739e+03,\n",
       "          2.66339640e+03, 2.67340541e+03, 2.68341441e+03,\n",
       "          2.69342342e+03],\n",
       "         [2.70343243e+03, 2.71344144e+03, 2.72345045e+03,\n",
       "          2.73345946e+03, 2.74346847e+03, 2.75347748e+03,\n",
       "          2.76348649e+03, 2.77349550e+03, 2.78350450e+03,\n",
       "          2.79351351e+03],\n",
       "         [2.80352252e+03, 2.81353153e+03, 2.82354054e+03,\n",
       "          2.83354955e+03, 2.84355856e+03, 2.85356757e+03,\n",
       "          2.86357658e+03, 2.87358559e+03, 2.88359459e+03,\n",
       "          2.89360360e+03],\n",
       "         [2.90361261e+03, 2.91362162e+03, 2.92363063e+03,\n",
       "          2.93363964e+03, 2.94364865e+03, 2.95365766e+03,\n",
       "          2.96366667e+03, 2.97367568e+03, 2.98368468e+03,\n",
       "          2.99369369e+03]],\n",
       "\n",
       "        [[3.00370270e+03, 3.01371171e+03, 3.02372072e+03,\n",
       "          3.03372973e+03, 3.04373874e+03, 3.05374775e+03,\n",
       "          3.06375676e+03, 3.07376577e+03, 3.08377477e+03,\n",
       "          3.09378378e+03],\n",
       "         [3.10379279e+03, 3.11380180e+03, 3.12381081e+03,\n",
       "          3.13381982e+03, 3.14382883e+03, 3.15383784e+03,\n",
       "          3.16384685e+03, 3.17385586e+03, 3.18386486e+03,\n",
       "          3.19387387e+03],\n",
       "         [3.20388288e+03, 3.21389189e+03, 3.22390090e+03,\n",
       "          3.23390991e+03, 3.24391892e+03, 3.25392793e+03,\n",
       "          3.26393694e+03, 3.27394595e+03, 3.28395495e+03,\n",
       "          3.29396396e+03],\n",
       "         [3.30397297e+03, 3.31398198e+03, 3.32399099e+03,\n",
       "          3.33400000e+03, 3.34400901e+03, 3.35401802e+03,\n",
       "          3.36402703e+03, 3.37403604e+03, 3.38404505e+03,\n",
       "          3.39405405e+03],\n",
       "         [3.40406306e+03, 3.41407207e+03, 3.42408108e+03,\n",
       "          3.43409009e+03, 3.44409910e+03, 3.45410811e+03,\n",
       "          3.46411712e+03, 3.47412613e+03, 3.48413514e+03,\n",
       "          3.49414414e+03],\n",
       "         [3.50415315e+03, 3.51416216e+03, 3.52417117e+03,\n",
       "          3.53418018e+03, 3.54418919e+03, 3.55419820e+03,\n",
       "          3.56420721e+03, 3.57421622e+03, 3.58422523e+03,\n",
       "          3.59423423e+03],\n",
       "         [3.60424324e+03, 3.61425225e+03, 3.62426126e+03,\n",
       "          3.63427027e+03, 3.64427928e+03, 3.65428829e+03,\n",
       "          3.66429730e+03, 3.67430631e+03, 3.68431532e+03,\n",
       "          3.69432432e+03],\n",
       "         [3.70433333e+03, 3.71434234e+03, 3.72435135e+03,\n",
       "          3.73436036e+03, 3.74436937e+03, 3.75437838e+03,\n",
       "          3.76438739e+03, 3.77439640e+03, 3.78440541e+03,\n",
       "          3.79441441e+03],\n",
       "         [3.80442342e+03, 3.81443243e+03, 3.82444144e+03,\n",
       "          3.83445045e+03, 3.84445946e+03, 3.85446847e+03,\n",
       "          3.86447748e+03, 3.87448649e+03, 3.88449550e+03,\n",
       "          3.89450450e+03],\n",
       "         [3.90451351e+03, 3.91452252e+03, 3.92453153e+03,\n",
       "          3.93454054e+03, 3.94454955e+03, 3.95455856e+03,\n",
       "          3.96456757e+03, 3.97457658e+03, 3.98458559e+03,\n",
       "          3.99459459e+03]],\n",
       "\n",
       "        [[4.00460360e+03, 4.01461261e+03, 4.02462162e+03,\n",
       "          4.03463063e+03, 4.04463964e+03, 4.05464865e+03,\n",
       "          4.06465766e+03, 4.07466667e+03, 4.08467568e+03,\n",
       "          4.09468468e+03],\n",
       "         [4.10469369e+03, 4.11470270e+03, 4.12471171e+03,\n",
       "          4.13472072e+03, 4.14472973e+03, 4.15473874e+03,\n",
       "          4.16474775e+03, 4.17475676e+03, 4.18476577e+03,\n",
       "          4.19477477e+03],\n",
       "         [4.20478378e+03, 4.21479279e+03, 4.22480180e+03,\n",
       "          4.23481081e+03, 4.24481982e+03, 4.25482883e+03,\n",
       "          4.26483784e+03, 4.27484685e+03, 4.28485586e+03,\n",
       "          4.29486486e+03],\n",
       "         [4.30487387e+03, 4.31488288e+03, 4.32489189e+03,\n",
       "          4.33490090e+03, 4.34490991e+03, 4.35491892e+03,\n",
       "          4.36492793e+03, 4.37493694e+03, 4.38494595e+03,\n",
       "          4.39495495e+03],\n",
       "         [4.40496396e+03, 4.41497297e+03, 4.42498198e+03,\n",
       "          4.43499099e+03, 4.44500000e+03, 4.45500901e+03,\n",
       "          4.46501802e+03, 4.47502703e+03, 4.48503604e+03,\n",
       "          4.49504505e+03],\n",
       "         [4.50505405e+03, 4.51506306e+03, 4.52507207e+03,\n",
       "          4.53508108e+03, 4.54509009e+03, 4.55509910e+03,\n",
       "          4.56510811e+03, 4.57511712e+03, 4.58512613e+03,\n",
       "          4.59513514e+03],\n",
       "         [4.60514414e+03, 4.61515315e+03, 4.62516216e+03,\n",
       "          4.63517117e+03, 4.64518018e+03, 4.65518919e+03,\n",
       "          4.66519820e+03, 4.67520721e+03, 4.68521622e+03,\n",
       "          4.69522523e+03],\n",
       "         [4.70523423e+03, 4.71524324e+03, 4.72525225e+03,\n",
       "          4.73526126e+03, 4.74527027e+03, 4.75527928e+03,\n",
       "          4.76528829e+03, 4.77529730e+03, 4.78530631e+03,\n",
       "          4.79531532e+03],\n",
       "         [4.80532432e+03, 4.81533333e+03, 4.82534234e+03,\n",
       "          4.83535135e+03, 4.84536036e+03, 4.85536937e+03,\n",
       "          4.86537838e+03, 4.87538739e+03, 4.88539640e+03,\n",
       "          4.89540541e+03],\n",
       "         [4.90541441e+03, 4.91542342e+03, 4.92543243e+03,\n",
       "          4.93544144e+03, 4.94545045e+03, 4.95545946e+03,\n",
       "          4.96546847e+03, 4.97547748e+03, 4.98548649e+03,\n",
       "          4.99549550e+03]]],\n",
       "\n",
       "\n",
       "       [[[5.00550450e+03, 5.01551351e+03, 5.02552252e+03,\n",
       "          5.03553153e+03, 5.04554054e+03, 5.05554955e+03,\n",
       "          5.06555856e+03, 5.07556757e+03, 5.08557658e+03,\n",
       "          5.09558559e+03],\n",
       "         [5.10559459e+03, 5.11560360e+03, 5.12561261e+03,\n",
       "          5.13562162e+03, 5.14563063e+03, 5.15563964e+03,\n",
       "          5.16564865e+03, 5.17565766e+03, 5.18566667e+03,\n",
       "          5.19567568e+03],\n",
       "         [5.20568468e+03, 5.21569369e+03, 5.22570270e+03,\n",
       "          5.23571171e+03, 5.24572072e+03, 5.25572973e+03,\n",
       "          5.26573874e+03, 5.27574775e+03, 5.28575676e+03,\n",
       "          5.29576577e+03],\n",
       "         [5.30577477e+03, 5.31578378e+03, 5.32579279e+03,\n",
       "          5.33580180e+03, 5.34581081e+03, 5.35581982e+03,\n",
       "          5.36582883e+03, 5.37583784e+03, 5.38584685e+03,\n",
       "          5.39585586e+03],\n",
       "         [5.40586486e+03, 5.41587387e+03, 5.42588288e+03,\n",
       "          5.43589189e+03, 5.44590090e+03, 5.45590991e+03,\n",
       "          5.46591892e+03, 5.47592793e+03, 5.48593694e+03,\n",
       "          5.49594595e+03],\n",
       "         [5.50595495e+03, 5.51596396e+03, 5.52597297e+03,\n",
       "          5.53598198e+03, 5.54599099e+03, 5.55600000e+03,\n",
       "          5.56600901e+03, 5.57601802e+03, 5.58602703e+03,\n",
       "          5.59603604e+03],\n",
       "         [5.60604505e+03, 5.61605405e+03, 5.62606306e+03,\n",
       "          5.63607207e+03, 5.64608108e+03, 5.65609009e+03,\n",
       "          5.66609910e+03, 5.67610811e+03, 5.68611712e+03,\n",
       "          5.69612613e+03],\n",
       "         [5.70613514e+03, 5.71614414e+03, 5.72615315e+03,\n",
       "          5.73616216e+03, 5.74617117e+03, 5.75618018e+03,\n",
       "          5.76618919e+03, 5.77619820e+03, 5.78620721e+03,\n",
       "          5.79621622e+03],\n",
       "         [5.80622523e+03, 5.81623423e+03, 5.82624324e+03,\n",
       "          5.83625225e+03, 5.84626126e+03, 5.85627027e+03,\n",
       "          5.86627928e+03, 5.87628829e+03, 5.88629730e+03,\n",
       "          5.89630631e+03],\n",
       "         [5.90631532e+03, 5.91632432e+03, 5.92633333e+03,\n",
       "          5.93634234e+03, 5.94635135e+03, 5.95636036e+03,\n",
       "          5.96636937e+03, 5.97637838e+03, 5.98638739e+03,\n",
       "          5.99639640e+03]],\n",
       "\n",
       "        [[6.00640541e+03, 6.01641441e+03, 6.02642342e+03,\n",
       "          6.03643243e+03, 6.04644144e+03, 6.05645045e+03,\n",
       "          6.06645946e+03, 6.07646847e+03, 6.08647748e+03,\n",
       "          6.09648649e+03],\n",
       "         [6.10649550e+03, 6.11650450e+03, 6.12651351e+03,\n",
       "          6.13652252e+03, 6.14653153e+03, 6.15654054e+03,\n",
       "          6.16654955e+03, 6.17655856e+03, 6.18656757e+03,\n",
       "          6.19657658e+03],\n",
       "         [6.20658559e+03, 6.21659459e+03, 6.22660360e+03,\n",
       "          6.23661261e+03, 6.24662162e+03, 6.25663063e+03,\n",
       "          6.26663964e+03, 6.27664865e+03, 6.28665766e+03,\n",
       "          6.29666667e+03],\n",
       "         [6.30667568e+03, 6.31668468e+03, 6.32669369e+03,\n",
       "          6.33670270e+03, 6.34671171e+03, 6.35672072e+03,\n",
       "          6.36672973e+03, 6.37673874e+03, 6.38674775e+03,\n",
       "          6.39675676e+03],\n",
       "         [6.40676577e+03, 6.41677477e+03, 6.42678378e+03,\n",
       "          6.43679279e+03, 6.44680180e+03, 6.45681081e+03,\n",
       "          6.46681982e+03, 6.47682883e+03, 6.48683784e+03,\n",
       "          6.49684685e+03],\n",
       "         [6.50685586e+03, 6.51686486e+03, 6.52687387e+03,\n",
       "          6.53688288e+03, 6.54689189e+03, 6.55690090e+03,\n",
       "          6.56690991e+03, 6.57691892e+03, 6.58692793e+03,\n",
       "          6.59693694e+03],\n",
       "         [6.60694595e+03, 6.61695495e+03, 6.62696396e+03,\n",
       "          6.63697297e+03, 6.64698198e+03, 6.65699099e+03,\n",
       "          6.66700000e+03, 6.67700901e+03, 6.68701802e+03,\n",
       "          6.69702703e+03],\n",
       "         [6.70703604e+03, 6.71704505e+03, 6.72705405e+03,\n",
       "          6.73706306e+03, 6.74707207e+03, 6.75708108e+03,\n",
       "          6.76709009e+03, 6.77709910e+03, 6.78710811e+03,\n",
       "          6.79711712e+03],\n",
       "         [6.80712613e+03, 6.81713514e+03, 6.82714414e+03,\n",
       "          6.83715315e+03, 6.84716216e+03, 6.85717117e+03,\n",
       "          6.86718018e+03, 6.87718919e+03, 6.88719820e+03,\n",
       "          6.89720721e+03],\n",
       "         [6.90721622e+03, 6.91722523e+03, 6.92723423e+03,\n",
       "          6.93724324e+03, 6.94725225e+03, 6.95726126e+03,\n",
       "          6.96727027e+03, 6.97727928e+03, 6.98728829e+03,\n",
       "          6.99729730e+03]],\n",
       "\n",
       "        [[7.00730631e+03, 7.01731532e+03, 7.02732432e+03,\n",
       "          7.03733333e+03, 7.04734234e+03, 7.05735135e+03,\n",
       "          7.06736036e+03, 7.07736937e+03, 7.08737838e+03,\n",
       "          7.09738739e+03],\n",
       "         [7.10739640e+03, 7.11740541e+03, 7.12741441e+03,\n",
       "          7.13742342e+03, 7.14743243e+03, 7.15744144e+03,\n",
       "          7.16745045e+03, 7.17745946e+03, 7.18746847e+03,\n",
       "          7.19747748e+03],\n",
       "         [7.20748649e+03, 7.21749550e+03, 7.22750450e+03,\n",
       "          7.23751351e+03, 7.24752252e+03, 7.25753153e+03,\n",
       "          7.26754054e+03, 7.27754955e+03, 7.28755856e+03,\n",
       "          7.29756757e+03],\n",
       "         [7.30757658e+03, 7.31758559e+03, 7.32759459e+03,\n",
       "          7.33760360e+03, 7.34761261e+03, 7.35762162e+03,\n",
       "          7.36763063e+03, 7.37763964e+03, 7.38764865e+03,\n",
       "          7.39765766e+03],\n",
       "         [7.40766667e+03, 7.41767568e+03, 7.42768468e+03,\n",
       "          7.43769369e+03, 7.44770270e+03, 7.45771171e+03,\n",
       "          7.46772072e+03, 7.47772973e+03, 7.48773874e+03,\n",
       "          7.49774775e+03],\n",
       "         [7.50775676e+03, 7.51776577e+03, 7.52777477e+03,\n",
       "          7.53778378e+03, 7.54779279e+03, 7.55780180e+03,\n",
       "          7.56781081e+03, 7.57781982e+03, 7.58782883e+03,\n",
       "          7.59783784e+03],\n",
       "         [7.60784685e+03, 7.61785586e+03, 7.62786486e+03,\n",
       "          7.63787387e+03, 7.64788288e+03, 7.65789189e+03,\n",
       "          7.66790090e+03, 7.67790991e+03, 7.68791892e+03,\n",
       "          7.69792793e+03],\n",
       "         [7.70793694e+03, 7.71794595e+03, 7.72795495e+03,\n",
       "          7.73796396e+03, 7.74797297e+03, 7.75798198e+03,\n",
       "          7.76799099e+03, 7.77800000e+03, 7.78800901e+03,\n",
       "          7.79801802e+03],\n",
       "         [7.80802703e+03, 7.81803604e+03, 7.82804505e+03,\n",
       "          7.83805405e+03, 7.84806306e+03, 7.85807207e+03,\n",
       "          7.86808108e+03, 7.87809009e+03, 7.88809910e+03,\n",
       "          7.89810811e+03],\n",
       "         [7.90811712e+03, 7.91812613e+03, 7.92813514e+03,\n",
       "          7.93814414e+03, 7.94815315e+03, 7.95816216e+03,\n",
       "          7.96817117e+03, 7.97818018e+03, 7.98818919e+03,\n",
       "          7.99819820e+03]],\n",
       "\n",
       "        [[8.00820721e+03, 8.01821622e+03, 8.02822523e+03,\n",
       "          8.03823423e+03, 8.04824324e+03, 8.05825225e+03,\n",
       "          8.06826126e+03, 8.07827027e+03, 8.08827928e+03,\n",
       "          8.09828829e+03],\n",
       "         [8.10829730e+03, 8.11830631e+03, 8.12831532e+03,\n",
       "          8.13832432e+03, 8.14833333e+03, 8.15834234e+03,\n",
       "          8.16835135e+03, 8.17836036e+03, 8.18836937e+03,\n",
       "          8.19837838e+03],\n",
       "         [8.20838739e+03, 8.21839640e+03, 8.22840541e+03,\n",
       "          8.23841441e+03, 8.24842342e+03, 8.25843243e+03,\n",
       "          8.26844144e+03, 8.27845045e+03, 8.28845946e+03,\n",
       "          8.29846847e+03],\n",
       "         [8.30847748e+03, 8.31848649e+03, 8.32849550e+03,\n",
       "          8.33850450e+03, 8.34851351e+03, 8.35852252e+03,\n",
       "          8.36853153e+03, 8.37854054e+03, 8.38854955e+03,\n",
       "          8.39855856e+03],\n",
       "         [8.40856757e+03, 8.41857658e+03, 8.42858559e+03,\n",
       "          8.43859459e+03, 8.44860360e+03, 8.45861261e+03,\n",
       "          8.46862162e+03, 8.47863063e+03, 8.48863964e+03,\n",
       "          8.49864865e+03],\n",
       "         [8.50865766e+03, 8.51866667e+03, 8.52867568e+03,\n",
       "          8.53868468e+03, 8.54869369e+03, 8.55870270e+03,\n",
       "          8.56871171e+03, 8.57872072e+03, 8.58872973e+03,\n",
       "          8.59873874e+03],\n",
       "         [8.60874775e+03, 8.61875676e+03, 8.62876577e+03,\n",
       "          8.63877477e+03, 8.64878378e+03, 8.65879279e+03,\n",
       "          8.66880180e+03, 8.67881081e+03, 8.68881982e+03,\n",
       "          8.69882883e+03],\n",
       "         [8.70883784e+03, 8.71884685e+03, 8.72885586e+03,\n",
       "          8.73886486e+03, 8.74887387e+03, 8.75888288e+03,\n",
       "          8.76889189e+03, 8.77890090e+03, 8.78890991e+03,\n",
       "          8.79891892e+03],\n",
       "         [8.80892793e+03, 8.81893694e+03, 8.82894595e+03,\n",
       "          8.83895495e+03, 8.84896396e+03, 8.85897297e+03,\n",
       "          8.86898198e+03, 8.87899099e+03, 8.88900000e+03,\n",
       "          8.89900901e+03],\n",
       "         [8.90901802e+03, 8.91902703e+03, 8.92903604e+03,\n",
       "          8.93904505e+03, 8.94905405e+03, 8.95906306e+03,\n",
       "          8.96907207e+03, 8.97908108e+03, 8.98909009e+03,\n",
       "          8.99909910e+03]],\n",
       "\n",
       "        [[9.00910811e+03, 9.01911712e+03, 9.02912613e+03,\n",
       "          9.03913514e+03, 9.04914414e+03, 9.05915315e+03,\n",
       "          9.06916216e+03, 9.07917117e+03, 9.08918018e+03,\n",
       "          9.09918919e+03],\n",
       "         [9.10919820e+03, 9.11920721e+03, 9.12921622e+03,\n",
       "          9.13922523e+03, 9.14923423e+03, 9.15924324e+03,\n",
       "          9.16925225e+03, 9.17926126e+03, 9.18927027e+03,\n",
       "          9.19927928e+03],\n",
       "         [9.20928829e+03, 9.21929730e+03, 9.22930631e+03,\n",
       "          9.23931532e+03, 9.24932432e+03, 9.25933333e+03,\n",
       "          9.26934234e+03, 9.27935135e+03, 9.28936036e+03,\n",
       "          9.29936937e+03],\n",
       "         [9.30937838e+03, 9.31938739e+03, 9.32939640e+03,\n",
       "          9.33940541e+03, 9.34941441e+03, 9.35942342e+03,\n",
       "          9.36943243e+03, 9.37944144e+03, 9.38945045e+03,\n",
       "          9.39945946e+03],\n",
       "         [9.40946847e+03, 9.41947748e+03, 9.42948649e+03,\n",
       "          9.43949550e+03, 9.44950450e+03, 9.45951351e+03,\n",
       "          9.46952252e+03, 9.47953153e+03, 9.48954054e+03,\n",
       "          9.49954955e+03],\n",
       "         [9.50955856e+03, 9.51956757e+03, 9.52957658e+03,\n",
       "          9.53958559e+03, 9.54959459e+03, 9.55960360e+03,\n",
       "          9.56961261e+03, 9.57962162e+03, 9.58963063e+03,\n",
       "          9.59963964e+03],\n",
       "         [9.60964865e+03, 9.61965766e+03, 9.62966667e+03,\n",
       "          9.63967568e+03, 9.64968468e+03, 9.65969369e+03,\n",
       "          9.66970270e+03, 9.67971171e+03, 9.68972072e+03,\n",
       "          9.69972973e+03],\n",
       "         [9.70973874e+03, 9.71974775e+03, 9.72975676e+03,\n",
       "          9.73976577e+03, 9.74977477e+03, 9.75978378e+03,\n",
       "          9.76979279e+03, 9.77980180e+03, 9.78981081e+03,\n",
       "          9.79981982e+03],\n",
       "         [9.80982883e+03, 9.81983784e+03, 9.82984685e+03,\n",
       "          9.83985586e+03, 9.84986486e+03, 9.85987387e+03,\n",
       "          9.86988288e+03, 9.87989189e+03, 9.88990090e+03,\n",
       "          9.89990991e+03],\n",
       "         [9.90991892e+03, 9.91992793e+03, 9.92993694e+03,\n",
       "          9.93994595e+03, 9.94995495e+03, 9.95996396e+03,\n",
       "          9.96997297e+03, 9.97998198e+03, 9.98999099e+03,\n",
       "          1.00000000e+04]]]])"
      ]
     },
     "execution_count": 9,
     "metadata": {},
     "output_type": "execute_result"
    }
   ],
   "source": [
    "data = np.array([1.0, 2.0])\n",
    "\n",
    "data * 1.6\n",
    "\n",
    "data = np.linspace(1, 10000, 1000).reshape(2, 5, 10, -1)\n",
    "data"
   ]
  },
  {
   "cell_type": "markdown",
   "metadata": {},
   "source": [
    "<img src=\"res/np_multiply_broadcasting.png\">"
   ]
  },
  {
   "cell_type": "markdown",
   "metadata": {},
   "source": [
    "### Addition, subtraction, multiplication, division, and more"
   ]
  },
  {
   "cell_type": "code",
   "execution_count": 23,
   "metadata": {},
   "outputs": [],
   "source": [
    "data = np.array([1, 2])\n",
    "ones = np.ones(2, dtype=int)"
   ]
  },
  {
   "cell_type": "markdown",
   "metadata": {},
   "source": [
    "<img src=\"res/np_data_plus_ones.png\">"
   ]
  },
  {
   "cell_type": "code",
   "execution_count": 24,
   "metadata": {},
   "outputs": [
    {
     "data": {
      "text/plain": [
       "array([2, 3])"
      ]
     },
     "execution_count": 24,
     "metadata": {},
     "output_type": "execute_result"
    }
   ],
   "source": [
    "data + ones"
   ]
  },
  {
   "cell_type": "code",
   "execution_count": 25,
   "metadata": {},
   "outputs": [
    {
     "data": {
      "text/plain": [
       "array([0, 1])"
      ]
     },
     "execution_count": 25,
     "metadata": {},
     "output_type": "execute_result"
    }
   ],
   "source": [
    "data - ones"
   ]
  },
  {
   "cell_type": "code",
   "execution_count": 26,
   "metadata": {},
   "outputs": [
    {
     "data": {
      "text/plain": [
       "array([1, 2])"
      ]
     },
     "execution_count": 26,
     "metadata": {},
     "output_type": "execute_result"
    }
   ],
   "source": [
    "data * ones"
   ]
  },
  {
   "cell_type": "code",
   "execution_count": 27,
   "metadata": {},
   "outputs": [
    {
     "data": {
      "text/plain": [
       "array([1., 1.])"
      ]
     },
     "execution_count": 27,
     "metadata": {},
     "output_type": "execute_result"
    }
   ],
   "source": [
    "data / data"
   ]
  },
  {
   "cell_type": "markdown",
   "metadata": {},
   "source": [
    "<img src=\"res/np_sub_mult_divide.png\">"
   ]
  },
  {
   "cell_type": "markdown",
   "metadata": {},
   "source": [
    "### More useful array operations"
   ]
  },
  {
   "cell_type": "code",
   "execution_count": 28,
   "metadata": {},
   "outputs": [],
   "source": [
    "data = np.array([1, 2, 3])"
   ]
  },
  {
   "cell_type": "code",
   "execution_count": 29,
   "metadata": {},
   "outputs": [
    {
     "data": {
      "text/plain": [
       "3"
      ]
     },
     "execution_count": 29,
     "metadata": {},
     "output_type": "execute_result"
    }
   ],
   "source": [
    "data.max()"
   ]
  },
  {
   "cell_type": "code",
   "execution_count": 30,
   "metadata": {},
   "outputs": [
    {
     "data": {
      "text/plain": [
       "1"
      ]
     },
     "execution_count": 30,
     "metadata": {},
     "output_type": "execute_result"
    }
   ],
   "source": [
    "data.min()"
   ]
  },
  {
   "cell_type": "code",
   "execution_count": 31,
   "metadata": {},
   "outputs": [
    {
     "data": {
      "text/plain": [
       "6"
      ]
     },
     "execution_count": 31,
     "metadata": {},
     "output_type": "execute_result"
    }
   ],
   "source": [
    "data.sum()"
   ]
  },
  {
   "cell_type": "code",
   "execution_count": 32,
   "metadata": {},
   "outputs": [],
   "source": [
    "# doesn't work unfortunately\n",
    "# data.average()"
   ]
  },
  {
   "cell_type": "markdown",
   "metadata": {},
   "source": [
    "<img src=\"res/np_aggregation.png\">"
   ]
  },
  {
   "cell_type": "markdown",
   "metadata": {},
   "source": [
    "## Creating 2D arrays (matrices)\n",
    "You can pass Python lists of lists to create a 2-D array (or “matrix”) to represent them in NumPy."
   ]
  },
  {
   "cell_type": "code",
   "execution_count": 33,
   "metadata": {},
   "outputs": [
    {
     "name": "stdout",
     "output_type": "stream",
     "text": [
      "[[1 2]\n",
      " [3 4]\n",
      " [5 6]]\n"
     ]
    }
   ],
   "source": [
    "data = np.arange(1, 7).reshape(3, 2)\n",
    "print(data)"
   ]
  },
  {
   "cell_type": "markdown",
   "metadata": {},
   "source": [
    "<img src=\"res/np_create_matrix.png\" width=\"90%\">"
   ]
  },
  {
   "cell_type": "markdown",
   "metadata": {},
   "source": [
    "### Indexing and slicing operations "
   ]
  },
  {
   "cell_type": "code",
   "execution_count": 34,
   "metadata": {},
   "outputs": [
    {
     "name": "stdout",
     "output_type": "stream",
     "text": [
      "2\n"
     ]
    }
   ],
   "source": [
    "# filter a value with their indices\n",
    "print(data[0,1])"
   ]
  },
  {
   "cell_type": "code",
   "execution_count": 35,
   "metadata": {},
   "outputs": [
    {
     "name": "stdout",
     "output_type": "stream",
     "text": [
      "[[3 4]\n",
      " [5 6]]\n",
      "[[3 4]\n",
      " [5 6]]\n"
     ]
    }
   ],
   "source": [
    "print(data[1:3])\n",
    "print(data[1:3,:]) # little bit more difficult"
   ]
  },
  {
   "cell_type": "code",
   "execution_count": 36,
   "metadata": {},
   "outputs": [
    {
     "name": "stdout",
     "output_type": "stream",
     "text": [
      "[1 3]\n",
      "[4 6]\n"
     ]
    }
   ],
   "source": [
    "print(data[0:2,0])\n",
    "print(data[1:,1])"
   ]
  },
  {
   "cell_type": "markdown",
   "metadata": {},
   "source": [
    "<img src=\"res/np_matrix_indexing.png\">"
   ]
  },
  {
   "cell_type": "markdown",
   "metadata": {},
   "source": [
    "### Useful operations with matrices "
   ]
  },
  {
   "cell_type": "code",
   "execution_count": 37,
   "metadata": {},
   "outputs": [
    {
     "data": {
      "text/plain": [
       "6"
      ]
     },
     "execution_count": 37,
     "metadata": {},
     "output_type": "execute_result"
    }
   ],
   "source": [
    "data.max()"
   ]
  },
  {
   "cell_type": "code",
   "execution_count": 38,
   "metadata": {},
   "outputs": [
    {
     "data": {
      "text/plain": [
       "1"
      ]
     },
     "execution_count": 38,
     "metadata": {},
     "output_type": "execute_result"
    }
   ],
   "source": [
    "data.min()"
   ]
  },
  {
   "cell_type": "code",
   "execution_count": 39,
   "metadata": {},
   "outputs": [
    {
     "data": {
      "text/plain": [
       "21"
      ]
     },
     "execution_count": 39,
     "metadata": {},
     "output_type": "execute_result"
    }
   ],
   "source": [
    "data.sum()"
   ]
  },
  {
   "cell_type": "markdown",
   "metadata": {},
   "source": [
    "<img src=\"res/np_matrix_aggregation.png\">"
   ]
  },
  {
   "cell_type": "markdown",
   "metadata": {},
   "source": [
    "You can aggregate all the values in a matrix and you can aggregate them across **columns** or **rows** using the `axis` parameter:"
   ]
  },
  {
   "cell_type": "code",
   "execution_count": 40,
   "metadata": {},
   "outputs": [],
   "source": [
    "data = np.array([[1, 2],[5, 3],[4, 6]])"
   ]
  },
  {
   "cell_type": "code",
   "execution_count": 41,
   "metadata": {},
   "outputs": [
    {
     "data": {
      "text/plain": [
       "array([5, 6])"
      ]
     },
     "execution_count": 41,
     "metadata": {},
     "output_type": "execute_result"
    }
   ],
   "source": [
    "data.max(axis=0)"
   ]
  },
  {
   "cell_type": "code",
   "execution_count": 42,
   "metadata": {},
   "outputs": [
    {
     "data": {
      "text/plain": [
       "array([2, 5, 6])"
      ]
     },
     "execution_count": 42,
     "metadata": {},
     "output_type": "execute_result"
    }
   ],
   "source": [
    "data.max(axis=1)"
   ]
  },
  {
   "cell_type": "markdown",
   "metadata": {},
   "source": [
    "<img src=\"res/np_matrix_aggregation_row.png\">"
   ]
  },
  {
   "cell_type": "markdown",
   "metadata": {},
   "source": [
    "Once you’ve created your matrices, you can add and multiply them using arithmetic operators if you have **two matrices** that are the **same size**."
   ]
  },
  {
   "cell_type": "code",
   "execution_count": 43,
   "metadata": {},
   "outputs": [],
   "source": [
    "data = np.array([[1, 2], [3, 4]])\n",
    "ones = np.array([[1, 1], [1, 1]])"
   ]
  },
  {
   "cell_type": "code",
   "execution_count": 44,
   "metadata": {},
   "outputs": [
    {
     "data": {
      "text/plain": [
       "array([[2, 3],\n",
       "       [4, 5]])"
      ]
     },
     "execution_count": 44,
     "metadata": {},
     "output_type": "execute_result"
    }
   ],
   "source": [
    "data + ones"
   ]
  },
  {
   "cell_type": "markdown",
   "metadata": {},
   "source": [
    "<img src=\"res/np_matrix_arithmetic.png\">"
   ]
  },
  {
   "cell_type": "markdown",
   "metadata": {},
   "source": [
    "You can do these arithmetic operations on matrices of different sizes, but only if one matrix has only one column or one row. In this case, NumPy will use its **broadcast rules** for the operation."
   ]
  },
  {
   "cell_type": "code",
   "execution_count": 45,
   "metadata": {},
   "outputs": [],
   "source": [
    "data = np.array([[1, 2], [3, 4], [5, 6]])\n",
    "ones_row = np.array([[1, 1]])"
   ]
  },
  {
   "cell_type": "code",
   "execution_count": 46,
   "metadata": {},
   "outputs": [
    {
     "data": {
      "text/plain": [
       "array([[2, 3],\n",
       "       [4, 5],\n",
       "       [6, 7]])"
      ]
     },
     "execution_count": 46,
     "metadata": {},
     "output_type": "execute_result"
    }
   ],
   "source": [
    "data + ones_row"
   ]
  },
  {
   "cell_type": "markdown",
   "metadata": {},
   "source": [
    "<img src=\"res/np_matrix_broadcasting.png\">"
   ]
  },
  {
   "cell_type": "markdown",
   "metadata": {},
   "source": [
    "### Transposing a matrix"
   ]
  },
  {
   "cell_type": "code",
   "execution_count": 47,
   "metadata": {},
   "outputs": [
    {
     "name": "stdout",
     "output_type": "stream",
     "text": [
      "[[1 2]\n",
      " [3 4]\n",
      " [5 6]]\n",
      "\n",
      "\n",
      "[[1 3 5]\n",
      " [2 4 6]]\n"
     ]
    }
   ],
   "source": [
    "# turn around\n",
    "\n",
    "print(data)\n",
    "print(\"\\n\")\n",
    "print(data.T)"
   ]
  },
  {
   "cell_type": "markdown",
   "metadata": {},
   "source": [
    "### Flattening multidemsional arrays"
   ]
  },
  {
   "cell_type": "code",
   "execution_count": 48,
   "metadata": {},
   "outputs": [
    {
     "name": "stdout",
     "output_type": "stream",
     "text": [
      "[1 2 3 4 5 6]\n",
      "[1 2 3 4 5 6]\n"
     ]
    }
   ],
   "source": [
    "# variant 1\n",
    "print(data.reshape(-1))\n",
    "\n",
    "# variant 2\n",
    "print(data.flatten())"
   ]
  },
  {
   "cell_type": "markdown",
   "metadata": {},
   "source": [
    "### Dot product of two arrays"
   ]
  },
  {
   "cell_type": "code",
   "execution_count": 52,
   "metadata": {},
   "outputs": [],
   "source": [
    "a = np.array([1, 2, 3])\n",
    "b = np.array([4, 5, 6])\n",
    "\n",
    "# skalar product: a ⋅ b = ax * bx + ay * by + az * bz"
   ]
  },
  {
   "cell_type": "code",
   "execution_count": 50,
   "metadata": {},
   "outputs": [
    {
     "data": {
      "text/plain": [
       "32"
      ]
     },
     "execution_count": 50,
     "metadata": {},
     "output_type": "execute_result"
    }
   ],
   "source": [
    "np.dot(a,b)"
   ]
  },
  {
   "cell_type": "code",
   "execution_count": 53,
   "metadata": {},
   "outputs": [
    {
     "data": {
      "text/plain": [
       "32"
      ]
     },
     "execution_count": 53,
     "metadata": {},
     "output_type": "execute_result"
    }
   ],
   "source": [
    "a.dot(b)"
   ]
  }
 ],
 "metadata": {
  "kernelspec": {
   "display_name": "Python 3 (ipykernel)",
   "language": "python",
   "name": "python3"
  },
  "language_info": {
   "codemirror_mode": {
    "name": "ipython",
    "version": 3
   },
   "file_extension": ".py",
   "mimetype": "text/x-python",
   "name": "python",
   "nbconvert_exporter": "python",
   "pygments_lexer": "ipython3",
   "version": "3.9.13"
  }
 },
 "nbformat": 4,
 "nbformat_minor": 2
}
