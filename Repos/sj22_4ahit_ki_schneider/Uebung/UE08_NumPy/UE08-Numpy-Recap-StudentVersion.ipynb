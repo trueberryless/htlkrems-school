{
 "cells": [
  {
   "cell_type": "markdown",
   "id": "06a6b6d8",
   "metadata": {},
   "source": [
    "## NumPy Recap"
   ]
  },
  {
   "cell_type": "code",
   "execution_count": 3,
   "id": "4a2a7227",
   "metadata": {},
   "outputs": [
    {
     "name": "stdout",
     "output_type": "stream",
     "text": [
      "[ 44  57  84  67  84  12  78  24  14  31  25  67  50  51  94  85  73  14\n",
      "   2  13  43  39  29   9  85  36  11  62  20   2  38  37  31  51  24   0\n",
      "  80   5  99  20  79   5  49  15  26  67  94 100  15  84  40  12  43  48\n",
      "  38  19  82  35  81   2  62  67  81  64  33  49  10  42  88  33  36  93\n",
      "  13  66  87  96  30  84  16  22  34  98  98  25  71  70  89  61  32  36\n",
      "  39  24  25  29  36  63  57  58  48  95  76  70  66  95  40  48  95  41\n",
      "  54  11  18  72  81  98  69  24  84  20   8  26  13  59  70  24  17   3\n",
      "   4  84  99  52  49   8  82  63  37  98  79  81  74  75  24  33  97  72\n",
      "  25  97  83  83  27  82  27   4  83  69   5  24  37  16  72  42  61  70\n",
      "  10 100  60  34  55  79  25  95  63  56  64  48  27  18  80  17  46  69\n",
      "  27  93  90  71  53  73  69  96  36  42  54  61   3  71  32  81   0   6\n",
      "  93  90   5  83  88  83  97  10  92  78  23  22   2  26  76  98  51  70\n",
      "  88  18  11  31   4  28  98   1   2  38  74  89  36  95  12  58   7  56\n",
      "  25   3  41  79  22   6  32  79  63  75  94   8  68  89  57  58   6  77\n",
      "  50  18  51  76  90  79  74  17  57  52  71  49  35  38   3  29  88  64\n",
      "  93  37  99  66  22  35  37  47  65  15  79  44  94  52  40   5  34  16\n",
      "  26  90  40  11   1  81  19  32  59  75  91  52  99  19  74  63 100   2\n",
      "  40  83  56  96  66  12  82  92  83  74  36  29  83  94   8  16   2  58\n",
      "  71   4  43   8  57  17  30  92  97  86  83  97  76  49  25   0  10  15\n",
      "   0  77  80  39   2  83  50  82  53  10  95  57  16  46   3  65  24  89\n",
      "  96  76  15  63  64   3  42  43  10  21  55  85  73  48  82  69  24  77\n",
      "  84   9  64   2  28  96  11  78  26  86  22  39  86  99  75  54  68  84\n",
      "  24  23  55  76  80  50   6  37  15  88  20  17  37   6  23 100  35  77\n",
      "  33  38  81  52  75  11  60  53   2   3  85  92  89  71  22  52  16  17\n",
      "  50  87  11   6  65  88  75  13  45  13  64   2  11  79  48  77  20  21\n",
      "  91  29  26  35  89   9  65  17  61  76  51  36   2  33  80   5   8  43\n",
      "   4  42  90  69  60  49  55  42  67  57  72  96  54  85  80  23  97  99\n",
      "  74  54  88  81  83  64  15   2  45  35  64  73  47  42   9  37  85  66\n",
      "   4   6  79  35  96  70  76  23  23  30  43  82  92  99  80   9  82  74\n",
      "  56  44  16  80  47  27  75  69  53  10  77  86  90  55  37   5  97  12\n",
      "  72  75  66  48  92  63  35  46  93   4  99  19  17  99  95  32  17  57\n",
      "  79  90  29  46  32  87  48  26  14  77  76  27  89  92  47  92  68  99\n",
      "  41   7  88  46  14  13  69  61  43  97  87  38  76  17  74  63  21  61\n",
      "  97  21  73  62  54  61  31  31  85  86  77  61  10  65   6  88  40  99\n",
      "  51  83  37  77  38  93  45  52  78  26  29  84   6 100  20  52   7   3\n",
      "  29  44  10  99  14   1  51  56  86  39  17  18  68  21  85  27  82  42\n",
      "  90 100  56   0  76  68  32  29  98  86  29  41  13  72  74  87  90  43\n",
      "  21  61  38  68  90  91   5  77  65  99  37  67 100  10  79  12  20   4\n",
      "  19  71  27   8  61  43  66  39  78  86  18  51  30  47  35  20  37  99\n",
      "  61  48  84  50  57  20   4  52  89  30  33  86  28  50  20  52  87  68\n",
      "  90  85   8  59  57  94  99  78  48  90  68  89  75  42   0  12 100  30\n",
      "  76  80  85  31   2  47  86  89  43  66   1  36  52  68   3  65  32  13\n",
      "  93  72  67   4  32  37  15  41  73  57  55  55  64  66  85  31  90  21\n",
      "  29  64  35  13  75  93  26  79  38  77  15   4  76  16   1  68  58   6\n",
      "  73  59  47  39  10  26  90  51  61  41  56  71  56  39  98  29  23   6\n",
      "  58  21  84  29  99  73  62  85   7  25  82  93  11  11  61   4  51  48\n",
      "  64  28  16  79  16  14  36  23  58  56  26  43  78  98  45  91  66  97\n",
      "  93  57  95  64  19 100  11  19  79  23   7  60  36  33 100  37  25  80\n",
      "  19  29  82  54   1  92  47  50  91  11  20   3  93  52  86   6  99  15\n",
      "  60  30   2  36  53  87  76  78  28  20  60  12  17  71   5  11  87  35\n",
      "   6  14  74  45  45  79   8  95  36  72  64  49  92   3  29  72  95  90\n",
      "  40  22  71  55  62  34  31  46  57   0  51  66   7   9  23  68  10  83\n",
      "  64  95   9  77  54   3  68  45  16  24  45  94   0  36  73  61   6  38\n",
      "  63   6  74  13  10  61  20  41  52  96  78  33  52  36  48   9  48  89\n",
      "  15  62  73   8  28  92  67  29  19  79   1  32  18   6  62  57  45  48\n",
      "  61  27  95  54  92  66  18  59  88  51]\n"
     ]
    }
   ],
   "source": [
    "import numpy as np\n",
    "\n",
    "# create a random numpy array with 1000 numbers between 0 and 100 (inclusive)\n",
    "array = np.random.randint(0, 101, 1000)\n",
    "\n",
    "# print the array\n",
    "print(array)"
   ]
  },
  {
   "cell_type": "code",
   "execution_count": 2,
   "id": "75fd4dfa",
   "metadata": {},
   "outputs": [],
   "source": [
    "# mandatory imports\n",
    "import numpy as np"
   ]
  },
  {
   "cell_type": "markdown",
   "id": "93312207",
   "metadata": {},
   "source": [
    "### Erstellung N-dimensional NumPy Arrays\n",
    "\n",
    "1) Gesucht ist folgendes Ergebnis:\n",
    "\n",
    "```\n",
    "array([1, 2, 3, 4], dtype=int32)\n",
    "```"
   ]
  },
  {
   "cell_type": "code",
   "execution_count": 3,
   "id": "2c6624aa",
   "metadata": {},
   "outputs": [
    {
     "name": "stdout",
     "output_type": "stream",
     "text": [
      "[1 2 3 4]\n"
     ]
    }
   ],
   "source": [
    "#1) a vector: the argument to the array function is a Python list\n",
    "lst = [1,2,3,4.0]\n",
    "lst = np.array(lst, 'int32')\n",
    "print(lst)"
   ]
  },
  {
   "cell_type": "markdown",
   "id": "46c7494a",
   "metadata": {},
   "source": [
    "Geben Sie den Datentyp des Arrays aus:\n",
    "\n",
    "```\n",
    "dtype('int32')\n",
    "```"
   ]
  },
  {
   "cell_type": "code",
   "execution_count": 4,
   "id": "c0e4d36e",
   "metadata": {},
   "outputs": [
    {
     "data": {
      "text/plain": [
       "dtype('int32')"
      ]
     },
     "execution_count": 4,
     "metadata": {},
     "output_type": "execute_result"
    }
   ],
   "source": [
    "# get its datatype\n",
    "lst.dtype"
   ]
  },
  {
   "cell_type": "markdown",
   "id": "eb4106e7",
   "metadata": {},
   "source": [
    "2) Gesucht ist folgendes Ergebnis:\n",
    "\n",
    "```\n",
    "array([[1, 2],\n",
    "       [3, 4]])\n",
    "```"
   ]
  },
  {
   "cell_type": "code",
   "execution_count": 5,
   "id": "250f1cbb",
   "metadata": {},
   "outputs": [
    {
     "data": {
      "text/plain": [
       "array([[1, 2],\n",
       "       [3, 4]])"
      ]
     },
     "execution_count": 5,
     "metadata": {},
     "output_type": "execute_result"
    }
   ],
   "source": [
    "#2) a matrix: the argument to the array function is a nested Python list (can also be a tuple of tuples)\n",
    "np.arange(1, 5).reshape(2, 2)"
   ]
  },
  {
   "cell_type": "markdown",
   "id": "0c39e25c",
   "metadata": {},
   "source": [
    "3) Gesucht ist folgendes Ergebnis:\n",
    "```\n",
    "array([[0., 0., 0., 0.],\n",
    "       [0., 0., 0., 0.],\n",
    "       [0., 0., 0., 0.]])\n",
    "```"
   ]
  },
  {
   "cell_type": "code",
   "execution_count": 6,
   "id": "d26b27c2",
   "metadata": {},
   "outputs": [
    {
     "data": {
      "text/plain": [
       "array([[0., 0., 0., 0.],\n",
       "       [0., 0., 0., 0.],\n",
       "       [0., 0., 0., 0.]])"
      ]
     },
     "execution_count": 6,
     "metadata": {},
     "output_type": "execute_result"
    }
   ],
   "source": [
    "#3) an array full of zero values\n",
    "np.zeros([3, 4])"
   ]
  },
  {
   "cell_type": "markdown",
   "id": "edab180a",
   "metadata": {},
   "source": [
    "#### A note on datatypes\n",
    "If no datatype is specified during array construction using `np.array()`, NumPy assigns a default dtype. This is dependent on the OS (32 or 64 bit) and the elements of the array."
   ]
  },
  {
   "cell_type": "code",
   "execution_count": 7,
   "id": "ed272a6a",
   "metadata": {},
   "outputs": [
    {
     "data": {
      "text/plain": [
       "{'int': [numpy.int8, numpy.int16, numpy.int32, numpy.int64],\n",
       " 'uint': [numpy.uint8, numpy.uint16, numpy.uint32, numpy.uint64],\n",
       " 'float': [numpy.float16, numpy.float32, numpy.float64],\n",
       " 'complex': [numpy.complex64, numpy.complex128],\n",
       " 'others': [bool, object, bytes, str, numpy.void]}"
      ]
     },
     "execution_count": 7,
     "metadata": {},
     "output_type": "execute_result"
    }
   ],
   "source": [
    "# get the list of all supported data types\n",
    "np.sctypes"
   ]
  },
  {
   "cell_type": "markdown",
   "id": "de607076",
   "metadata": {},
   "source": [
    "### Array slicing\n",
    "\n",
    "4) Gesucht ist folgendes Ergebnis:\n",
    "\n",
    "```\n",
    "array([[ 1,  2,  3,  4,  5,  6,  7,  8,  9, 10, 11, 12, 13, 14, 15],\n",
    "       [16, 17, 18, 19, 20, 21, 22, 23, 24, 25, 26, 27, 28, 29, 30],\n",
    "       [31, 32, 33, 34, 35, 36, 37, 38, 39, 40, 41, 42, 43, 44, 45]])\n",
    "```\n",
    "\n",
    "Verwenden Sie hierzu `arange` in Kombination mit `reshape`. "
   ]
  },
  {
   "cell_type": "code",
   "execution_count": 8,
   "id": "32847d28",
   "metadata": {},
   "outputs": [
    {
     "data": {
      "text/plain": [
       "array([[ 1,  2,  3,  4,  5,  6,  7,  8,  9, 10, 11, 12, 13, 14, 15],\n",
       "       [16, 17, 18, 19, 20, 21, 22, 23, 24, 25, 26, 27, 28, 29, 30],\n",
       "       [31, 32, 33, 34, 35, 36, 37, 38, 39, 40, 41, 42, 43, 44, 45]])"
      ]
     },
     "execution_count": 8,
     "metadata": {},
     "output_type": "execute_result"
    }
   ],
   "source": [
    "#4)\n",
    "array = np.arange(1, 46).reshape(3, 15)\n",
    "array"
   ]
  },
  {
   "cell_type": "markdown",
   "id": "87d42401",
   "metadata": {},
   "source": [
    "5) Selektieren Sie! By the way: Die Indizierung eines 2-D benötigt 2 Indizes."
   ]
  },
  {
   "cell_type": "code",
   "execution_count": 9,
   "id": "023994d2",
   "metadata": {},
   "outputs": [
    {
     "data": {
      "text/plain": [
       "45"
      ]
     },
     "execution_count": 9,
     "metadata": {},
     "output_type": "execute_result"
    }
   ],
   "source": [
    "# value at last row and last column\n",
    "array[-1, -1]"
   ]
  },
  {
   "cell_type": "code",
   "execution_count": 10,
   "id": "3f83acef",
   "metadata": {},
   "outputs": [
    {
     "data": {
      "text/plain": [
       "array([31, 32, 33, 34, 35, 36, 37, 38, 39, 40, 41, 42, 43, 44, 45])"
      ]
     },
     "execution_count": 10,
     "metadata": {},
     "output_type": "execute_result"
    }
   ],
   "source": [
    "# get all elments in the last row\n",
    "array[-1,]"
   ]
  },
  {
   "cell_type": "code",
   "execution_count": 11,
   "id": "7f6c7484",
   "metadata": {},
   "outputs": [
    {
     "data": {
      "text/plain": [
       "23"
      ]
     },
     "execution_count": 11,
     "metadata": {},
     "output_type": "execute_result"
    }
   ],
   "source": [
    "# get the value 23 \n",
    "array[array == 23][0]"
   ]
  },
  {
   "cell_type": "code",
   "execution_count": 12,
   "id": "2c262efe",
   "metadata": {},
   "outputs": [
    {
     "data": {
      "text/plain": [
       "array([[ 1,  2,  3],\n",
       "       [16, 17, 18]])"
      ]
     },
     "execution_count": 12,
     "metadata": {},
     "output_type": "execute_result"
    }
   ],
   "source": [
    "# get the first two rows and 3 columns\n",
    "array[:2,:3]"
   ]
  },
  {
   "cell_type": "code",
   "execution_count": 13,
   "id": "9ddb45a9",
   "metadata": {},
   "outputs": [
    {
     "data": {
      "text/plain": [
       "array([[ 7,  8,  9],\n",
       "       [22, 23, 24],\n",
       "       [37, 38, 39]])"
      ]
     },
     "execution_count": 13,
     "metadata": {},
     "output_type": "execute_result"
    }
   ],
   "source": [
    "# get following matrix\n",
    "# array([[ 7,  8,  9],\n",
    "#       [22, 23, 24],\n",
    "#       [37, 38, 39]])\n",
    "array[:3,6:9]"
   ]
  },
  {
   "cell_type": "markdown",
   "id": "6c7116de",
   "metadata": {},
   "source": [
    "### Computing statistics"
   ]
  },
  {
   "cell_type": "markdown",
   "id": "ab8b8589",
   "metadata": {},
   "source": [
    "6) Erstellen Sie folgende Matrix:\n",
    "\n",
    "```\n",
    "array([[ 0,  1,  2,  3,  4,  5],\n",
    "       [ 6,  7,  8,  9, 10, 11],\n",
    "       [12, 13, 14, 15, 16, 17],\n",
    "       [18, 19, 20, 21, 22, 23],\n",
    "       [24, 25, 26, 27, 28, 29]])\n",
    "```\n"
   ]
  },
  {
   "cell_type": "code",
   "execution_count": 14,
   "id": "9b916a99",
   "metadata": {},
   "outputs": [
    {
     "data": {
      "text/plain": [
       "array([[ 0,  1,  2,  3,  4,  5],\n",
       "       [ 6,  7,  8,  9, 10, 11],\n",
       "       [12, 13, 14, 15, 16, 17],\n",
       "       [18, 19, 20, 21, 22, 23],\n",
       "       [24, 25, 26, 27, 28, 29]])"
      ]
     },
     "execution_count": 14,
     "metadata": {},
     "output_type": "execute_result"
    }
   ],
   "source": [
    "#6)\n",
    "array = np.arange(0, 30).reshape(5,6)\n",
    "array"
   ]
  },
  {
   "cell_type": "markdown",
   "id": "4e1f46f1",
   "metadata": {},
   "source": [
    "Berechnen Sie den Mittelwert für die Achse 0, also spaltenweise. Gesuchtes Ergebnis:\n",
    "``` array([[12., 13., 14., 15., 16., 17.]]) ```\n",
    "\n",
    "Verwenden Sie hierzu https://numpy.org/doc/stable/reference/generated/numpy.mean.html"
   ]
  },
  {
   "cell_type": "code",
   "execution_count": 15,
   "id": "09c6c519",
   "metadata": {},
   "outputs": [
    {
     "data": {
      "text/plain": [
       "array([12., 13., 14., 15., 16., 17.])"
      ]
     },
     "execution_count": 15,
     "metadata": {},
     "output_type": "execute_result"
    }
   ],
   "source": [
    "array.mean(axis=0)"
   ]
  },
  {
   "cell_type": "markdown",
   "id": "cb113d1c",
   "metadata": {},
   "source": [
    "### Just for fun"
   ]
  },
  {
   "cell_type": "markdown",
   "id": "bae92c7c",
   "metadata": {},
   "source": [
    "Erstellen Sie ein 3x3 Pixel großes SW-Bild; wobei ausschließlich mittlere Pixel weiß ist (siehe unten). Es gilt:\n",
    "- 0 = sw\n",
    "- 1 = weiß"
   ]
  },
  {
   "cell_type": "code",
   "execution_count": null,
   "id": "435e6501",
   "metadata": {},
   "outputs": [],
   "source": [
    "# Hint: Matrix is not just a movie!\n",
    "img = np.zeros([3,3])\n",
    "middle = (int(img.shape[0] / 2), int(img.shape[1] / 2))\n",
    "img[middle[0], middle[1]] = 1\n",
    "\n",
    "\n",
    "import matplotlib.pyplot as plt\n",
    "plt.imshow(img,cmap=\"gray\")"
   ]
  }
 ],
 "metadata": {
  "kernelspec": {
   "display_name": "Python 3 (ipykernel)",
   "language": "python",
   "name": "python3"
  },
  "language_info": {
   "codemirror_mode": {
    "name": "ipython",
    "version": 3
   },
   "file_extension": ".py",
   "mimetype": "text/x-python",
   "name": "python",
   "nbconvert_exporter": "python",
   "pygments_lexer": "ipython3",
   "version": "3.9.13"
  }
 },
 "nbformat": 4,
 "nbformat_minor": 5
}
