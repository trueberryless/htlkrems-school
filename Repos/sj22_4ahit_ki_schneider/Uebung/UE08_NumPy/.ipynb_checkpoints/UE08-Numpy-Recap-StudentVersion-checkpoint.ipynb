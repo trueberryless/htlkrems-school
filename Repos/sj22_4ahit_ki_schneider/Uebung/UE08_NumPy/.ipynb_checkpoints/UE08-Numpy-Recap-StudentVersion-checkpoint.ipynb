{
 "cells": [
  {
   "cell_type": "markdown",
   "id": "06a6b6d8",
   "metadata": {},
   "source": [
    "## NumPy Recap"
   ]
  },
  {
   "cell_type": "code",
   "execution_count": 1,
   "id": "75fd4dfa",
   "metadata": {},
   "outputs": [],
   "source": [
    "# mandatory imports\n",
    "import numpy as np"
   ]
  },
  {
   "cell_type": "markdown",
   "id": "93312207",
   "metadata": {},
   "source": [
    "### Erstellung N-dimensional NumPy Arrays\n",
    "\n",
    "1) Gesucht ist folgendes Ergebnis:\n",
    "\n",
    "```\n",
    "array([1, 2, 3, 4], dtype=int32)\n",
    "```"
   ]
  },
  {
   "cell_type": "code",
   "execution_count": 18,
   "id": "2c6624aa",
   "metadata": {},
   "outputs": [
    {
     "name": "stdout",
     "output_type": "stream",
     "text": [
      "[1 2 3 4]\n"
     ]
    }
   ],
   "source": [
    "#1) a vector: the argument to the array function is a Python list\n",
    "lst = [1,2,3,4.0]\n",
    "lst = np.array(lst, 'int32')\n",
    "print(lst)"
   ]
  },
  {
   "cell_type": "markdown",
   "id": "46c7494a",
   "metadata": {},
   "source": [
    "Geben Sie den Datentyp des Arrays aus:\n",
    "\n",
    "```\n",
    "dtype('int32')\n",
    "```"
   ]
  },
  {
   "cell_type": "code",
   "execution_count": 21,
   "id": "c0e4d36e",
   "metadata": {},
   "outputs": [
    {
     "data": {
      "text/plain": [
       "dtype('int32')"
      ]
     },
     "execution_count": 21,
     "metadata": {},
     "output_type": "execute_result"
    }
   ],
   "source": [
    "# get its datatype\n",
    "lst.dtype"
   ]
  },
  {
   "cell_type": "markdown",
   "id": "eb4106e7",
   "metadata": {},
   "source": [
    "2) Gesucht ist folgendes Ergebnis:\n",
    "\n",
    "```\n",
    "array([[1, 2],\n",
    "       [3, 4]])\n",
    "```"
   ]
  },
  {
   "cell_type": "code",
   "execution_count": 34,
   "id": "250f1cbb",
   "metadata": {},
   "outputs": [
    {
     "data": {
      "text/plain": [
       "array([[1, 2],\n",
       "       [3, 4]])"
      ]
     },
     "execution_count": 34,
     "metadata": {},
     "output_type": "execute_result"
    }
   ],
   "source": [
    "#2) a matrix: the argument to the array function is a nested Python list (can also be a tuple of tuples)\n",
    "np.arange(1, 5).reshape(2, 2)"
   ]
  },
  {
   "cell_type": "markdown",
   "id": "0c39e25c",
   "metadata": {},
   "source": [
    "3) Gesucht ist folgendes Ergebnis:\n",
    "```\n",
    "array([[0., 0., 0., 0.],\n",
    "       [0., 0., 0., 0.],\n",
    "       [0., 0., 0., 0.]])\n",
    "```"
   ]
  },
  {
   "cell_type": "code",
   "execution_count": 38,
   "id": "d26b27c2",
   "metadata": {},
   "outputs": [
    {
     "data": {
      "text/plain": [
       "array([[0., 0., 0., 0.],\n",
       "       [0., 0., 0., 0.],\n",
       "       [0., 0., 0., 0.]])"
      ]
     },
     "execution_count": 38,
     "metadata": {},
     "output_type": "execute_result"
    }
   ],
   "source": [
    "#3) an array full of zero values\n",
    "np.zeros([3, 4])"
   ]
  },
  {
   "cell_type": "markdown",
   "id": "edab180a",
   "metadata": {},
   "source": [
    "#### A note on datatypes\n",
    "If no datatype is specified during array construction using `np.array()`, NumPy assigns a default dtype. This is dependent on the OS (32 or 64 bit) and the elements of the array."
   ]
  },
  {
   "cell_type": "code",
   "execution_count": 39,
   "id": "ed272a6a",
   "metadata": {},
   "outputs": [
    {
     "data": {
      "text/plain": [
       "{'int': [numpy.int8, numpy.int16, numpy.int32, numpy.int64],\n",
       " 'uint': [numpy.uint8, numpy.uint16, numpy.uint32, numpy.uint64],\n",
       " 'float': [numpy.float16, numpy.float32, numpy.float64],\n",
       " 'complex': [numpy.complex64, numpy.complex128],\n",
       " 'others': [bool, object, bytes, str, numpy.void]}"
      ]
     },
     "execution_count": 39,
     "metadata": {},
     "output_type": "execute_result"
    }
   ],
   "source": [
    "# get the list of all supported data types\n",
    "np.sctypes"
   ]
  },
  {
   "cell_type": "markdown",
   "id": "de607076",
   "metadata": {},
   "source": [
    "### Array slicing\n",
    "\n",
    "4) Gesucht ist folgendes Ergebnis:\n",
    "\n",
    "```\n",
    "array([[ 1,  2,  3,  4,  5,  6,  7,  8,  9, 10, 11, 12, 13, 14, 15],\n",
    "       [16, 17, 18, 19, 20, 21, 22, 23, 24, 25, 26, 27, 28, 29, 30],\n",
    "       [31, 32, 33, 34, 35, 36, 37, 38, 39, 40, 41, 42, 43, 44, 45]])\n",
    "```\n",
    "\n",
    "Verwenden Sie hierzu `arange` in Kombination mit `reshape`. "
   ]
  },
  {
   "cell_type": "code",
   "execution_count": 46,
   "id": "32847d28",
   "metadata": {},
   "outputs": [
    {
     "data": {
      "text/plain": [
       "array([[ 1,  2,  3,  4,  5,  6,  7,  8,  9, 10, 11, 12, 13, 14, 15],\n",
       "       [16, 17, 18, 19, 20, 21, 22, 23, 24, 25, 26, 27, 28, 29, 30],\n",
       "       [31, 32, 33, 34, 35, 36, 37, 38, 39, 40, 41, 42, 43, 44, 45]])"
      ]
     },
     "execution_count": 46,
     "metadata": {},
     "output_type": "execute_result"
    }
   ],
   "source": [
    "#4)\n",
    "array = np.arange(1, 46).reshape(3, 15)\n",
    "array"
   ]
  },
  {
   "cell_type": "markdown",
   "id": "87d42401",
   "metadata": {},
   "source": [
    "5) Selektieren Sie! By the way: Die Indizierung eines 2-D benötigt 2 Indizes."
   ]
  },
  {
   "cell_type": "code",
   "execution_count": 44,
   "id": "023994d2",
   "metadata": {},
   "outputs": [
    {
     "data": {
      "text/plain": [
       "45"
      ]
     },
     "execution_count": 44,
     "metadata": {},
     "output_type": "execute_result"
    }
   ],
   "source": [
    "# value at last row and last column\n",
    "array[-1, -1]"
   ]
  },
  {
   "cell_type": "code",
   "execution_count": 45,
   "id": "3f83acef",
   "metadata": {},
   "outputs": [
    {
     "data": {
      "text/plain": [
       "array([31, 32, 33, 34, 35, 36, 37, 38, 39, 40, 41, 42, 43, 44, 45])"
      ]
     },
     "execution_count": 45,
     "metadata": {},
     "output_type": "execute_result"
    }
   ],
   "source": [
    "# get all elments in the last row\n",
    "array[-1,]"
   ]
  },
  {
   "cell_type": "code",
   "execution_count": 67,
   "id": "7f6c7484",
   "metadata": {},
   "outputs": [
    {
     "data": {
      "text/plain": [
       "23"
      ]
     },
     "execution_count": 67,
     "metadata": {},
     "output_type": "execute_result"
    }
   ],
   "source": [
    "# get the value 23 \n",
    "array[array == 23][0]"
   ]
  },
  {
   "cell_type": "code",
   "execution_count": 83,
   "id": "2c262efe",
   "metadata": {},
   "outputs": [
    {
     "data": {
      "text/plain": [
       "array([[ 1,  2,  3],\n",
       "       [16, 17, 18]])"
      ]
     },
     "execution_count": 83,
     "metadata": {},
     "output_type": "execute_result"
    }
   ],
   "source": [
    "# get the first two rows and 3 columns\n",
    "array[:2,:3]"
   ]
  },
  {
   "cell_type": "code",
   "execution_count": 87,
   "id": "9ddb45a9",
   "metadata": {},
   "outputs": [
    {
     "data": {
      "text/plain": [
       "array([[ 7,  8,  9],\n",
       "       [22, 23, 24],\n",
       "       [37, 38, 39]])"
      ]
     },
     "execution_count": 87,
     "metadata": {},
     "output_type": "execute_result"
    }
   ],
   "source": [
    "# get following matrix\n",
    "# array([[ 7,  8,  9],\n",
    "#       [22, 23, 24],\n",
    "#       [37, 38, 39]])\n",
    "array[:3,6:9]"
   ]
  },
  {
   "cell_type": "markdown",
   "id": "6c7116de",
   "metadata": {},
   "source": [
    "### Computing statistics"
   ]
  },
  {
   "cell_type": "markdown",
   "id": "ab8b8589",
   "metadata": {},
   "source": [
    "6) Erstellen Sie folgende Matrix:\n",
    "\n",
    "```\n",
    "array([[ 0,  1,  2,  3,  4,  5],\n",
    "       [ 6,  7,  8,  9, 10, 11],\n",
    "       [12, 13, 14, 15, 16, 17],\n",
    "       [18, 19, 20, 21, 22, 23],\n",
    "       [24, 25, 26, 27, 28, 29]])\n",
    "```\n"
   ]
  },
  {
   "cell_type": "code",
   "execution_count": 91,
   "id": "9b916a99",
   "metadata": {},
   "outputs": [
    {
     "data": {
      "text/plain": [
       "array([[ 0,  1,  2,  3,  4,  5],\n",
       "       [ 6,  7,  8,  9, 10, 11],\n",
       "       [12, 13, 14, 15, 16, 17],\n",
       "       [18, 19, 20, 21, 22, 23],\n",
       "       [24, 25, 26, 27, 28, 29]])"
      ]
     },
     "execution_count": 91,
     "metadata": {},
     "output_type": "execute_result"
    }
   ],
   "source": [
    "#6)\n",
    "array = np.arange(0, 30).reshape(5,6)\n",
    "array"
   ]
  },
  {
   "cell_type": "markdown",
   "id": "4e1f46f1",
   "metadata": {},
   "source": [
    "Berechnen Sie den Mittelwert für die Achse 0, also spaltenweise. Gesuchtes Ergebnis:\n",
    "``` array([[12., 13., 14., 15., 16., 17.]]) ```\n",
    "\n",
    "Verwenden Sie hierzu https://numpy.org/doc/stable/reference/generated/numpy.mean.html"
   ]
  },
  {
   "cell_type": "code",
   "execution_count": 92,
   "id": "09c6c519",
   "metadata": {},
   "outputs": [
    {
     "data": {
      "text/plain": [
       "array([12., 13., 14., 15., 16., 17.])"
      ]
     },
     "execution_count": 92,
     "metadata": {},
     "output_type": "execute_result"
    }
   ],
   "source": [
    "array.mean(axis=0)"
   ]
  },
  {
   "cell_type": "markdown",
   "id": "cb113d1c",
   "metadata": {},
   "source": [
    "### Just for fun"
   ]
  },
  {
   "cell_type": "markdown",
   "id": "bae92c7c",
   "metadata": {},
   "source": [
    "Erstellen Sie ein 3x3 Pixel großes SW-Bild; wobei ausschließlich mittlere Pixel weiß ist (siehe unten). Es gilt:\n",
    "- 0 = sw\n",
    "- 1 = weiß"
   ]
  },
  {
   "cell_type": "code",
   "execution_count": 108,
   "id": "435e6501",
   "metadata": {},
   "outputs": [
    {
     "data": {
      "text/plain": [
       "<matplotlib.image.AxesImage at 0x1ae325561f0>"
      ]
     },
     "execution_count": 108,
     "metadata": {},
     "output_type": "execute_result"
    },
    {
     "data": {
      "image/png": "[encoded data removed]",
      "text/plain": [
       "<Figure size 640x480 with 1 Axes>"
      ]
     },
     "metadata": {},
     "output_type": "display_data"
    }
   ],
   "source": [
    "# Hint: Matrix is not just a movie!\n",
    "img = np.zeros([3,3])\n",
    "middle = (int(img.shape[0] / 2), int(img.shape[1] / 2))\n",
    "img[middle[0], middle[1]] = 1\n",
    "\n",
    "\n",
    "import matplotlib.pyplot as plt\n",
    "plt.imshow(img,cmap=\"gray\")"
   ]
  }
 ],
 "metadata": {
  "kernelspec": {
   "display_name": "Python 3 (ipykernel)",
   "language": "python",
   "name": "python3"
  },
  "language_info": {
   "codemirror_mode": {
    "name": "ipython",
    "version": 3
   },
   "file_extension": ".py",
   "mimetype": "text/x-python",
   "name": "python",
   "nbconvert_exporter": "python",
   "pygments_lexer": "ipython3",
   "version": "3.9.13"
  }
 },
 "nbformat": 4,
 "nbformat_minor": 5
}
