{
 "cells": [
  {
   "cell_type": "code",
   "execution_count": 1,
   "id": "c3807089",
   "metadata": {},
   "outputs": [],
   "source": [
    "class BankAccount:\n",
    "    # pass ist ein Platzhalter\n",
    "    \n",
    "    #def __init__(self):\n",
    "    #    self.__balance = 0\n",
    "    #    self.account_is_freezed = False\n",
    "    \n",
    "    \n",
    "    # Man kann Standardwerte definieren, falls der Parameter nicht übergeben wird\n",
    "    def __init__(self, balance=0):\n",
    "        self.__balance = balance\n",
    "        self.account_is_freezed = False\n",
    "        \n",
    "    def freeze_account(self):\n",
    "        if self.account_is_freezed:\n",
    "            self.account_is_freezed = False\n",
    "        else:\n",
    "            self.account_is_freezed = True\n",
    "    \n",
    "    def withdraw(self, amount):\n",
    "        if not self.account_is_freezed:\n",
    "            if self.__balance - amount >= -1000:\n",
    "                self.__balance = self.__balance - amount\n",
    "        else:\n",
    "            print(f\"Your account is frozen forever!\")\n",
    "    \n",
    "    def deposit(self, amount):\n",
    "        if not self.account_is_freezed:\n",
    "            self.__balance = self.__balance + amount\n",
    "        else:\n",
    "            print(f\"Your account is frozen forever!\")\n",
    "            \n",
    "    def get_balance(self):\n",
    "        return f\"Your current balance is: {self.__balance:>{10}}\""
   ]
  },
  {
   "cell_type": "code",
   "execution_count": 13,
   "id": "88b47ed8",
   "metadata": {},
   "outputs": [],
   "source": [
    "ba2 = BankAccount()"
   ]
  },
  {
   "cell_type": "code",
   "execution_count": 15,
   "id": "00500ee2",
   "metadata": {},
   "outputs": [
    {
     "name": "stdout",
     "output_type": "stream",
     "text": [
      "Your current balance is:          0\n"
     ]
    }
   ],
   "source": [
    "print(ba2.get_balance())"
   ]
  },
  {
   "cell_type": "code",
   "execution_count": 2,
   "id": "4a407658",
   "metadata": {},
   "outputs": [],
   "source": [
    "ba = BankAccount(1234)"
   ]
  },
  {
   "cell_type": "code",
   "execution_count": 3,
   "id": "68f32a5d",
   "metadata": {},
   "outputs": [
    {
     "name": "stdout",
     "output_type": "stream",
     "text": [
      "Your current balance is:       1234\n"
     ]
    }
   ],
   "source": [
    "print(ba.get_balance())"
   ]
  },
  {
   "cell_type": "markdown",
   "id": "3e12dc96",
   "metadata": {},
   "source": [
    "> deposit (working)"
   ]
  },
  {
   "cell_type": "code",
   "execution_count": 4,
   "id": "bc554ec9",
   "metadata": {},
   "outputs": [],
   "source": [
    "ba.deposit(5678)"
   ]
  },
  {
   "cell_type": "code",
   "execution_count": 5,
   "id": "a8f14ef4",
   "metadata": {},
   "outputs": [
    {
     "name": "stdout",
     "output_type": "stream",
     "text": [
      "Your current balance is:       6912\n"
     ]
    }
   ],
   "source": [
    "print(ba.get_balance())"
   ]
  },
  {
   "cell_type": "markdown",
   "id": "8046c73c",
   "metadata": {},
   "source": [
    "> withdraw (working)"
   ]
  },
  {
   "cell_type": "code",
   "execution_count": 6,
   "id": "12ea4add",
   "metadata": {},
   "outputs": [],
   "source": [
    "ba.withdraw(6543)"
   ]
  },
  {
   "cell_type": "code",
   "execution_count": 7,
   "id": "6c857666",
   "metadata": {},
   "outputs": [
    {
     "name": "stdout",
     "output_type": "stream",
     "text": [
      "Your current balance is:        369\n"
     ]
    }
   ],
   "source": [
    "print(ba.get_balance())"
   ]
  },
  {
   "cell_type": "markdown",
   "id": "69f8908d",
   "metadata": {},
   "source": [
    "> withdraw under -1000 doesn't work:"
   ]
  },
  {
   "cell_type": "code",
   "execution_count": 8,
   "id": "3cbdbe91",
   "metadata": {},
   "outputs": [],
   "source": [
    "ba.withdraw(9876)"
   ]
  },
  {
   "cell_type": "code",
   "execution_count": 9,
   "id": "5c05c7af",
   "metadata": {},
   "outputs": [
    {
     "name": "stdout",
     "output_type": "stream",
     "text": [
      "Your current balance is:        369\n"
     ]
    }
   ],
   "source": [
    "print(ba.get_balance())"
   ]
  },
  {
   "cell_type": "markdown",
   "id": "9d57d751",
   "metadata": {},
   "source": [
    "> freeze account disables deposit and withdraw"
   ]
  },
  {
   "cell_type": "code",
   "execution_count": 10,
   "id": "445f7078",
   "metadata": {},
   "outputs": [],
   "source": [
    "ba.freeze_account()"
   ]
  },
  {
   "cell_type": "code",
   "execution_count": 11,
   "id": "aa3c2200",
   "metadata": {},
   "outputs": [
    {
     "name": "stdout",
     "output_type": "stream",
     "text": [
      "Your account is frozen forever!\n"
     ]
    }
   ],
   "source": [
    "ba.deposit(13579)"
   ]
  },
  {
   "cell_type": "code",
   "execution_count": 12,
   "id": "c887bad4",
   "metadata": {},
   "outputs": [
    {
     "name": "stdout",
     "output_type": "stream",
     "text": [
      "Your current balance is:        369\n"
     ]
    }
   ],
   "source": [
    "print(ba.get_balance())"
   ]
  }
 ],
 "metadata": {
  "kernelspec": {
   "display_name": "Python 3 (ipykernel)",
   "language": "python",
   "name": "python3"
  },
  "language_info": {
   "codemirror_mode": {
    "name": "ipython",
    "version": 3
   },
   "file_extension": ".py",
   "mimetype": "text/x-python",
   "name": "python",
   "nbconvert_exporter": "python",
   "pygments_lexer": "ipython3",
   "version": "3.9.13"
  }
 },
 "nbformat": 4,
 "nbformat_minor": 5
}
