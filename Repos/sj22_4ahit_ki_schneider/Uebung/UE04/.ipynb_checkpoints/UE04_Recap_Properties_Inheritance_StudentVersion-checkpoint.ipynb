{
 "cells": [
  {
   "cell_type": "markdown",
   "id": "db398b9b",
   "metadata": {},
   "source": [
    "## Wiederholung Properties und Inheritance\n",
    "\n",
    "### Bsp. 04.1\n",
    "Vervollständigen Sie nachfolgende Klasse `Robot` mit dem Ziel der *Blacklist*-Überprüfung. Generell gilt: Wird beim Instanziieren keine Name angegeben oder ist dieser in der Blacklist `_fobidden_names` angeführt, gilt es den *Default*-Namen *Marvin* zuzuweisen. In allen anderen Fällen ist der Name gemäß Argument zu setzen.    "
   ]
  },
  {
   "cell_type": "code",
   "execution_count": 1,
   "id": "1f2b5573",
   "metadata": {},
   "outputs": [],
   "source": [
    "class Robot:\n",
    "    \n",
    "    _forbidden_names = [\"Charly\", \"Alan\"]\n",
    "    _standard_name = \"Martin\"\n",
    "    \n",
    "    def __init__(self, name=_standard_name):\n",
    "        self.set_name(name)\n",
    "        \n",
    "    \n",
    "    def get_name(self):\n",
    "        return self.name\n",
    "    \n",
    "    \n",
    "    def set_name(self, name):\n",
    "        if(name in self._forbidden_names):\n",
    "            self.name = self._standard_name\n",
    "        else:\n",
    "            self.name = name "
   ]
  },
  {
   "cell_type": "markdown",
   "id": "56a620b5",
   "metadata": {},
   "source": [
    "**Testszenarien**: Zeigen Sie die Funktionsweise anhand nachfolgender Tests!"
   ]
  },
  {
   "cell_type": "code",
   "execution_count": 2,
   "id": "c0a75f8c",
   "metadata": {},
   "outputs": [
    {
     "data": {
      "text/plain": [
       "'Martin'"
      ]
     },
     "execution_count": 2,
     "metadata": {},
     "output_type": "execute_result"
    }
   ],
   "source": [
    "r = Robot()\n",
    "r.get_name()\n",
    "# Output: 'Marvin'"
   ]
  },
  {
   "cell_type": "code",
   "execution_count": 3,
   "id": "5fba3bc4",
   "metadata": {},
   "outputs": [
    {
     "data": {
      "text/plain": [
       "'Martin'"
      ]
     },
     "execution_count": 3,
     "metadata": {},
     "output_type": "execute_result"
    }
   ],
   "source": [
    "r2=Robot(\"Alan\")\n",
    "r2.get_name()\n",
    "# Output: 'Marvin'"
   ]
  },
  {
   "cell_type": "code",
   "execution_count": 4,
   "id": "cad00d57",
   "metadata": {},
   "outputs": [
    {
     "data": {
      "text/plain": [
       "'Markus'"
      ]
     },
     "execution_count": 4,
     "metadata": {},
     "output_type": "execute_result"
    }
   ],
   "source": [
    "r3=Robot(\"Markus\")\n",
    "r3.get_name()\n",
    "# Output: 'Markus'"
   ]
  },
  {
   "cell_type": "markdown",
   "id": "de13b94d",
   "metadata": {},
   "source": [
    "### Bsp. 04.2\n",
    "Durch den Einsatz der *Decorators* `@property` und `@...setter` kann man, wie es in Python üblich ist, via Attribut zugreifen - also \"pythonsich\". Adaptieren Sie den Code vom ersten Bsp.:"
   ]
  },
  {
   "cell_type": "code",
   "execution_count": 5,
   "id": "9f9de059",
   "metadata": {},
   "outputs": [],
   "source": [
    "class Robot:\n",
    "    \n",
    "    _forbidden_names = [\"Charly\", \"Alan\"]\n",
    "    \n",
    "    def __init__(self, name=\"Marvin\"):\n",
    "        self._name = name\n",
    "        \n",
    "    @property\n",
    "    def name(self):\n",
    "        return self._name\n",
    "    \n",
    "    @name.setter\n",
    "    def name(self, name):\n",
    "        if(name in self._forbidden_names):\n",
    "            self._name = \"Marvin\"\n",
    "        else:\n",
    "            self._name = name "
   ]
  },
  {
   "cell_type": "markdown",
   "id": "58ba4dec",
   "metadata": {},
   "source": [
    "**Testszenario**:"
   ]
  },
  {
   "cell_type": "code",
   "execution_count": 6,
   "id": "f3ea1b14",
   "metadata": {},
   "outputs": [
    {
     "name": "stdout",
     "output_type": "stream",
     "text": [
      "R2D2\n",
      "D2R2\n"
     ]
    }
   ],
   "source": [
    "r = Robot(\"R2D2\")\n",
    "print(r.name)\n",
    "r.name=\"D2R2\"\n",
    "print(r.name)"
   ]
  },
  {
   "cell_type": "markdown",
   "id": "0593daed",
   "metadata": {},
   "source": [
    "### Bsp. 04.3 - Inheritance\n",
    "Gegeben ist die Klasse `Robot` mit folgender Implementierung:"
   ]
  },
  {
   "cell_type": "code",
   "execution_count": 7,
   "id": "f05c8139",
   "metadata": {},
   "outputs": [],
   "source": [
    "class Robot():\n",
    "    \n",
    "    def __init__(self, name=\"Marvin\"):\n",
    "        self.name=name\n",
    "    \n",
    "    \n",
    "    def say_hello(self):\n",
    "        return f\"Hello, I'm {self.name}\""
   ]
  },
  {
   "cell_type": "markdown",
   "id": "a3866d72",
   "metadata": {},
   "source": [
    "`say_hello` liefert folgenden Output:"
   ]
  },
  {
   "cell_type": "code",
   "execution_count": 8,
   "id": "f0d9755a",
   "metadata": {},
   "outputs": [
    {
     "data": {
      "text/plain": [
       "\"Hello, I'm Marvin\""
      ]
     },
     "execution_count": 8,
     "metadata": {},
     "output_type": "execute_result"
    }
   ],
   "source": [
    "r3 = Robot()\n",
    "r3.say_hello()"
   ]
  },
  {
   "cell_type": "markdown",
   "id": "8d3480a0",
   "metadata": {},
   "source": [
    "Die Klasse `MedicalRobot` ist von `Robot` abgeleitet und ergänzt diese um die Methode `heal`, die einen beliebigen Namen als Argument übernimmt und ausgibt."
   ]
  },
  {
   "cell_type": "code",
   "execution_count": 9,
   "id": "4e7d7213",
   "metadata": {},
   "outputs": [],
   "source": [
    "class MedicalRobot(Robot):\n",
    "    \n",
    "    def heal(self, name):\n",
    "        return f\"{name} is healed now, or maybe not!\""
   ]
  },
  {
   "cell_type": "markdown",
   "id": "c27cf584",
   "metadata": {},
   "source": [
    "Überschreiben Sie in der Klasse `MedicalRobot` die Methode `say_hello` mit dem Ziel, dass nachfolgende Tests das definierte Ergebnis liefern."
   ]
  },
  {
   "cell_type": "code",
   "execution_count": 10,
   "id": "3af0a103",
   "metadata": {},
   "outputs": [],
   "source": [
    "class MedicalRobot(Robot):\n",
    "    \n",
    "    def heal(self, x):\n",
    "        return f\"{x} is healed now, or maybe not!\"\n",
    "    \n",
    "    def say_hello(self):\n",
    "        return f\"Hello, I'm {self.name}, your personal nurse!\""
   ]
  },
  {
   "cell_type": "markdown",
   "id": "273e08eb",
   "metadata": {},
   "source": [
    "**Tests**:"
   ]
  },
  {
   "cell_type": "code",
   "execution_count": 11,
   "id": "7e6e75c9",
   "metadata": {},
   "outputs": [
    {
     "name": "stdout",
     "output_type": "stream",
     "text": [
      "Hello, I'm Kelvin, your personal nurse!\n"
     ]
    }
   ],
   "source": [
    "mr = MedicalRobot(\"Kelvin\")\n",
    "print(mr.say_hello())\n",
    "# Output: Hello, I'm Kelvin, your personal nurse!"
   ]
  }
 ],
 "metadata": {
  "kernelspec": {
   "display_name": "Python 3 (ipykernel)",
   "language": "python",
   "name": "python3"
  },
  "language_info": {
   "codemirror_mode": {
    "name": "ipython",
    "version": 3
   },
   "file_extension": ".py",
   "mimetype": "text/x-python",
   "name": "python",
   "nbconvert_exporter": "python",
   "pygments_lexer": "ipython3",
   "version": "3.9.13"
  }
 },
 "nbformat": 4,
 "nbformat_minor": 5
}
