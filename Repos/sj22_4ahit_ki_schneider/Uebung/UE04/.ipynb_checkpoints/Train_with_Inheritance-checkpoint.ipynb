{
 "cells": [
  {
   "cell_type": "code",
   "execution_count": 145,
   "id": "03fb0d51",
   "metadata": {},
   "outputs": [],
   "source": [
    "class Passenger:    \n",
    "    def __init__(self, name, valid_ticket):\n",
    "        self._name = name\n",
    "        self._valid_ticket = valid_ticket\n",
    "        \n",
    "class Train:\n",
    "    def __init__(self):\n",
    "        self._passengers = []\n",
    "    \n",
    "    def step_in(self, passenger):\n",
    "        self._passengers.append(passenger)\n",
    "            \n",
    "    def step_out(self, passenger):\n",
    "        self._passengers.remove(passenger)\n",
    "    \n",
    "    def print_passengers(self):\n",
    "        for i in self._passengers:\n",
    "            print (f\"{i._name}, {i._valid_ticket}\")\n",
    "\n",
    "class RailJet(Train):\n",
    "    def step_in(self, passenger):\n",
    "        if passenger._valid_ticket is True:\n",
    "            self._passengers.append(passenger)\n",
    "\n",
    "class InterCity(Train):\n",
    "    def __init__(self, ice_category):\n",
    "        super().__init__()\n",
    "        self._ICE_Category = ice_category"
   ]
  },
  {
   "cell_type": "code",
   "execution_count": 146,
   "id": "5b84cf94",
   "metadata": {},
   "outputs": [],
   "source": [
    "p1 = Passenger('Yanik', False)\n",
    "p2 = Passenger('Felix', True)\n",
    "p3 = Passenger('Clemens', True)"
   ]
  },
  {
   "cell_type": "code",
   "execution_count": 147,
   "id": "453934ef",
   "metadata": {},
   "outputs": [],
   "source": [
    "r1 = RailJet()"
   ]
  },
  {
   "cell_type": "code",
   "execution_count": 148,
   "id": "f0bd63dd",
   "metadata": {},
   "outputs": [],
   "source": [
    "r1.print_passengers()"
   ]
  },
  {
   "cell_type": "code",
   "execution_count": 149,
   "id": "c9df16a8",
   "metadata": {},
   "outputs": [],
   "source": [
    "r1.step_in(p1)\n",
    "r1.step_in(p2)\n",
    "r1.step_in(p3)"
   ]
  },
  {
   "cell_type": "code",
   "execution_count": 150,
   "id": "0e26f2ba",
   "metadata": {},
   "outputs": [
    {
     "name": "stdout",
     "output_type": "stream",
     "text": [
      "Felix, True\n",
      "Clemens, True\n"
     ]
    }
   ],
   "source": [
    "r1.print_passengers()"
   ]
  },
  {
   "cell_type": "code",
   "execution_count": 151,
   "id": "bb776b7a",
   "metadata": {},
   "outputs": [],
   "source": [
    "r1.step_out(p2)"
   ]
  },
  {
   "cell_type": "code",
   "execution_count": 152,
   "id": "de083bb8",
   "metadata": {},
   "outputs": [
    {
     "name": "stdout",
     "output_type": "stream",
     "text": [
      "Clemens, True\n"
     ]
    }
   ],
   "source": [
    "r1.print_passengers()"
   ]
  },
  {
   "cell_type": "code",
   "execution_count": 153,
   "id": "02511608",
   "metadata": {},
   "outputs": [],
   "source": [
    "i1 = InterCity(\"ICE187\")"
   ]
  },
  {
   "cell_type": "code",
   "execution_count": 154,
   "id": "3132d28f",
   "metadata": {},
   "outputs": [],
   "source": [
    "i1.print_passengers()"
   ]
  },
  {
   "cell_type": "code",
   "execution_count": 155,
   "id": "1e6df0d7",
   "metadata": {},
   "outputs": [
    {
     "ename": "ValueError",
     "evalue": "list.remove(x): x not in list",
     "output_type": "error",
     "traceback": [
      "\u001b[1;31m---------------------------------------------------------------------------\u001b[0m",
      "\u001b[1;31mValueError\u001b[0m                                Traceback (most recent call last)",
      "Input \u001b[1;32mIn [155]\u001b[0m, in \u001b[0;36m<cell line: 1>\u001b[1;34m()\u001b[0m\n\u001b[1;32m----> 1\u001b[0m \u001b[43mi1\u001b[49m\u001b[38;5;241;43m.\u001b[39;49m\u001b[43mstep_out\u001b[49m\u001b[43m(\u001b[49m\u001b[43mp2\u001b[49m\u001b[43m)\u001b[49m\n",
      "Input \u001b[1;32mIn [145]\u001b[0m, in \u001b[0;36mTrain.step_out\u001b[1;34m(self, passenger)\u001b[0m\n\u001b[0;32m     13\u001b[0m \u001b[38;5;28;01mdef\u001b[39;00m \u001b[38;5;21mstep_out\u001b[39m(\u001b[38;5;28mself\u001b[39m, passenger):\n\u001b[1;32m---> 14\u001b[0m     \u001b[38;5;28;43mself\u001b[39;49m\u001b[38;5;241;43m.\u001b[39;49m\u001b[43m_passengers\u001b[49m\u001b[38;5;241;43m.\u001b[39;49m\u001b[43mremove\u001b[49m\u001b[43m(\u001b[49m\u001b[43mpassenger\u001b[49m\u001b[43m)\u001b[49m\n",
      "\u001b[1;31mValueError\u001b[0m: list.remove(x): x not in list"
     ]
    }
   ],
   "source": [
    "i1.step_out(p2) # not working"
   ]
  },
  {
   "cell_type": "code",
   "execution_count": 156,
   "id": "3123bd4c",
   "metadata": {},
   "outputs": [],
   "source": [
    "i1.step_in(p3)"
   ]
  },
  {
   "cell_type": "code",
   "execution_count": 157,
   "id": "b78a5cb2",
   "metadata": {},
   "outputs": [
    {
     "name": "stdout",
     "output_type": "stream",
     "text": [
      "Clemens, True\n"
     ]
    }
   ],
   "source": [
    "i1.print_passengers()"
   ]
  }
 ],
 "metadata": {
  "kernelspec": {
   "display_name": "Python 3 (ipykernel)",
   "language": "python",
   "name": "python3"
  },
  "language_info": {
   "codemirror_mode": {
    "name": "ipython",
    "version": 3
   },
   "file_extension": ".py",
   "mimetype": "text/x-python",
   "name": "python",
   "nbconvert_exporter": "python",
   "pygments_lexer": "ipython3",
   "version": "3.9.12"
  }
 },
 "nbformat": 4,
 "nbformat_minor": 5
}
