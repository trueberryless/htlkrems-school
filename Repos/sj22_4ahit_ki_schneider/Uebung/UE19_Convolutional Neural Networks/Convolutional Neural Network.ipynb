{
 "cells": [
  {
   "cell_type": "code",
   "execution_count": 4,
   "id": "464690ac",
   "metadata": {},
   "outputs": [
    {
     "name": "stdout",
     "output_type": "stream",
     "text": [
      "Epoch 1/5\n",
      "59/59 [==============================] - 73s 1s/step - loss: 0.6314 - accuracy: 0.8068\n",
      "Epoch 2/5\n",
      "59/59 [==============================] - 88s 1s/step - loss: 0.1534 - accuracy: 0.9539\n",
      "Epoch 3/5\n",
      "59/59 [==============================] - 93s 2s/step - loss: 0.0952 - accuracy: 0.9714\n",
      "Epoch 4/5\n",
      "59/59 [==============================] - 175s 3s/step - loss: 0.0698 - accuracy: 0.9785\n",
      "Epoch 5/5\n",
      "59/59 [==============================] - 172s 3s/step - loss: 0.0563 - accuracy: 0.9834\n"
     ]
    }
   ],
   "source": [
    "# MNIST 1\n",
    "import tensorflow\n",
    "\n",
    "(x_train, y_train), (x_test, y_test) = tensorflow.keras.datasets.mnist.load_data()\n",
    "\n",
    "# 3D-Tenosr mit 60000 Samples, jeweilige Größe von 28x28 Pixel\n",
    "assert x_train.shape == (60000, 28, 28)\n",
    "assert x_test.shape == (10000, 28, 28)\n",
    "assert y_train.shape == (60000,)\n",
    "assert y_test.shape == (10000,)\n",
    "\n",
    "import numpy as np\n",
    "x_train = x_train.astype(\"float64\") / 255\n",
    "x_test = x_test.astype(\"float64\") / 255\n",
    "\n",
    "from tensorflow.keras import utils\n",
    "y_train = utils.to_categorical(y_train, 10)\n",
    "y_test = utils.to_categorical(y_test, 10)\n",
    "\n",
    "x_train = x_train.reshape(60000, 28, 28, 1)\n",
    "x_test = x_test.reshape(10000, 28, 28, 1)\n",
    "\n",
    "## Sequential\n",
    "import tensorflow as tf\n",
    "from tensorflow import keras\n",
    "from tensorflow.keras import layers\n",
    "from tensorflow.keras import Sequential\n",
    "from tensorflow.keras.layers import Conv2D\n",
    "from tensorflow.keras.layers import MaxPooling2D\n",
    "from tensorflow.keras.layers import Dropout\n",
    "from tensorflow.keras.layers import Flatten\n",
    "from tensorflow.keras.layers import Dense\n",
    "\n",
    "model = Sequential()\n",
    "\n",
    "#Erste Konvolutionsschicht:\n",
    "model.add(Conv2D(32, kernel_size=(3,3), activation=\"relu\", input_shape=(28,28,1)))\n",
    "\n",
    "#Zweite Konvolutionsschicht:\n",
    "model.add(Conv2D(64, kernel_size=(3,3), activation=\"relu\"))\n",
    "\n",
    "model.add(MaxPooling2D(pool_size=(2,2)))\n",
    "model.add(Dropout(0.25))\n",
    "model.add(Flatten())\n",
    "\n",
    "#Vollständig verbundene Schicht mit Dropout:\n",
    "model.add(Dense(128, activation=\"relu\"))\n",
    "model.add(Dropout(0.25))\n",
    "\n",
    "#Ausgabeschicht:\n",
    "model.add(Dense(10, activation=\"softmax\"))\n",
    "model.compile(optimizer=\"rmsprop\", loss=\"categorical_crossentropy\", metrics=[\"accuracy\"])\n",
    "\n",
    "model_history = model.fit(x_train, y_train, epochs=5, batch_size=1024)"
   ]
  },
  {
   "cell_type": "code",
   "execution_count": 14,
   "id": "6c2ca943",
   "metadata": {},
   "outputs": [
    {
     "data": {
      "text/plain": [
       "[0.03823268413543701, 0.9869999885559082]"
      ]
     },
     "execution_count": 14,
     "metadata": {},
     "output_type": "execute_result"
    }
   ],
   "source": [
    "model.evaluate(x_test, y_test, verbose=0)"
   ]
  },
  {
   "cell_type": "code",
   "execution_count": 7,
   "id": "ca947149",
   "metadata": {},
   "outputs": [
    {
     "name": "stdout",
     "output_type": "stream",
     "text": [
      "Model: \"sequential_1\"\n",
      "_________________________________________________________________\n",
      " Layer (type)                Output Shape              Param #   \n",
      "=================================================================\n",
      " conv2d_2 (Conv2D)           (None, 26, 26, 32)        320       \n",
      "                                                                 \n",
      " conv2d_3 (Conv2D)           (None, 24, 24, 64)        18496     \n",
      "                                                                 \n",
      " max_pooling2d_1 (MaxPooling  (None, 12, 12, 64)       0         \n",
      " 2D)                                                             \n",
      "                                                                 \n",
      " dropout_2 (Dropout)         (None, 12, 12, 64)        0         \n",
      "                                                                 \n",
      " flatten_1 (Flatten)         (None, 9216)              0         \n",
      "                                                                 \n",
      " dense_2 (Dense)             (None, 128)               1179776   \n",
      "                                                                 \n",
      " dropout_3 (Dropout)         (None, 128)               0         \n",
      "                                                                 \n",
      " dense_3 (Dense)             (None, 10)                1290      \n",
      "                                                                 \n",
      "=================================================================\n",
      "Total params: 1,199,882\n",
      "Trainable params: 1,199,882\n",
      "Non-trainable params: 0\n",
      "_________________________________________________________________\n"
     ]
    }
   ],
   "source": [
    "model.summary()"
   ]
  },
  {
   "cell_type": "code",
   "execution_count": 60,
   "id": "beb5847e",
   "metadata": {},
   "outputs": [
    {
     "name": "stdout",
     "output_type": "stream",
     "text": [
      "tf.Tensor(\n",
      "[[[ 0.06115406]\n",
      "  [ 0.15007938]\n",
      "  [ 0.08681795]]\n",
      "\n",
      " [[-0.08522804]\n",
      "  [ 0.04897368]\n",
      "  [ 0.02856426]]\n",
      "\n",
      " [[-0.16912265]\n",
      "  [-0.12204701]\n",
      "  [ 0.06109772]]], shape=(3, 3, 1), dtype=float32)\n"
     ]
    },
    {
     "data": {
      "image/png": "[encoded data removed]",
      "text/plain": [
       "<Figure size 640x480 with 1 Axes>"
      ]
     },
     "metadata": {},
     "output_type": "display_data"
    }
   ],
   "source": [
    "# Filter 1 Werte \n",
    "print(model.layers[0].weights[0][:,:,:,1])\n",
    "\n",
    "# Filter 1 Picture\n",
    "import tensorflow.keras.backend as K\n",
    "data = K.eval(model.layers[0].weights[0])\n",
    "import matplotlib.pyplot as plt\n",
    "plt.imshow(data[:,:,:,1].reshape(3,3), cmap=\"gray\")\n",
    "plt.show()"
   ]
  }
 ],
 "metadata": {
  "kernelspec": {
   "display_name": "Python 3 (ipykernel)",
   "language": "python",
   "name": "python3"
  },
  "language_info": {
   "codemirror_mode": {
    "name": "ipython",
    "version": 3
   },
   "file_extension": ".py",
   "mimetype": "text/x-python",
   "name": "python",
   "nbconvert_exporter": "python",
   "pygments_lexer": "ipython3",
   "version": "3.9.13"
  }
 },
 "nbformat": 4,
 "nbformat_minor": 5
}
