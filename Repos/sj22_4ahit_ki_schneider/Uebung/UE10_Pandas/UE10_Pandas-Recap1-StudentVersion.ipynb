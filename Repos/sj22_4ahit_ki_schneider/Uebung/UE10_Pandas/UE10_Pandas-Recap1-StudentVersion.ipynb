{
 "cells": [
  {
   "cell_type": "markdown",
   "metadata": {},
   "source": [
    "# Übung 10 - Pandas Exercises 1\n",
    "Arbeiten Sie nachfolgenden Aufgabenstellungen durch und dokumentieren Sie, wenn notwendig, ihre Erkenntnisse. \n",
    "\n",
    "## Task 10.0\n",
    "Importieren Sie *pandas*."
   ]
  },
  {
   "cell_type": "code",
   "execution_count": 2,
   "metadata": {},
   "outputs": [],
   "source": [
    "import pandas as pd"
   ]
  },
  {
   "cell_type": "markdown",
   "metadata": {},
   "source": [
    "## Task 10.1\n",
    "Erstellen Sie mit `data` ein *Series*-Objekt und geben Sie dessen Werte sowie Indizes aus. Zeigen Sie außerdem, dass\n",
    "- das erstellte Objekt vom Typ *Series*\n",
    "- die Werte ein vom Typ *numpy*\n",
    "- die Indizes vom Typ *RangeIndex*\n",
    "\n",
    "ist/sind."
   ]
  },
  {
   "cell_type": "code",
   "execution_count": 4,
   "metadata": {},
   "outputs": [
    {
     "name": "stdout",
     "output_type": "stream",
     "text": [
      "Objekt:  0    11\n",
      "1    28\n",
      "2    72\n",
      "3     3\n",
      "4     5\n",
      "5     8\n",
      "dtype: int64\n",
      "Typ von Objekt:  <class 'pandas.core.series.Series'>\n",
      "Typ von Werten in Objekt:  <class 'numpy.ndarray'>\n",
      "Typ von Indexen des Objekts:  <class 'pandas.core.indexes.range.RangeIndex'>\n"
     ]
    }
   ],
   "source": [
    "data = [11, 28, 72, 3, 5, 8]\n",
    "\n",
    "numbers = pd.Series(data)\n",
    "print(\"Objekt: \", numbers)\n",
    "print(\"Typ von Objekt: \", type(numbers))\n",
    "print(\"Typ von Werten in Objekt: \", type(numbers.values))\n",
    "print(\"Typ von Indexen des Objekts: \", type(numbers.index))"
   ]
  },
  {
   "cell_type": "markdown",
   "metadata": {},
   "source": [
    "## Task 10.2\n",
    "Erstellen Sie mit `quantities` eine *Series*. Verwenden Sie hierbei `fruits` als Indizes. Gesuchtes Ergebnis:\n",
    "\n",
    "```python\n",
    "apples      20\n",
    "oranges     23\n",
    "cherries    45\n",
    "pears       10\n",
    "dtype: int64\n",
    "```\n",
    "> Ein Vorteil gegenüber NumPy-Arrays ist: Man kann beliebige Indizes verwenden! "
   ]
  },
  {
   "cell_type": "code",
   "execution_count": 34,
   "metadata": {},
   "outputs": [
    {
     "name": "stdout",
     "output_type": "stream",
     "text": [
      "apples      20\n",
      "oranges     23\n",
      "cherries    45\n",
      "pears       10\n",
      "dtype: int64\n"
     ]
    }
   ],
   "source": [
    "fruits = ['apples', 'oranges', 'cherries', 'pears']\n",
    "quantities = [20, 23, 45, 10]\n",
    "\n",
    "myseries = pd.Series(quantities, index=fruits)\n",
    "print(myseries)"
   ]
  },
  {
   "cell_type": "code",
   "execution_count": 5,
   "metadata": {},
   "outputs": [],
   "source": [
    "pd.Series?"
   ]
  },
  {
   "cell_type": "markdown",
   "metadata": {},
   "source": [
    "## Task 10.3\n",
    "Man kann zwei *Series*-Objekte mit denselben Indizes addieren. Das Ergebnis ist ein neues *Series*-Objekt. Addieren sie die Quantities `q1` und `q2`. Bilden Sie außerdem die Summe der beiden *Series*-Objekte. Gesuchtes Ergebnis:\n",
    "\n",
    "```python\n",
    "apples      30\n",
    "oranges     36\n",
    "cherries    70\n",
    "pears       11\n",
    "dtype: int64\n",
    "Summe: 147\n",
    "```"
   ]
  },
  {
   "cell_type": "code",
   "execution_count": 43,
   "metadata": {},
   "outputs": [
    {
     "name": "stdout",
     "output_type": "stream",
     "text": [
      "apples      30\n",
      "oranges     36\n",
      "cherries    70\n",
      "pears       11\n",
      "dtype: int64\n",
      "Sum:  147\n"
     ]
    }
   ],
   "source": [
    "fruits = ['apples', 'oranges', 'cherries', 'pears']\n",
    "\n",
    "q1 = [20, 23, 45, 10]\n",
    "q2 = [10, 13, 25, 1]\n",
    "\n",
    "s1 = pd.Series(q1, index=fruits)\n",
    "s2 = pd.Series(q2, index=fruits)\n",
    "\n",
    "s_sum = s1 + s2\n",
    "print(s_sum)\n",
    "print(\"Sum: \", s_sum.sum())"
   ]
  },
  {
   "cell_type": "markdown",
   "metadata": {},
   "source": [
    "## Task 10.4\n",
    "Die Indizes müssen nicht zwingend identisch sein - Indizes können auch komplett verschieden sein! Erstellen zwei *Series'*, addieren Sie diese und geben Sie das neue *Series*-Objekt aus. Gesuchtes Ergebnis:\n",
    "\n",
    "```python\n",
    "apples      30.0\n",
    "cherries    70.0\n",
    "oranges     36.0\n",
    "peaches      NaN\n",
    "pears        NaN\n",
    "dtype: float64\n",
    "```"
   ]
  },
  {
   "cell_type": "code",
   "execution_count": 10,
   "metadata": {},
   "outputs": [
    {
     "name": "stdout",
     "output_type": "stream",
     "text": [
      "apples      30.0\n",
      "cherries    70.0\n",
      "oranges     36.0\n",
      "peaches      NaN\n",
      "pears        NaN\n",
      "dtype: float64\n"
     ]
    }
   ],
   "source": [
    "f1 = ['apples', 'oranges', 'cherries', 'pears']\n",
    "f2 = ['apples', 'oranges', 'cherries', 'peaches']\n",
    "\n",
    "q1 = [20, 23, 45, 10]\n",
    "q2 = [10, 13, 25, 1]\n",
    "\n",
    "s1 = pd.Series(q1, index=f1)\n",
    "s2 = pd.Series(q2, index=f2)\n",
    "\n",
    "s_sum = s1 + s2\n",
    "print(s_sum)"
   ]
  },
  {
   "cell_type": "markdown",
   "metadata": {},
   "source": [
    "## Task 10.5\n",
    "Index-basierter Zugriff erfolgt mit (zwei) eckigen Klammern (z.B. `my_series['foo']` oder `my_series[['foo', 'bar']]`) \n",
    "\n",
    "Geben Sie \n",
    "* die Anzahl der *Äpfel* aus.\n",
    "* die Anzahl der *Äpfel*, *Orangen* und *Kirschen* aus. "
   ]
  },
  {
   "cell_type": "code",
   "execution_count": 13,
   "metadata": {},
   "outputs": [
    {
     "name": "stdout",
     "output_type": "stream",
     "text": [
      "20\n",
      "88\n"
     ]
    }
   ],
   "source": [
    "fruits = ['apples', 'oranges', 'cherries', 'pears']\n",
    "quantities = [20, 23, 45, 10]\n",
    "\n",
    "s = pd.Series(quantities, index=fruits)\n",
    "print(s['apples'])\n",
    "print(s[['apples', 'oranges', 'cherries']].sum())"
   ]
  },
  {
   "cell_type": "markdown",
   "metadata": {},
   "source": [
    "## Task 10.6\n",
    "Ein Problem bei Aufgaben in der Datenanalyse besteht in fehlenden Daten. Gegeben ist das Dictionary `cities`, das für ausgewählte Städte die Einwohnerzahl bereithält. a) Erstellen Sie daraus eine *Series*-Objekt und geben Sie dieses aus. "
   ]
  },
  {
   "cell_type": "code",
   "execution_count": 16,
   "metadata": {},
   "outputs": [
    {
     "data": {
      "text/plain": [
       "London       8615246\n",
       "Berlin       3562166\n",
       "Madrid       3165235\n",
       "Rome         2874038\n",
       "Paris        2273305\n",
       "Vienna       1805681\n",
       "Bucharest    1803425\n",
       "Hamburg      1760433\n",
       "Budapest     1754000\n",
       "Warsaw       1740119\n",
       "Barcelona    1602386\n",
       "Munich       1493900\n",
       "Milan        1350690\n",
       "dtype: int64"
      ]
     },
     "execution_count": 16,
     "metadata": {},
     "output_type": "execute_result"
    }
   ],
   "source": [
    "cities = {\n",
    "    'London': 8615246,\n",
    "    'Berlin': 3562166,\n",
    "    'Madrid': 3165235,\n",
    "    'Rome': 2874038,\n",
    "    'Paris': 2273305,\n",
    "    'Vienna': 1805681,\n",
    "    'Bucharest': 1803425,\n",
    "    'Hamburg': 1760433,\n",
    "    'Budapest': 1754000,\n",
    "    'Warsaw': 1740119,\n",
    "    'Barcelona': 1602386,\n",
    "    'Munich': 1493900,\n",
    "    'Milan': 1350690\n",
    "}\n",
    "\n",
    "s = pd.Series(cities)\n",
    "s"
   ]
  },
  {
   "cell_type": "markdown",
   "metadata": {},
   "source": [
    "Erstellen Sie b) zwei weitere *Series*-Objekte, die aber mit `my_cities1` und `my_cities2` neuen Indizes verwendet. Wie intrepretieren Sie das Ergebnis, was fällt Ihnen auf?"
   ]
  },
  {
   "cell_type": "code",
   "execution_count": 17,
   "metadata": {},
   "outputs": [
    {
     "name": "stdout",
     "output_type": "stream",
     "text": [
      "London       8615246.0\n",
      "Paris        2273305.0\n",
      "Zurich             NaN\n",
      "Berlin       3562166.0\n",
      "Stuttgart          NaN\n",
      "Hamburg      1760433.0\n",
      "dtype: float64\n",
      "\n",
      "London     8615246\n",
      "Paris      2273305\n",
      "Berlin     3562166\n",
      "Hamburg    1760433\n",
      "dtype: int64\n"
     ]
    }
   ],
   "source": [
    "my_cities1 = ['London', 'Paris', 'Zurich', 'Berlin', 'Stuttgart', 'Hamburg']\n",
    "\n",
    "my_cities2 = ['London', 'Paris', 'Berlin', 'Hamburg']\n",
    "\n",
    "s_c1 = pd.Series(cities, index=my_cities1)\n",
    "print(s_c1)\n",
    "\n",
    "print()\n",
    "\n",
    "s_c2 = pd.Series(cities, index=my_cities2)\n",
    "print(s_c2)"
   ]
  },
  {
   "cell_type": "markdown",
   "metadata": {},
   "source": [
    "`nan`steht für *not a number*. Das ist in unserem Fall als \"fehlt\" zu verstehen. Mit den Methoden `isnull`und `notnull` kann man auf fehlende Werte überprüfen. Führen Sie c) diese Überprüfung durch, sodass folgendes Ergebnis zu Buch steht:\n",
    "\n",
    "```Python\n",
    "London       False\n",
    "Paris        False\n",
    "Zurich        True\n",
    "Berlin       False\n",
    "Stuttgart     True\n",
    "Hamburg      False\n",
    "dtype: bool\n",
    "```"
   ]
  },
  {
   "cell_type": "code",
   "execution_count": 19,
   "metadata": {},
   "outputs": [
    {
     "data": {
      "text/plain": [
       "London       False\n",
       "Paris        False\n",
       "Zurich        True\n",
       "Berlin       False\n",
       "Stuttgart     True\n",
       "Hamburg      False\n",
       "dtype: bool"
      ]
     },
     "execution_count": 19,
     "metadata": {},
     "output_type": "execute_result"
    }
   ],
   "source": [
    "s_c1.isnull()"
   ]
  },
  {
   "cell_type": "markdown",
   "metadata": {},
   "source": [
    "Filtern Sie d) die fehlende Werte mit `dropna()`. Gesuchtes Ergebnis:\n",
    "```python\n",
    "London     8615246.0\n",
    "Paris      2273305.0\n",
    "Berlin     3562166.0\n",
    "Hamburg    1760433.0\n",
    "dtype: float64\n",
    "```"
   ]
  },
  {
   "cell_type": "code",
   "execution_count": 64,
   "metadata": {},
   "outputs": [
    {
     "data": {
      "text/plain": [
       "London     8615246.0\n",
       "Paris      2273305.0\n",
       "Berlin     3562166.0\n",
       "Hamburg    1760433.0\n",
       "dtype: float64"
      ]
     },
     "execution_count": 64,
     "metadata": {},
     "output_type": "execute_result"
    }
   ],
   "source": [
    "s_c1.dropna()"
   ]
  },
  {
   "cell_type": "markdown",
   "metadata": {},
   "source": [
    "Oftmals will man die fehlenden Daten gar nicht filtern, sondern mit \"passenden\" Werten auffüllen. Eine Möglichkeit bietet sich mit der Methode `fillna()`. Man könnte bspw. lauter \"0\" eintragen. Setzen Sie e) diesen Vorschlag um:\n",
    "\n",
    "```Python\n",
    "London       8615246.0\n",
    "Paris        2273305.0\n",
    "Zurich             0.0\n",
    "Berlin       3562166.0\n",
    "Stuttgart          0.0\n",
    "Hamburg      1760433.0\n",
    "dtype: float64\n",
    "```"
   ]
  },
  {
   "cell_type": "code",
   "execution_count": 24,
   "metadata": {},
   "outputs": [
    {
     "name": "stdout",
     "output_type": "stream",
     "text": [
      "London       8615246.0\n",
      "Paris        2273305.0\n",
      "Zurich             0.0\n",
      "Berlin       3562166.0\n",
      "Stuttgart          0.0\n",
      "Hamburg      1760433.0\n",
      "dtype: float64\n",
      "\n",
      "London       8615246.0\n",
      "Paris        2273305.0\n",
      "Zurich       4052787.5\n",
      "Berlin       3562166.0\n",
      "Stuttgart    4052787.5\n",
      "Hamburg      1760433.0\n",
      "dtype: float64\n"
     ]
    }
   ],
   "source": [
    "print(s_c1.fillna(0))\n",
    "print()\n",
    "print(s_c1.fillna(s_c1.mean()))"
   ]
  },
  {
   "cell_type": "markdown",
   "metadata": {},
   "source": [
    "## Task 10.7\n",
    "Ein *Dataframe* hat einen Zeilen- und Spaltenindex. Um mehrere *Series'* zusammenzufügen, stellt Pandas die `concat`-Methode zur Verfügung (https://pandas.pydata.org/pandas-docs/stable/reference/api/pandas.concat.html). Erstellen Sie a) das Dataframe `shops_df`, indem Sie die 3 *Series'* zusammenfügen. Das Ergebnis gestaltet sich im ersten Schritt folgendermaßen:\n",
    "\n",
    "```Python\n",
    "2014    2409.14\n",
    "2015    2941.01\n",
    "2016    3496.83\n",
    "2017    3119.55\n",
    "2014    1203.45\n",
    "2015    3441.62\n",
    "2016    3007.83\n",
    "2017    3619.53\n",
    "2014    3412.12\n",
    "2015    3491.16\n",
    "2016    3457.19\n",
    "2017    1963.10\n",
    "dtype: float64\n",
    "```"
   ]
  },
  {
   "cell_type": "code",
   "execution_count": 26,
   "metadata": {},
   "outputs": [
    {
     "data": {
      "text/plain": [
       "2014    2409.14\n",
       "2015    2941.01\n",
       "2016    3496.83\n",
       "2017    3119.55\n",
       "2014    1203.45\n",
       "2015    3441.62\n",
       "2016    3007.83\n",
       "2017    3619.53\n",
       "2014    3412.12\n",
       "2015    3491.16\n",
       "2016    3457.19\n",
       "2017    1963.10\n",
       "dtype: float64"
      ]
     },
     "execution_count": 26,
     "metadata": {},
     "output_type": "execute_result"
    }
   ],
   "source": [
    "#Die Jahre 2014, 2015, 2016 und 2017 erstellen, die als Index einer Series dienen:\n",
    "years = range(2014, 2018)\n",
    "\n",
    "shop1 = pd.Series([2409.14, 2941.01, 3496.83, 3119.55], index=years)\n",
    "shop2 = pd.Series([1203.45, 3441.62, 3007.83, 3619.53], index=years)\n",
    "shop3 = pd.Series([3412.12, 3491.16, 3457.19, 1963.10], index=years)\n",
    "\n",
    "shops_df = pd.concat([shop1, shop2, shop3])\n",
    "shops_df"
   ]
  },
  {
   "cell_type": "markdown",
   "metadata": {},
   "source": [
    "Das Ergebnis ist mehr oder weniger unbrauchbar. Der Grund: `concat` verwendet als Default-Wert für den *axis*-Paramter den Wert 0. Das bedeutet, es wird Zeile um Zeile (der jeweiligen *Series*) aneinandergefügt (vgl. NumPy-Einführung, Leserichtung bei 2D-Tensoren). Abhilfe schafft eine spaltenweise \"Additiion\" der einzelnen *Series'*. Die Umsetzung erfolgt mit dem Argument `axis=1` bei `concat`. Verwenden Sie b) das `axis=1`-Argument beim Zusammenfügen der *Series'*. Das Ergebnis:\n",
    "\n",
    "```Python\n",
    "            0        1        2\n",
    "2014  2409.14  1203.45  3412.12\n",
    "2015  2941.01  3441.62  3491.16\n",
    "2016  3496.83  3007.83  3457.19\n",
    "2017  3119.55  3619.53  1963.10\n",
    "```"
   ]
  },
  {
   "cell_type": "code",
   "execution_count": 31,
   "metadata": {},
   "outputs": [
    {
     "data": {
      "text/html": [
       "<div>\n",
       "<style scoped>\n",
       "    .dataframe tbody tr th:only-of-type {\n",
       "        vertical-align: middle;\n",
       "    }\n",
       "\n",
       "    .dataframe tbody tr th {\n",
       "        vertical-align: top;\n",
       "    }\n",
       "\n",
       "    .dataframe thead th {\n",
       "        text-align: right;\n",
       "    }\n",
       "</style>\n",
       "<table border=\"1\" class=\"dataframe\">\n",
       "  <thead>\n",
       "    <tr style=\"text-align: right;\">\n",
       "      <th></th>\n",
       "      <th>0</th>\n",
       "      <th>1</th>\n",
       "      <th>2</th>\n",
       "    </tr>\n",
       "  </thead>\n",
       "  <tbody>\n",
       "    <tr>\n",
       "      <th>2014</th>\n",
       "      <td>2409.14</td>\n",
       "      <td>1203.45</td>\n",
       "      <td>3412.12</td>\n",
       "    </tr>\n",
       "    <tr>\n",
       "      <th>2015</th>\n",
       "      <td>2941.01</td>\n",
       "      <td>3441.62</td>\n",
       "      <td>3491.16</td>\n",
       "    </tr>\n",
       "    <tr>\n",
       "      <th>2016</th>\n",
       "      <td>3496.83</td>\n",
       "      <td>3007.83</td>\n",
       "      <td>3457.19</td>\n",
       "    </tr>\n",
       "    <tr>\n",
       "      <th>2017</th>\n",
       "      <td>3119.55</td>\n",
       "      <td>3619.53</td>\n",
       "      <td>1963.10</td>\n",
       "    </tr>\n",
       "  </tbody>\n",
       "</table>\n",
       "</div>"
      ],
      "text/plain": [
       "            0        1        2\n",
       "2014  2409.14  1203.45  3412.12\n",
       "2015  2941.01  3441.62  3491.16\n",
       "2016  3496.83  3007.83  3457.19\n",
       "2017  3119.55  3619.53  1963.10"
      ]
     },
     "execution_count": 31,
     "metadata": {},
     "output_type": "execute_result"
    }
   ],
   "source": [
    "shops_df = pd.concat([shop1, shop2, shop3], axis=1)\n",
    "shops_df"
   ]
  },
  {
   "cell_type": "markdown",
   "metadata": {},
   "source": [
    "Die vorher erzielte Darstellungsform der Daten ist definitiv sinnvoller, einzig die Spaltennamen sind noch nicht das Gelbe vom Ei. Es ist bekannt, dass ein *DataFrame* über das **Property** `columns` verfügt. Diesem kann man neue Werte (z.B. als Liste) zuweisen. Weisen Sie c) dem DataFrame `shops_df` die neuen Spaltenbezeichner (siehe Liste `cities`) zu. Das Ergebnis:\n",
    "\n",
    "```Python\n",
    "         Wien     Graz  Salzburg\n",
    "2014  2409.14  1203.45   3412.12\n",
    "2015  2941.01  3441.62   3491.16\n",
    "2016  3496.83  3007.83   3457.19\n",
    "2017  3119.55  3619.53   1963.10\n",
    "```"
   ]
  },
  {
   "cell_type": "code",
   "execution_count": 47,
   "metadata": {},
   "outputs": [
    {
     "data": {
      "text/html": [
       "<div>\n",
       "<style scoped>\n",
       "    .dataframe tbody tr th:only-of-type {\n",
       "        vertical-align: middle;\n",
       "    }\n",
       "\n",
       "    .dataframe tbody tr th {\n",
       "        vertical-align: top;\n",
       "    }\n",
       "\n",
       "    .dataframe thead th {\n",
       "        text-align: right;\n",
       "    }\n",
       "</style>\n",
       "<table border=\"1\" class=\"dataframe\">\n",
       "  <thead>\n",
       "    <tr style=\"text-align: right;\">\n",
       "      <th></th>\n",
       "      <th>Wien</th>\n",
       "      <th>Graz</th>\n",
       "      <th>Salzburg</th>\n",
       "    </tr>\n",
       "  </thead>\n",
       "  <tbody>\n",
       "    <tr>\n",
       "      <th>2014</th>\n",
       "      <td>2409.14</td>\n",
       "      <td>1203.45</td>\n",
       "      <td>3412.12</td>\n",
       "    </tr>\n",
       "    <tr>\n",
       "      <th>2015</th>\n",
       "      <td>2941.01</td>\n",
       "      <td>3441.62</td>\n",
       "      <td>3491.16</td>\n",
       "    </tr>\n",
       "    <tr>\n",
       "      <th>2016</th>\n",
       "      <td>3496.83</td>\n",
       "      <td>3007.83</td>\n",
       "      <td>3457.19</td>\n",
       "    </tr>\n",
       "    <tr>\n",
       "      <th>2017</th>\n",
       "      <td>3119.55</td>\n",
       "      <td>3619.53</td>\n",
       "      <td>1963.10</td>\n",
       "    </tr>\n",
       "  </tbody>\n",
       "</table>\n",
       "</div>"
      ],
      "text/plain": [
       "         Wien     Graz  Salzburg\n",
       "2014  2409.14  1203.45   3412.12\n",
       "2015  2941.01  3441.62   3491.16\n",
       "2016  3496.83  3007.83   3457.19\n",
       "2017  3119.55  3619.53   1963.10"
      ]
     },
     "execution_count": 47,
     "metadata": {},
     "output_type": "execute_result"
    }
   ],
   "source": [
    "cities = ['Wien', 'Graz', 'Salzburg'] \n",
    "\n",
    "shops_df.columns = cities\n",
    "shops_df"
   ]
  },
  {
   "cell_type": "markdown",
   "metadata": {},
   "source": [
    "Geben Sie d) die Inhalte der Spalte \"Graz\" aus und vergewissern Sie sich, ob die Spalte vom Typ *Series* ist."
   ]
  },
  {
   "cell_type": "code",
   "execution_count": 48,
   "metadata": {},
   "outputs": [
    {
     "name": "stdout",
     "output_type": "stream",
     "text": [
      "2014    1203.45\n",
      "2015    3441.62\n",
      "2016    3007.83\n",
      "2017    3619.53\n",
      "Name: Graz, dtype: float64\n",
      "<class 'pandas.core.series.Series'>\n"
     ]
    }
   ],
   "source": [
    "print(shops_df['Graz'])\n",
    "print(type(shops_df['Graz']))"
   ]
  },
  {
   "cell_type": "code",
   "execution_count": 50,
   "metadata": {},
   "outputs": [
    {
     "name": "stdout",
     "output_type": "stream",
     "text": [
      "         Wien     Graz\n",
      "2014  2409.14  1203.45\n",
      "2015  2941.01  3441.62\n"
     ]
    }
   ],
   "source": [
    "print(shops_df.iloc[0:2][['Wien', 'Graz']])"
   ]
  }
 ],
 "metadata": {
  "kernelspec": {
   "display_name": "Python 3 (ipykernel)",
   "language": "python",
   "name": "python3"
  },
  "language_info": {
   "codemirror_mode": {
    "name": "ipython",
    "version": 3
   },
   "file_extension": ".py",
   "mimetype": "text/x-python",
   "name": "python",
   "nbconvert_exporter": "python",
   "pygments_lexer": "ipython3",
   "version": "3.9.13"
  }
 },
 "nbformat": 4,
 "nbformat_minor": 2
}
