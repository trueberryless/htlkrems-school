{
 "cells": [
  {
   "cell_type": "code",
   "execution_count": 1,
   "id": "b4c53759",
   "metadata": {},
   "outputs": [],
   "source": [
    "shopping_card = []\n",
    "shopping_card2 = []"
   ]
  },
  {
   "cell_type": "code",
   "execution_count": 2,
   "id": "8f9ee308",
   "metadata": {},
   "outputs": [],
   "source": [
    "import os\n",
    "\n",
    "def read_shopping_card():   \n",
    "    shopping_card = []\n",
    "    \n",
    "    with open(os.path.join(os.path.dirname(os.getcwd()), 'UE06\\\\data', 'shopping_card.txt'), encoding=\"UTF-8\") as sc1:\n",
    "        next(sc1)\n",
    "        for line in sc1:\n",
    "            values = line.split(\";\")\n",
    "            shopping_card.append({\n",
    "                'Nr' : values[0],\n",
    "                'Menge' : values[1],\n",
    "                'Einzelpreis' : values[2],\n",
    "                'Bezeichnung' : values[3].strip()\n",
    "            })\n",
    "            \n",
    "    return shopping_card\n",
    "\n",
    "shopping_card = read_shopping_card()"
   ]
  },
  {
   "cell_type": "code",
   "execution_count": 3,
   "id": "6cb50fa4",
   "metadata": {},
   "outputs": [],
   "source": [
    "def create_second_shopping_card():\n",
    "    shopping_card2 = []\n",
    "    \n",
    "    for element in shopping_card:\n",
    "        shopping_card2.append({\n",
    "            'Nr' : element['Nr'],\n",
    "            'Gesamtpreis' : round(float(element['Menge']) * float(element['Einzelpreis']), 2),\n",
    "            'Bezeichnung' : element['Bezeichnung']\n",
    "        })\n",
    "        \n",
    "    return shopping_card2\n",
    "        \n",
    "shopping_card2 = create_second_shopping_card()"
   ]
  },
  {
   "cell_type": "code",
   "execution_count": 4,
   "id": "bb8a27b7",
   "metadata": {},
   "outputs": [],
   "source": [
    "def write_shopping_card2():\n",
    "    \n",
    "    f = open(os.path.join(os.path.dirname(os.getcwd()), 'UE06\\\\data', 'shopping_card2.txt'), \"w\", encoding=\"UTF-8\")\n",
    "    f.write(\"#Nr;#Gesamtpreis;#Bezeichnung\\n\")\n",
    "    for element in shopping_card2:\n",
    "        f.write(str(element['Nr']) + \";\" + str(element['Gesamtpreis']) + \";\" + str(element['Bezeichnung']) + \"\\n\")\n",
    "    f.close()\n",
    "    \n",
    "write_shopping_card2()"
   ]
  },
  {
   "cell_type": "code",
   "execution_count": 5,
   "id": "170cf542",
   "metadata": {},
   "outputs": [],
   "source": [
    "def assert_values():\n",
    "    shopping_card_values = []\n",
    "    shopping_card2_values = []\n",
    "    \n",
    "    with open(os.path.join(os.path.dirname(os.getcwd()), 'UE06\\\\data', 'shopping_card.txt'), encoding=\"UTF-8\") as sc1:\n",
    "        next(sc1)\n",
    "        for line in sc1:\n",
    "            values = line.split(\";\")\n",
    "            shopping_card_values.append(round(float(values[1]) * float(values[2]), 2))\n",
    "    \n",
    "    with open(os.path.join(os.path.dirname(os.getcwd()), 'UE06\\\\data', 'shopping_card2.txt'), encoding=\"UTF-8\") as sc2:\n",
    "        next(sc2)\n",
    "        for line in sc2:\n",
    "            values = line.split(\";\")\n",
    "            shopping_card2_values.append(float(values[1]))\n",
    "\n",
    "    assert shopping_card_values == shopping_card2_values\n",
    "    \n",
    "assert_values()"
   ]
  }
 ],
 "metadata": {
  "kernelspec": {
   "display_name": "Python 3 (ipykernel)",
   "language": "python",
   "name": "python3"
  },
  "language_info": {
   "codemirror_mode": {
    "name": "ipython",
    "version": 3
   },
   "file_extension": ".py",
   "mimetype": "text/x-python",
   "name": "python",
   "nbconvert_exporter": "python",
   "pygments_lexer": "ipython3",
   "version": "3.9.13"
  }
 },
 "nbformat": 4,
 "nbformat_minor": 5
}
