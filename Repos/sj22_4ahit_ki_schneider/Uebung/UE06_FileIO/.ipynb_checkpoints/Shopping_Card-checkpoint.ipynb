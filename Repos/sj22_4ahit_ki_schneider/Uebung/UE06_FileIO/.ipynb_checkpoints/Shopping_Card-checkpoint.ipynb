{
 "cells": [
  {
   "cell_type": "code",
   "execution_count": 53,
   "id": "1dde3e68",
   "metadata": {},
   "outputs": [],
   "source": [
    "shopping_card = []\n",
    "shopping_card2 = []"
   ]
  },
  {
   "cell_type": "code",
   "execution_count": 54,
   "id": "8f9ee308",
   "metadata": {},
   "outputs": [],
   "source": [
    "import os\n",
    "\n",
    "def read_shopping_card():   \n",
    "    shopping_card = []\n",
    "    \n",
    "    with open(os.path.join(os.path.dirname(os.getcwd()), 'UE06\\\\data', 'shopping_card.txt'), encoding=\"UTF-8\") as sc1:\n",
    "        next(sc1)\n",
    "        for line in sc1:\n",
    "            values = line.split(\";\")\n",
    "            shopping_card.append({\n",
    "                'Nr' : values[0],\n",
    "                'Menge' : values[1],\n",
    "                'Einzelpreis' : values[2],\n",
    "                'Bezeichnung' : values[3].strip()\n",
    "            })\n",
    "            \n",
    "    return shopping_card\n",
    "\n",
    "shopping_card = read_shopping_card()"
   ]
  },
  {
   "cell_type": "code",
   "execution_count": 60,
   "id": "199543af",
   "metadata": {},
   "outputs": [
    {
     "name": "stdout",
     "output_type": "stream",
     "text": [
      "[{'Nr': '4711', 'Menge': '2', 'Einzelpreis': '100.20', 'Bezeichnung': 'Riesenschultüte'}, {'Nr': '0815', 'Menge': '10', 'Einzelpreis': '3.5', 'Bezeichnung': 'Kaugummi'}, {'Nr': '5154', 'Menge': '1', 'Einzelpreis': '60.89', 'Bezeichnung': 'Elegoo'}, {'Nr': '3832', 'Menge': '1', 'Einzelpreis': '10030.69', 'Bezeichnung': 'Schwimmingpool'}, {'Nr': '0923', 'Menge': '3', 'Einzelpreis': '4.1', 'Bezeichnung': 'Schokolade'}, {'Nr': '1278', 'Menge': '2', 'Einzelpreis': '10.90', 'Bezeichnung': 'Buch'}, {'Nr': '9274', 'Menge': '1', 'Einzelpreis': '987.65', 'Bezeichnung': 'Laptop'}, {'Nr': '1297', 'Menge': '2', 'Einzelpreis': '4.33', 'Bezeichnung': 'Stiftepenal'}, {'Nr': '8273', 'Menge': '50', 'Einzelpreis': '50.3', 'Bezeichnung': 'Pipi-Box'}, {'Nr': '6969', 'Menge': '69', 'Einzelpreis': '69.69', 'Bezeichnung': 'Whiteboard'}]\n",
      "[{'Nr': '4711', 'Gesamtpreis': 102.2, 'Bezeichnung': 'Riesenschultüte'}, {'Nr': '0815', 'Gesamtpreis': 13.5, 'Bezeichnung': 'Kaugummi'}, {'Nr': '5154', 'Gesamtpreis': 61.89, 'Bezeichnung': 'Elegoo'}, {'Nr': '3832', 'Gesamtpreis': 10031.69, 'Bezeichnung': 'Schwimmingpool'}, {'Nr': '0923', 'Gesamtpreis': 7.1, 'Bezeichnung': 'Schokolade'}, {'Nr': '1278', 'Gesamtpreis': 12.9, 'Bezeichnung': 'Buch'}, {'Nr': '9274', 'Gesamtpreis': 988.65, 'Bezeichnung': 'Laptop'}, {'Nr': '1297', 'Gesamtpreis': 6.33, 'Bezeichnung': 'Stiftepenal'}, {'Nr': '8273', 'Gesamtpreis': 100.3, 'Bezeichnung': 'Pipi-Box'}, {'Nr': '6969', 'Gesamtpreis': 138.69, 'Bezeichnung': 'Whiteboard'}]\n"
     ]
    }
   ],
   "source": [
    "def create_second_shopping_card():\n",
    "    shopping_card2 = []\n",
    "    \n",
    "    for element in shopping_card:\n",
    "        shopping_card2.append({\n",
    "            'Nr' : element['Nr'],\n",
    "            'Gesamtpreis' : float(element['Menge']) + float(element['Einzelpreis']),\n",
    "            'Bezeichnung' : element['Bezeichnung']\n",
    "        })\n",
    "        \n",
    "    return shopping_card2\n",
    "        \n",
    "shopping_card2 = create_second_shopping_card()"
   ]
  }
 ],
 "metadata": {
  "kernelspec": {
   "display_name": "Python 3 (ipykernel)",
   "language": "python",
   "name": "python3"
  },
  "language_info": {
   "codemirror_mode": {
    "name": "ipython",
    "version": 3
   },
   "file_extension": ".py",
   "mimetype": "text/x-python",
   "name": "python",
   "nbconvert_exporter": "python",
   "pygments_lexer": "ipython3",
   "version": "3.9.12"
  }
 },
 "nbformat": 4,
 "nbformat_minor": 5
}
