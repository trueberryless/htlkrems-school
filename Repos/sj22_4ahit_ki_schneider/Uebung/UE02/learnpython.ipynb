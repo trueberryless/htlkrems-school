{
 "cells": [
  {
   "cell_type": "code",
   "execution_count": 1,
   "id": "6a11e1ce",
   "metadata": {},
   "outputs": [],
   "source": [
    "one = 1"
   ]
  },
  {
   "cell_type": "code",
   "execution_count": 2,
   "id": "ba906aaf",
   "metadata": {},
   "outputs": [
    {
     "data": {
      "text/plain": [
       "int"
      ]
     },
     "execution_count": 2,
     "metadata": {},
     "output_type": "execute_result"
    }
   ],
   "source": [
    "type(one)"
   ]
  },
  {
   "cell_type": "code",
   "execution_count": 3,
   "id": "15e4bcd8",
   "metadata": {},
   "outputs": [],
   "source": [
    "two = 2"
   ]
  },
  {
   "cell_type": "code",
   "execution_count": 4,
   "id": "92ab2798",
   "metadata": {},
   "outputs": [],
   "source": [
    "somestring = \"a text\""
   ]
  },
  {
   "cell_type": "code",
   "execution_count": 5,
   "id": "1925d3b6",
   "metadata": {},
   "outputs": [
    {
     "data": {
      "text/plain": [
       "str"
      ]
     },
     "execution_count": 5,
     "metadata": {},
     "output_type": "execute_result"
    }
   ],
   "source": [
    "type(somestring)"
   ]
  },
  {
   "cell_type": "code",
   "execution_count": 6,
   "id": "a2520475",
   "metadata": {},
   "outputs": [],
   "source": [
    "boolean = True"
   ]
  },
  {
   "cell_type": "code",
   "execution_count": 7,
   "id": "1068968e",
   "metadata": {},
   "outputs": [
    {
     "data": {
      "text/plain": [
       "bool"
      ]
     },
     "execution_count": 7,
     "metadata": {},
     "output_type": "execute_result"
    }
   ],
   "source": [
    "type(boolean)"
   ]
  },
  {
   "cell_type": "code",
   "execution_count": 8,
   "id": "f8f44d34",
   "metadata": {},
   "outputs": [
    {
     "name": "stdout",
     "output_type": "stream",
     "text": [
      "juhu\n"
     ]
    }
   ],
   "source": [
    "if True:\n",
    "    print(\"juhu\")"
   ]
  },
  {
   "cell_type": "code",
   "execution_count": 9,
   "id": "cf03040c",
   "metadata": {},
   "outputs": [],
   "source": [
    "if False:\n",
    "    print(\"Never see you again!\")"
   ]
  },
  {
   "cell_type": "code",
   "execution_count": 10,
   "id": "d48f6685",
   "metadata": {},
   "outputs": [
    {
     "name": "stdout",
     "output_type": "stream",
     "text": [
      "a\n",
      "a\n",
      "a\n",
      "a\n",
      "a\n",
      "a\n",
      "a\n"
     ]
    }
   ],
   "source": [
    "num = 1\n",
    "\n",
    "while num <= 100:\n",
    "    num*=2\n",
    "    print(\"a\")"
   ]
  },
  {
   "cell_type": "code",
   "execution_count": 11,
   "id": "8954e784",
   "metadata": {},
   "outputs": [
    {
     "name": "stdout",
     "output_type": "stream",
     "text": [
      "1\n",
      "2\n",
      "3\n",
      "4\n",
      "5\n",
      "6\n",
      "7\n",
      "8\n",
      "9\n"
     ]
    }
   ],
   "source": [
    "for i in range(1,10):\n",
    "    print(i)"
   ]
  },
  {
   "cell_type": "code",
   "execution_count": 12,
   "id": "1a7c80de",
   "metadata": {},
   "outputs": [
    {
     "name": "stdout",
     "output_type": "stream",
     "text": [
      "1\n",
      "2\n",
      "3\n",
      "4\n"
     ]
    }
   ],
   "source": [
    "for i in 1,2,3,4:\n",
    "    print(i)"
   ]
  },
  {
   "cell_type": "code",
   "execution_count": 13,
   "id": "f2788c7f",
   "metadata": {},
   "outputs": [
    {
     "data": {
      "text/plain": [
       "[1, 2, 3, 4, 5, 6, 7, 8, 9, 10]"
      ]
     },
     "execution_count": 13,
     "metadata": {},
     "output_type": "execute_result"
    }
   ],
   "source": [
    "[*range(1,11)]"
   ]
  },
  {
   "cell_type": "code",
   "execution_count": 14,
   "id": "08f0fc5a",
   "metadata": {},
   "outputs": [
    {
     "data": {
      "text/plain": [
       "[1, 2, 3, 4, 5, 6, 7, 8, 9, 10]"
      ]
     },
     "execution_count": 14,
     "metadata": {},
     "output_type": "execute_result"
    }
   ],
   "source": [
    "list(range(1,11))"
   ]
  },
  {
   "cell_type": "code",
   "execution_count": 15,
   "id": "c1b49f5e",
   "metadata": {},
   "outputs": [],
   "source": [
    "my_integers = [1, 2, 3, 4, 5]"
   ]
  },
  {
   "cell_type": "code",
   "execution_count": 16,
   "id": "cb9ec6e1",
   "metadata": {},
   "outputs": [
    {
     "name": "stdout",
     "output_type": "stream",
     "text": [
      "[1, 2, 3, 4, 5]\n"
     ]
    }
   ],
   "source": [
    "print(my_integers)"
   ]
  },
  {
   "cell_type": "code",
   "execution_count": 17,
   "id": "9e3cd22b",
   "metadata": {},
   "outputs": [
    {
     "data": {
      "text/plain": [
       "list"
      ]
     },
     "execution_count": 17,
     "metadata": {},
     "output_type": "execute_result"
    }
   ],
   "source": [
    "type(my_integers)"
   ]
  },
  {
   "cell_type": "code",
   "execution_count": 18,
   "id": "d507b84a",
   "metadata": {},
   "outputs": [],
   "source": [
    "my_integers.append(6)"
   ]
  },
  {
   "cell_type": "code",
   "execution_count": 19,
   "id": "05c9ace3",
   "metadata": {},
   "outputs": [
    {
     "name": "stdout",
     "output_type": "stream",
     "text": [
      "some_key --> some_value\n"
     ]
    }
   ],
   "source": [
    "dictionary = { \"some_key\": \"some_value\" }\n",
    "\n",
    "for key in dictionary:\n",
    "    print(\"%s --> %s\" %(key, dictionary[key]))"
   ]
  },
  {
   "cell_type": "code",
   "execution_count": 20,
   "id": "294473dc",
   "metadata": {},
   "outputs": [
    {
     "name": "stdout",
     "output_type": "stream",
     "text": [
      "some_value\n"
     ]
    }
   ],
   "source": [
    "print(dictionary['some_key'])"
   ]
  },
  {
   "cell_type": "code",
   "execution_count": 21,
   "id": "4c9e93fb",
   "metadata": {},
   "outputs": [
    {
     "name": "stdout",
     "output_type": "stream",
     "text": [
      "{'some_key': 'some_value'}\n"
     ]
    }
   ],
   "source": [
    "print(dictionary)"
   ]
  }
 ],
 "metadata": {
  "kernelspec": {
   "display_name": "Python 3 (ipykernel)",
   "language": "python",
   "name": "python3"
  },
  "language_info": {
   "codemirror_mode": {
    "name": "ipython",
    "version": 3
   },
   "file_extension": ".py",
   "mimetype": "text/x-python",
   "name": "python",
   "nbconvert_exporter": "python",
   "pygments_lexer": "ipython3",
   "version": "3.9.13"
  }
 },
 "nbformat": 4,
 "nbformat_minor": 5
}
