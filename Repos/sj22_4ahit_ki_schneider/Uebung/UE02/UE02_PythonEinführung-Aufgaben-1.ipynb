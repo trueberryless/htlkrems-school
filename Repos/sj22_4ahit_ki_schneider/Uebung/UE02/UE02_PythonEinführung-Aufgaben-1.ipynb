{
 "cells": [
  {
   "cell_type": "markdown",
   "metadata": {},
   "source": [
    "# UE02 Python Einführung - Aufgaben \n",
    "Arbeiten Sie nachfolgenden Aufgabenstellungen durch. \n",
    "\n",
    ">**Hinweis:** Abzugeben ist ein Python-File (Export siehe Menüeintrag `File > Download as`)."
   ]
  },
  {
   "cell_type": "markdown",
   "metadata": {},
   "source": [
    "## Task 2.1.1 - Strings\n",
    "Beantworten Sie nachfolgende Frage bzw. schreiben Sie jenen Code, den es zur Erfüllung der jeweiligen Aufgabenstellung braucht:\n",
    "1. Macht es einen Unterschied, ob man einfache oder doppelte Anführungsstriche verwendet? \n",
    "2. Erzeugen Sie mit <code>print(...)</code> folgende Ausgabe : **\"Now, I'm able to use single quotes!\"**\n",
    "3. Geben Sie durch Verwendung von <code>x</code> und <code>y</code> die Zeichenkette **Hello, world!** mit <code>print(...)</code> aus."
   ]
  },
  {
   "cell_type": "markdown",
   "metadata": {},
   "source": [
    "Antwort zu 1.:"
   ]
  },
  {
   "cell_type": "code",
   "execution_count": 1,
   "metadata": {},
   "outputs": [],
   "source": [
    "#1. Nein, python ist diesbezüglich ähnlich wie JS!"
   ]
  },
  {
   "cell_type": "code",
   "execution_count": 2,
   "metadata": {},
   "outputs": [
    {
     "name": "stdout",
     "output_type": "stream",
     "text": [
      "\"Now, I'm able to use single quotes!\"\n"
     ]
    }
   ],
   "source": [
    "#2.\n",
    "print('\"Now, I'+\"'\"+'m able to use single quotes!\"')"
   ]
  },
  {
   "cell_type": "code",
   "execution_count": 3,
   "metadata": {},
   "outputs": [],
   "source": [
    "#3. \n",
    "hello, world = \"Hello\", \"World\""
   ]
  },
  {
   "cell_type": "code",
   "execution_count": 4,
   "metadata": {},
   "outputs": [
    {
     "name": "stdout",
     "output_type": "stream",
     "text": [
      "Hello, world!\n"
     ]
    }
   ],
   "source": [
    "print(hello+\", \"+world.lower()+\"!\")"
   ]
  },
  {
   "cell_type": "markdown",
   "metadata": {},
   "source": [
    "## Task 2.1.2 - Indexbasierte String-Manipulation\n",
    "Nehmen Sie vorher https://docs.python.org/3.8/tutorial/introduction.html#strings durch, und zwar ab der Textstelle \"*Strings can be indexed...*\" Als Bearbeitungsgrundlage dient <code>show</code>:\n",
    "1. Geben Sie den zweiten Buchstaben der Zeichenkette aus\n",
    "2. Geben Sie das Wort **eating** aus\n",
    "3. Geben Sie alles nach **Software** aus\n",
    "4. Geben Sie alles vor **the** aus\n",
    "5. Geben Sie die letzten 3 Buchstaben der Zeichenkette aus"
   ]
  },
  {
   "cell_type": "code",
   "execution_count": 5,
   "metadata": {},
   "outputs": [],
   "source": [
    "show = \"Software is eating the world!\""
   ]
  },
  {
   "cell_type": "code",
   "execution_count": 6,
   "metadata": {},
   "outputs": [
    {
     "data": {
      "text/plain": [
       "'o'"
      ]
     },
     "execution_count": 6,
     "metadata": {},
     "output_type": "execute_result"
    }
   ],
   "source": [
    "show[1]"
   ]
  },
  {
   "cell_type": "code",
   "execution_count": 7,
   "metadata": {},
   "outputs": [
    {
     "data": {
      "text/plain": [
       "'eating'"
      ]
     },
     "execution_count": 7,
     "metadata": {},
     "output_type": "execute_result"
    }
   ],
   "source": [
    "show[12:18]"
   ]
  },
  {
   "cell_type": "code",
   "execution_count": 8,
   "metadata": {},
   "outputs": [
    {
     "data": {
      "text/plain": [
       "' is eating the world!'"
      ]
     },
     "execution_count": 8,
     "metadata": {},
     "output_type": "execute_result"
    }
   ],
   "source": [
    "show[8:]"
   ]
  },
  {
   "cell_type": "code",
   "execution_count": 9,
   "metadata": {},
   "outputs": [
    {
     "data": {
      "text/plain": [
       "'Software is eating '"
      ]
     },
     "execution_count": 9,
     "metadata": {},
     "output_type": "execute_result"
    }
   ],
   "source": [
    "show[:19]"
   ]
  },
  {
   "cell_type": "code",
   "execution_count": 10,
   "metadata": {},
   "outputs": [
    {
     "data": {
      "text/plain": [
       "'rld'"
      ]
     },
     "execution_count": 10,
     "metadata": {},
     "output_type": "execute_result"
    }
   ],
   "source": [
    "show[-4:-1]"
   ]
  },
  {
   "cell_type": "markdown",
   "metadata": {},
   "source": [
    "## Task 2.1.3 - if, elif, else Statements\n",
    "\n",
    "Es gilt:\n",
    "- Wenn <code>x</code> 'true' ist, hat die Ausgabe '**x was True!**' zu erfolgen\n",
    "- sonst **'x was False!'**"
   ]
  },
  {
   "cell_type": "code",
   "execution_count": 11,
   "metadata": {},
   "outputs": [
    {
     "name": "stdout",
     "output_type": "stream",
     "text": [
      "x was False\n"
     ]
    }
   ],
   "source": [
    "x = False\n",
    "\n",
    "if x==True:\n",
    "    print(\"x was True\")\n",
    "elif x==False:\n",
    "    print(\"x was False\")"
   ]
  },
  {
   "cell_type": "markdown",
   "metadata": {},
   "source": [
    "## Task 2.2.4 - if, elif, else Statements\n",
    "\n",
    "Es gilt:\n",
    "- Wenn <code>person</code> 'Georg' ist, hat die Ausgabe '**Welcome Georg**' zu erfolgen.\n",
    "- Ist <code>person</code> 'Jimmy', dann '**Welcome Jimmy**'.\n",
    "- Sonst '**Welcome, what is your name?**'"
   ]
  },
  {
   "cell_type": "code",
   "execution_count": 12,
   "metadata": {},
   "outputs": [
    {
     "name": "stdout",
     "output_type": "stream",
     "text": [
      "Welcome Georg\n"
     ]
    }
   ],
   "source": [
    "person = 'Georg'\n",
    "\n",
    "if person==\"Georg\":\n",
    "    print(\"Welcome Georg\")\n",
    "elif person==\"Jimmy\":\n",
    "    print(\"Welcome Jimmy\")\n",
    "else:\n",
    "    \"Welcome, what's your name?\""
   ]
  },
  {
   "cell_type": "markdown",
   "metadata": {},
   "source": [
    "## Task 2.2.5 - Loops, Lists, Dicts etc. "
   ]
  },
  {
   "cell_type": "markdown",
   "metadata": {},
   "source": [
    "Iterieren Sie über die Liste <code>list1</code> und fügen Sie hierbei alle geraden Einträge der neu zu erstellenden Liste <code>even</code> und alle ungeraden der Liste <code>odd</code> hinzu. Setzen Sie den Modulo-Operator ein."
   ]
  },
  {
   "cell_type": "code",
   "execution_count": 13,
   "metadata": {},
   "outputs": [
    {
     "name": "stdout",
     "output_type": "stream",
     "text": [
      "[2, 4, 6, 8, 10]\n",
      "[1, 3, 5, 7, 9]\n"
     ]
    }
   ],
   "source": [
    "list1 = [1,2,3,4,5,6,7,8,9,10]\n",
    "\n",
    "even=[]\n",
    "odd=[]\n",
    "\n",
    "for i in list1:\n",
    "    if i%2==0:\n",
    "        even.append(i)\n",
    "    elif i%2==1:\n",
    "        odd.append(i)\n",
    "\n",
    "print(even)\n",
    "print(odd)"
   ]
  },
  {
   "cell_type": "markdown",
   "metadata": {},
   "source": [
    "## Task 2.2.6 - Loops, Lists, Dicts etc. \n",
    "Geben Sie die *Keys* als auch die *Values* des Dictionaries <code>d1</code> aus."
   ]
  },
  {
   "cell_type": "code",
   "execution_count": 14,
   "metadata": {},
   "outputs": [],
   "source": [
    "d1 = {'k1':1,'k2':2,'k3':3}"
   ]
  },
  {
   "cell_type": "code",
   "execution_count": 15,
   "metadata": {},
   "outputs": [
    {
     "name": "stdout",
     "output_type": "stream",
     "text": [
      "k1: 1\n",
      "k2: 2\n",
      "k3: 3\n"
     ]
    }
   ],
   "source": [
    "for key in d1:\n",
    "    print(\"%s: %s\" %(key,d1[key]))"
   ]
  },
  {
   "cell_type": "markdown",
   "metadata": {},
   "source": [
    "## Task 2.2.7 - Loops, Lists, Dicts etc. \n",
    "Erstellen ein Dictionary mit ein paar Namenseinträgen. Erstellen Sie in Folge ein zweites Dictionary mit weiteren Namenseinträgen. Fügen Sie beide Dictionaries zusammen und stellen Sie hierbei sicher, dass im \"neuen\" Dictionary keine Duplikate vorhanden sind. (Anm.: Testszenario mit mind. einer Namensgleichheit. Die Überprüfung hat manuell zu erfolgen)."
   ]
  },
  {
   "cell_type": "code",
   "execution_count": 16,
   "metadata": {},
   "outputs": [
    {
     "name": "stdout",
     "output_type": "stream",
     "text": [
      "1: Tobias\n",
      "2: Oliver\n",
      "3: Julian\n",
      "4: Johannes\n",
      "5: Manuel\n"
     ]
    }
   ],
   "source": [
    "n1, n2 = {1:\"Tobias\", 2:\"Oliver\", 3:\"Julian\"},{4:\"Johannes\", 5:\"Manuel\", 6:\"Oliver\"}\n",
    "\n",
    "duplicate_found=False\n",
    "\n",
    "for key2 in n2:\n",
    "    for key1 in n1:\n",
    "        if n1[key1]==n2[key2]:\n",
    "            duplicate_found=True\n",
    "    if duplicate_found==False:\n",
    "        n1[key2]=n2[key2]\n",
    "    duplicate_found=False\n",
    "\n",
    "for key in n1:\n",
    "    print(\"%s: %s\" %(key, n1[key]))"
   ]
  },
  {
   "cell_type": "markdown",
   "metadata": {},
   "source": [
    "## Task 2.2.8\n",
    "Erstellen Sie mithilfe der *Built-in Function* `range` eine Liste mit Werten, die folgende Werte enthält: `[0, 10, 20, 30, 40, 50, 60, 70, 80, 90, 100]`. Details bzgl. Verwendung von `range` liefert diese [Quelle](https://docs.python.org/3.8/library/functions.html)."
   ]
  },
  {
   "cell_type": "code",
   "execution_count": 17,
   "metadata": {},
   "outputs": [
    {
     "data": {
      "text/plain": [
       "[0, 10, 20, 30, 40, 50, 60, 70, 80, 90, 100]"
      ]
     },
     "execution_count": 17,
     "metadata": {},
     "output_type": "execute_result"
    }
   ],
   "source": [
    "[*range(0,101,10)]"
   ]
  },
  {
   "cell_type": "code",
   "execution_count": 19,
   "metadata": {},
   "outputs": [
    {
     "name": "stdout",
     "output_type": "stream",
     "text": [
      "[30, 27, 24, 21, 18, 15, 12, 9, 6, 3, 0, -3, -6, -9, -12, -15, -18, -21, -24, -27]\n"
     ]
    }
   ],
   "source": [
    "print(list(range(30, -30, -3)))"
   ]
  }
 ],
 "metadata": {
  "kernelspec": {
   "display_name": "Python 3 (ipykernel)",
   "language": "python",
   "name": "python3"
  },
  "language_info": {
   "codemirror_mode": {
    "name": "ipython",
    "version": 3
   },
   "file_extension": ".py",
   "mimetype": "text/x-python",
   "name": "python",
   "nbconvert_exporter": "python",
   "pygments_lexer": "ipython3",
   "version": "3.9.13"
  }
 },
 "nbformat": 4,
 "nbformat_minor": 2
}
