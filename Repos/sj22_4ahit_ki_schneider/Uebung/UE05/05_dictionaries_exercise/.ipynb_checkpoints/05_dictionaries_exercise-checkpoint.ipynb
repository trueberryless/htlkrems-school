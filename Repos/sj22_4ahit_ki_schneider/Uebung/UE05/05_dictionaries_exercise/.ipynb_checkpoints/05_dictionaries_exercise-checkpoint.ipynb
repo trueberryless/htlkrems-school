{
 "cells": [
  {
   "cell_type": "markdown",
   "metadata": {},
   "source": [
    "# 1. Populating a dictionary\n",
    "Create a dictionary by using all the given variables."
   ]
  },
  {
   "cell_type": "code",
   "execution_count": 2,
   "metadata": {
    "editable": false
   },
   "outputs": [],
   "source": [
    "first_name = 'John'\n",
    "last_name = 'Doe'\n",
    "favorite_hobby = 'Python'\n",
    "sports_hobby = 'gym'\n",
    "age = 82"
   ]
  },
  {
   "cell_type": "code",
   "execution_count": 3,
   "metadata": {},
   "outputs": [],
   "source": [
    "# Your implementation\n",
    "my_dict = { \n",
    "    'name': first_name + \" \" + last_name,\n",
    "    'age': age,\n",
    "    'hobbies': [ favorite_hobby, sports_hobby ]\n",
    "    }"
   ]
  },
  {
   "cell_type": "code",
   "execution_count": 4,
   "metadata": {
    "editable": false
   },
   "outputs": [],
   "source": [
    "assert my_dict == {\n",
    "        'name': 'John Doe',\n",
    "        'age': 82,\n",
    "        'hobbies': ['Python', 'gym']\n",
    "    }"
   ]
  },
  {
   "cell_type": "markdown",
   "metadata": {},
   "source": [
    "# 2. Accessing and merging dictionaries\n",
    "Combine `dict1`, `dict2`, and `dict3` into `my_dict`. In addition, get the value of `special_key` from `my_dict` into a `special_value` variable. Note that original dictionaries should stay untouched and `special_key` should be removed from `my_dict`."
   ]
  },
  {
   "cell_type": "code",
   "execution_count": 9,
   "metadata": {
    "editable": false
   },
   "outputs": [],
   "source": [
    "dict1 = dict(key1='This is not that hard', key2='Python is still cool')\n",
    "dict2 = {'key1': 123, 'special_key': 'secret'}\n",
    "# This is also a away to initialize a dict (list of tuples) \n",
    "dict3 = dict([('key2', 456), ('keyX', 'X')])"
   ]
  },
  {
   "cell_type": "code",
   "execution_count": 16,
   "metadata": {},
   "outputs": [
    {
     "data": {
      "text/plain": [
       "['__class__',\n",
       " '__class_getitem__',\n",
       " '__contains__',\n",
       " '__delattr__',\n",
       " '__delitem__',\n",
       " '__dir__',\n",
       " '__doc__',\n",
       " '__eq__',\n",
       " '__format__',\n",
       " '__ge__',\n",
       " '__getattribute__',\n",
       " '__getitem__',\n",
       " '__gt__',\n",
       " '__hash__',\n",
       " '__init__',\n",
       " '__init_subclass__',\n",
       " '__ior__',\n",
       " '__iter__',\n",
       " '__le__',\n",
       " '__len__',\n",
       " '__lt__',\n",
       " '__ne__',\n",
       " '__new__',\n",
       " '__or__',\n",
       " '__reduce__',\n",
       " '__reduce_ex__',\n",
       " '__repr__',\n",
       " '__reversed__',\n",
       " '__ror__',\n",
       " '__setattr__',\n",
       " '__setitem__',\n",
       " '__sizeof__',\n",
       " '__str__',\n",
       " '__subclasshook__',\n",
       " 'clear',\n",
       " 'copy',\n",
       " 'fromkeys',\n",
       " 'get',\n",
       " 'items',\n",
       " 'keys',\n",
       " 'pop',\n",
       " 'popitem',\n",
       " 'setdefault',\n",
       " 'update',\n",
       " 'values']"
      ]
     },
     "execution_count": 16,
     "metadata": {},
     "output_type": "execute_result"
    }
   ],
   "source": [
    "# 'Your impelementation'\n",
    "my_dict = dict1 | dict2 | dict3\n",
    "special_value = my_dict['special_key']\n",
    "dir(dict)"
   ]
  },
  {
   "cell_type": "code",
   "execution_count": 15,
   "metadata": {
    "editable": false
   },
   "outputs": [
    {
     "ename": "AssertionError",
     "evalue": "",
     "output_type": "error",
     "traceback": [
      "\u001b[1;31m---------------------------------------------------------------------------\u001b[0m",
      "\u001b[1;31mAssertionError\u001b[0m                            Traceback (most recent call last)",
      "Input \u001b[1;32mIn [15]\u001b[0m, in \u001b[0;36m<cell line: 1>\u001b[1;34m()\u001b[0m\n\u001b[1;32m----> 1\u001b[0m \u001b[38;5;28;01massert\u001b[39;00m my_dict \u001b[38;5;241m==\u001b[39m {\u001b[38;5;124m'\u001b[39m\u001b[38;5;124mkey1\u001b[39m\u001b[38;5;124m'\u001b[39m: \u001b[38;5;241m123\u001b[39m, \u001b[38;5;124m'\u001b[39m\u001b[38;5;124mkey2\u001b[39m\u001b[38;5;124m'\u001b[39m: \u001b[38;5;241m456\u001b[39m, \u001b[38;5;124m'\u001b[39m\u001b[38;5;124mkeyX\u001b[39m\u001b[38;5;124m'\u001b[39m: \u001b[38;5;124m'\u001b[39m\u001b[38;5;124mX\u001b[39m\u001b[38;5;124m'\u001b[39m}\n\u001b[0;32m      2\u001b[0m \u001b[38;5;28;01massert\u001b[39;00m special_value \u001b[38;5;241m==\u001b[39m \u001b[38;5;124m'\u001b[39m\u001b[38;5;124msecret\u001b[39m\u001b[38;5;124m'\u001b[39m\n\u001b[0;32m      4\u001b[0m \u001b[38;5;66;03m# Let's check that the originals are untouched\u001b[39;00m\n",
      "\u001b[1;31mAssertionError\u001b[0m: "
     ]
    }
   ],
   "source": [
    "assert my_dict == {'key1': 123, 'key2': 456, 'keyX': 'X'}\n",
    "assert special_value == 'secret'\n",
    "\n",
    "# Let's check that the originals are untouched\n",
    "assert dict1 == {\n",
    "        'key1': 'This is not that hard',\n",
    "        'key2': 'Python is still cool'\n",
    "    }\n",
    "assert dict2 == {'key1': 123, 'special_key': 'secret'}\n",
    "assert dict3 == {'key2': 456, 'keyX': 'X'}"
   ]
  }
 ],
 "metadata": {
  "celltoolbar": "Edit Metadata",
  "kernelspec": {
   "display_name": "Python 3 (ipykernel)",
   "language": "python",
   "name": "python3"
  },
  "language_info": {
   "codemirror_mode": {
    "name": "ipython",
    "version": 3
   },
   "file_extension": ".py",
   "mimetype": "text/x-python",
   "name": "python",
   "nbconvert_exporter": "python",
   "pygments_lexer": "ipython3",
   "version": "3.9.12"
  }
 },
 "nbformat": 4,
 "nbformat_minor": 1
}
