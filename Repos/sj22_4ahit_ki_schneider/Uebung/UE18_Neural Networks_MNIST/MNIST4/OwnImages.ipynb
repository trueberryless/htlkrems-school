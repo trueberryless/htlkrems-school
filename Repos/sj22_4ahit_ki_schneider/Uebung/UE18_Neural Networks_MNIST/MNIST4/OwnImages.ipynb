{
 "cells": [
  {
   "cell_type": "code",
   "execution_count": 1,
   "id": "e4856989",
   "metadata": {},
   "outputs": [],
   "source": [
    "from tensorflow import keras\n",
    "model = keras.models.load_model('./model.h5')"
   ]
  },
  {
   "cell_type": "code",
   "execution_count": 2,
   "id": "2e518230",
   "metadata": {},
   "outputs": [
    {
     "data": {
      "text/plain": [
       "<matplotlib.image.AxesImage at 0x19fe5ff7460>"
      ]
     },
     "execution_count": 2,
     "metadata": {},
     "output_type": "execute_result"
    },
    {
     "data": {
      "image/png": "[encoded data removed]",
      "text/plain": [
       "<Figure size 640x480 with 1 Axes>"
      ]
     },
     "metadata": {},
     "output_type": "display_data"
    }
   ],
   "source": [
    "import numpy as np\n",
    "from PIL import Image\n",
    "\n",
    "# create an empty array with the size of (10, height, width)\n",
    "images = np.empty((10, 28, 28), dtype=np.uint8)\n",
    "\n",
    "# load the images and store them in the array\n",
    "for i in range(10):\n",
    "    img = Image.open(str(i) + \".png\").convert(\"L\")\n",
    "    images[i] = np.array(img)\n",
    "\n",
    "import matplotlib.pyplot as plt\n",
    "plt.imshow(images[7], cmap=\"gray_r\")"
   ]
  },
  {
   "cell_type": "code",
   "execution_count": 3,
   "id": "e3bf799b",
   "metadata": {},
   "outputs": [
    {
     "name": "stdout",
     "output_type": "stream",
     "text": [
      "1/1 [==============================] - 0s 317ms/step\n"
     ]
    }
   ],
   "source": [
    "images_pred = model.predict(images.reshape(10, 784))"
   ]
  },
  {
   "cell_type": "code",
   "execution_count": 4,
   "id": "b3dd5d2f",
   "metadata": {},
   "outputs": [],
   "source": [
    "images_pred = np.argmax(images_pred, axis=1)"
   ]
  },
  {
   "cell_type": "code",
   "execution_count": 5,
   "id": "041a04a6",
   "metadata": {},
   "outputs": [
    {
     "name": "stdout",
     "output_type": "stream",
     "text": [
      "[0 1 2 3 4 5 6 7 8 9]\n",
      "[0 1 2 3 4 5 6 7 8 9]\n"
     ]
    }
   ],
   "source": [
    "print(np.arange(10))\n",
    "print(images_pred)"
   ]
  }
 ],
 "metadata": {
  "kernelspec": {
   "display_name": "Python 3 (ipykernel)",
   "language": "python",
   "name": "python3"
  },
  "language_info": {
   "codemirror_mode": {
    "name": "ipython",
    "version": 3
   },
   "file_extension": ".py",
   "mimetype": "text/x-python",
   "name": "python",
   "nbconvert_exporter": "python",
   "pygments_lexer": "ipython3",
   "version": "3.9.13"
  }
 },
 "nbformat": 4,
 "nbformat_minor": 5
}
