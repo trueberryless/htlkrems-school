{
 "cells": [
  {
   "cell_type": "code",
   "execution_count": 5,
   "metadata": {},
   "outputs": [],
   "source": [
    "import numpy as np\n",
    "from math import e"
   ]
  },
  {
   "cell_type": "markdown",
   "source": [
    "### np.dot Demo"
   ],
   "metadata": {
    "collapsed": false,
    "pycharm": {
     "name": "#%% md\n"
    }
   }
  },
  {
   "cell_type": "code",
   "execution_count": 10,
   "outputs": [
    {
     "data": {
      "text/plain": "10"
     },
     "execution_count": 10,
     "metadata": {},
     "output_type": "execute_result"
    }
   ],
   "source": [
    "some_random_x_vals = [2, 4]\n",
    "some_random_weights = [1, 2]\n",
    "\n",
    "# Calculation:\n",
    "# x1*w1 + x2*w2\n",
    "# 2 * 1 + 4 * 2 = 10\n",
    "np.dot(some_random_weights, some_random_x_vals)"
   ],
   "metadata": {
    "collapsed": false,
    "pycharm": {
     "name": "#%%\n"
    }
   }
  },
  {
   "cell_type": "markdown",
   "source": [
    "### Perceptron am Beispiel der UND-Verknüpfung"
   ],
   "metadata": {
    "collapsed": false,
    "pycharm": {
     "name": "#%% md\n"
    }
   }
  },
  {
   "cell_type": "code",
   "execution_count": 1,
   "metadata": {},
   "outputs": [],
   "source": [
    "def step_function(x: float) -> float:\n",
    "    return 1.0 if x >= 0 else 0.0"
   ]
  },
  {
   "cell_type": "code",
   "execution_count": 4,
   "outputs": [],
   "source": [
    "def perceptron(weights, bias, x) -> float:\n",
    "    z = np.dot(weights, x) + bias\n",
    "    return step_function(z)"
   ],
   "metadata": {
    "collapsed": false,
    "pycharm": {
     "name": "#%%\n"
    }
   }
  },
  {
   "cell_type": "code",
   "execution_count": 17,
   "outputs": [
    {
     "name": "stdout",
     "output_type": "stream",
     "text": [
      "Input [0,0] => 0.0\n",
      "Input [0,1] => 0.0\n",
      "Input [1,0] => 0.0\n",
      "Input [1,1] => 1.0\n"
     ]
    }
   ],
   "source": [
    "and_weights = [2.,2.]\n",
    "and_bias = -3.\n",
    "\n",
    "print(\"Input [0,0] =>\", perceptron(and_weights, and_bias, [0.,0.]))\n",
    "print(\"Input [0,1] =>\", perceptron(and_weights, and_bias, [0.,1.]))\n",
    "print(\"Input [1,0] =>\", perceptron(and_weights, and_bias, [1.,0.]))\n",
    "print(\"Input [1,1] =>\", perceptron(and_weights, and_bias, [1.,1.]))"
   ],
   "metadata": {
    "collapsed": false,
    "pycharm": {
     "name": "#%%\n"
    }
   }
  },
  {
   "cell_type": "markdown",
   "source": [
    "### Einzelnes Neuron mit ReLU-Aktivierungsfunktion"
   ],
   "metadata": {
    "collapsed": false,
    "pycharm": {
     "name": "#%% md\n"
    }
   }
  },
  {
   "cell_type": "code",
   "execution_count": 22,
   "outputs": [
    {
     "data": {
      "text/plain": "1.6"
     },
     "execution_count": 22,
     "metadata": {},
     "output_type": "execute_result"
    }
   ],
   "source": [
    "def relu_neuron(weights, x) -> float:\n",
    "    return max(0, np.dot(weights, x))\n",
    "\n",
    "# Hotdog-Bsp: Berechnung Ausgabe Neuron a1\n",
    "# Die 'weights' enthalten den Bias als w0\n",
    "# x enthält mit x0 den konstanten Eingangswert '1' für den Bias\n",
    "\n",
    "weights = [-0.9, -0.5, 1.5]\n",
    "x = [1, 4.0, 3.0]\n",
    "\n",
    "relu_neuron(weights, x)"
   ],
   "metadata": {
    "collapsed": false,
    "pycharm": {
     "name": "#%%\n"
    }
   }
  },
  {
   "cell_type": "markdown",
   "source": [
    "### Einzelnes Neuron mit Sigmoid-Aktivierungsfunktion"
   ],
   "metadata": {
    "collapsed": false,
    "pycharm": {
     "name": "#%% md\n"
    }
   }
  },
  {
   "cell_type": "code",
   "execution_count": 7,
   "outputs": [
    {
     "data": {
      "text/plain": "0.11920292202211757"
     },
     "execution_count": 7,
     "metadata": {},
     "output_type": "execute_result"
    }
   ],
   "source": [
    "def sigmoid_neuron(w, x) -> float:\n",
    "    z = np.dot(w, x)\n",
    "    return 1/(1+e**-z)\n",
    "\n",
    "# Hotdog-Bsp: Berechnung Ausgabe Neuron a6 (y-Dach):\n",
    "\n",
    "weights = [-5.5, 1., 0.5]\n",
    "x = [1, 2.5, 2.0]\n",
    "\n",
    "sigmoid_neuron(weights, x)"
   ],
   "metadata": {
    "collapsed": false,
    "pycharm": {
     "name": "#%%\n"
    }
   }
  }
 ],
 "metadata": {
  "kernelspec": {
   "display_name": "Python 3",
   "language": "python",
   "name": "python3"
  },
  "language_info": {
   "codemirror_mode": {
    "name": "ipython",
    "version": 3
   },
   "file_extension": ".py",
   "mimetype": "text/x-python",
   "name": "python",
   "nbconvert_exporter": "python",
   "pygments_lexer": "ipython3",
   "version": "3.8.8"
  }
 },
 "nbformat": 4,
 "nbformat_minor": 2
}