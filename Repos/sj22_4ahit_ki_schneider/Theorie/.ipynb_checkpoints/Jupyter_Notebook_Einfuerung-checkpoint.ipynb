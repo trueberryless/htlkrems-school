{
 "cells": [
  {
   "cell_type": "markdown",
   "id": "9c3acf73",
   "metadata": {},
   "source": [
    "# Jupyter Notebook"
   ]
  },
  {
   "cell_type": "markdown",
   "id": "6ecf502a",
   "metadata": {},
   "source": [
    "## different cells"
   ]
  },
  {
   "cell_type": "markdown",
   "id": "7a26880b",
   "metadata": {},
   "source": [
    "### Markdown cell"
   ]
  },
  {
   "cell_type": "markdown",
   "id": "197fc3ad",
   "metadata": {},
   "source": [
    "Hello!\n",
    "\n",
    "I'm Markdown. I have some cool features, such as:\n",
    "\n",
    "# BIG HEADINGS\n",
    "\n",
    "## MEDIUM HEADINGS\n",
    "\n",
    "### AND SMALL HEADINGS\n",
    "\n",
    "* an\n",
    "* unordered\n",
    "* list\n",
    "\n",
    "or \n",
    "\n",
    "1. an\n",
    "2. ordered\n",
    "3. list\n",
    "\n",
    "| Tablehead |\n",
    "|:---:|\n",
    "| Tablebody |\n",
    "\n",
    "    some code\n",
    "    this is cool\n",
    "    print(\"me\")\n",
    "\n",
    "This is an even better code example:\n",
    "\n",
    "```python\n",
    "\n",
    "# Python program to check if the number is an Armstrong number or not\n",
    "\n",
    "# take input from the user\n",
    "num = int(input(\"Enter a number: \"))\n",
    "\n",
    "# initialize sum\n",
    "sum = 0\n",
    "\n",
    "# find the sum of the cube of each digit\n",
    "temp = num\n",
    "while temp > 0:\n",
    "   digit = temp % 10\n",
    "   sum += digit ** 3\n",
    "   temp //= 10\n",
    "\n",
    "# display the result\n",
    "if num == sum:\n",
    "   print(num,\"is an Armstrong number\")\n",
    "else:\n",
    "   print(num,\"is not an Armstrong number\")\n",
    "```\n",
    "> and many important texts"
   ]
  },
  {
   "cell_type": "markdown",
   "id": "7f57dc63",
   "metadata": {},
   "source": [
    "### Code cell"
   ]
  },
  {
   "cell_type": "code",
   "execution_count": 5,
   "id": "82e559b8",
   "metadata": {},
   "outputs": [
    {
     "name": "stdout",
     "output_type": "stream",
     "text": [
      "I can run python code.\n"
     ]
    }
   ],
   "source": [
    "print(\"I can run python code.\")"
   ]
  },
  {
   "cell_type": "markdown",
   "id": "12791e37",
   "metadata": {},
   "source": [
    "## particularities"
   ]
  },
  {
   "cell_type": "markdown",
   "id": "76ca7322",
   "metadata": {},
   "source": [
    "* run cells individually\n",
    "* however, variables exist in every cell, if used one time\n",
    "\n",
    "> this leaves the option to run code in different order easily"
   ]
  },
  {
   "cell_type": "markdown",
   "id": "446530ea",
   "metadata": {},
   "source": [
    "## key combinations"
   ]
  },
  {
   "cell_type": "markdown",
   "id": "b50a577d",
   "metadata": {},
   "source": [
    "These are the most important keyboard shortcuts:\n",
    "\n",
    "| Keyboard Shortcuts               \t| Function                                                                           \t| Menu Tools                              \t|\n",
    "|:----------------------------------\t|:------------------------------------------------------------------------------------\t|:-----------------------------------------\t|\n",
    "| STRG + ENTER                     \t| run cell                                                                           \t| Cell → Run Cell                         \t|\n",
    "| Esc + s                          \t| save notebook                                                                      \t| File → Save and Checkpoint              \t|\n",
    "| Esc + a (above), Esc + b (below) \t| create new cell                                                                    \t| Insert → cell above Insert → cell below \t|\n",
    "| c                                \t| copy cell                                                                          \t| Copy Key                                \t|\n",
    "| v                                \t| paste cell                                                                         \t| Paste Key                               \t|\n",
    "| Esc + i i                        \t| interrupt kernel                                                                   \t| Kernel → Interrupt                      \t|\n",
    "| Esc + 0 0                        \t| restart kernel                                                                     \t| Kernel → Restart                        \t|\n",
    "| Esc + f                          \t| find and replace on your code but not the outputs                                  \t| N/A                                     \t|\n",
    "| Shift + M                        \t| merge multiple cells                                                               \t| N/A                                     \t|\n",
    "| ?                                \t| When placed before a function Information  about a function from its documentation \t| N/A                                     \t|\n",
    "\n",
    "All keyboard shortcuts can be found and edited under Help → Keyboard Shortcuts."
   ]
  }
 ],
 "metadata": {
  "kernelspec": {
   "display_name": "Python 3 (ipykernel)",
   "language": "python",
   "name": "python3"
  },
  "language_info": {
   "codemirror_mode": {
    "name": "ipython",
    "version": 3
   },
   "file_extension": ".py",
   "mimetype": "text/x-python",
   "name": "python",
   "nbconvert_exporter": "python",
   "pygments_lexer": "ipython3",
   "version": "3.9.12"
  }
 },
 "nbformat": 4,
 "nbformat_minor": 5
}
