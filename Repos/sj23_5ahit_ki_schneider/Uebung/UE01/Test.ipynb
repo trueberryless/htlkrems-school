{
 "cells": [
  {
   "cell_type": "code",
   "execution_count": 1,
   "id": "ccae35ea",
   "metadata": {},
   "outputs": [],
   "source": [
    "import re, spacy"
   ]
  },
  {
   "cell_type": "code",
   "execution_count": 2,
   "id": "2d42d2d3",
   "metadata": {},
   "outputs": [],
   "source": [
    "nlp = spacy.load('de_core_news_sm')"
   ]
  },
  {
   "cell_type": "code",
   "execution_count": 6,
   "id": "d77fe837",
   "metadata": {},
   "outputs": [
    {
     "name": "stdout",
     "output_type": "stream",
     "text": [
      "[III–623, Beilagen, Stenographischen, Protokollen, Nationalrates, XXVII, GP, Rechnungshof, GZ, 2022–0.281.048, 004.920)Reihe, BUND, 2022, 13Koordination, Cyber–Sicherheit, Bericht, RechnungshofesKoordination, Cyber–Sicherheit, IMPRESSUM, Herausgeber, Rechnungshof, Österreich, 1030, Wien, Dampfschiffstraße, 2www.rechnungshof.gv.atRedaktion, Grafik, Rechnungshof, ÖsterreichHerausgegeben, Wien, April, 2022, AUSKÜNFTE, Rechnungshof, Telefon, 711, 71, 8946, E–Mail, info@rechnungshof.gv.at, facebook, Twitter, Rechnungshof, Achim, BieniekVorbemerkungen, Vorlage, Rechnungshof, erstattet, Nationalrat, gemäß, Art, 126d, Abs., Bundes–, Ver, fassungsgesetz, nachstehenden, Bericht, Wahrnehmungen, Gebarungsüberprüfung, getroffen, Berichtsaufbau, Regel, Berichterstattung, punkteweise, zusammenfassend, Sachverhaltsdarstellung, Kennzeichnung, Stelle, Textzahl, Beurteilung, Rechnungshof, Kennzeichnung, Stellung, nahme, überprüften, Stelle, Kennzeichnung, allfällige, Gegenäuße, rung, Rechnungshofes, Kennzeichnung, aneinandergereiht, Bericht, enthaltene, Zahlenwerk, beinhaltet, allenfalls, kaufmännische, Auf–, Abrundungen, vorliegende, Bericht, Rechnungshofes, Vorlage, Website, Rechnungshofes, www.rechnungshof.gv.at, verfügbar, Koordination, Cyber–Sicherheit, 1Inhaltsverzeichnis, Abkürzungsverzeichnis, Glossar, Prüfungsziel, Kurzfassung, Zentrale, Empfehlungen, 16, Zahlen, Fakten, Prüfung, 17, Prüfungsablauf, gegenstand, 19, Rechtsgrundlagen, Netz–, Informationssystemsicherheit, 21, Österreichische, Strategie, Cyber, Sicherheit, 24, Verpflichtete, gemäß, NISG, 27, Wirkungs–, leistungsorientierte, Steuerung, 34, Gremien, Koordination, Cyber, Sicherheit, 39, Strategische, Cyber, Koordination, 41, Überblick, 41, Bundesregierung, 41, Cyber, Sicherheit, Steuerungsgruppe, 43, Cyber, Sicherheit, Plattform, 47, Cyber, Krisen, management, 48, Operative, Cyber, Koordination, 50, Überblick, 50, Organisation, Aufgaben, Koordinierungsgremien, 50, Arbeitsweise, Koordinierungsgremien, 54, Cyber, Lagebild, 58, Resümee, Koordinierungsgremien, 60Koordination, Cyber–Sicherheit, 2Operative, Cyber, Sicherheit, 61, Zentrale, Anlaufstelle, 61, Computer–Notfall, teams, 64, Computer–Notfall, team, öffentlichen, Verwaltung, 66, Frühwarnsystem, Sensornetzwerk, 68, Vorfalls–, Krisenmanagement, 71, Grundlagen, Meldestrukturen, 71, Klassifizierung, Risiken, Vorfällen, 74, Sicherheitsschwachstelle, Groupware, E–Mail, 77, Cyber, Angriff, Außenministerium, 80, Zeitlicher, Ablauf, Strukturen, Krisen, managements, 80, Kosten, Cyber, Krise, 86, Cyber, Krisen, management, 89, Entwicklung, Cyber–Sicherheit, 92, Personalkapazitäten, Umsetzung, NISG, 92, Verteidigungsministerium, 95, Einbeziehung, Länder, Bundessicht, 97, Entwicklungen, 99, Schlussempfehlungen, 101, Anhang, 108, Verzeichnis, Rechtsgrundlagen, 108, Anhang, 109, Berührungspunkte, Rechtsgrundlagen, 109Koordination, Cyber–Sicherheit, 3Tabellenverzeichnis, Tabelle, Wesen, tliche, Rechtsgrundlagen, Bereich, Netz–, Informationssystemsicherheit, bzw., Cyber, Sicherheit, 22, Tabelle, Verp, flichtete, gemäß, Netz–, Informations-, systemsicherheitsgesetz, NISG, 29, Tabelle, Angaben, Bundesk, anzleramts, Wirkungsorientierung, Bundesvoran, schlägen, 2018, 2021, 35, Tabelle, Angaben, Innenminis, teriums, Wirkungsorientierung, Bundesvoran, schlägen, 2018, 2021, 36, Tabelle, Stra, tegische, operative, Gremien, Koordination, Cyber, Sicherheit, 39, Tabelle, Zen, trale, Anlaufstelle, SPOC, europäischen, Informationsaustausch, 62, Tabelle, Vertr, GovCERT, 66, Tabelle, Frühw, arnsystem, Innenministeriums, Sensornetzwerk, 69, Tabelle, Analyse, Cyber, Sicherheit, Einzelfalls, 74, Tabelle, 10, Eck, daten, Sicherheitsschwachstellen, Groupware–, E–Mail–Server–Software, 78, Tabelle, 11, Eck, daten, Ablauf, Cyber, Krise, 80, Tabelle, 12, Aufw, endungen, Zuge, Cyber, Krise, 86, Tabelle, 13, Per, sonalressourcen, gemäß, wirkungsorientierter, Folgenabschätzung, WFA, Netz–, Informationssystemsicherheitsgesetz, NISG, 92]\n"
     ]
    }
   ],
   "source": [
    "import PyPDF2 as pypdf\n",
    "with open(\"Cyber-Security.pdf\", 'rb') as pdf:\n",
    "    data = pypdf.PdfReader(pdf)\n",
    "    text = \"\"\n",
    "    for page in data.pages[:5]:\n",
    "        text += page.extract_text()\n",
    "    \n",
    "    # print(re.findall(\"[\\w\\.-]+@[\\w-]+\\.\\w{2,4}\", \"\\n\".join([page.extract_text() for page in data.pages])))\n",
    "\n",
    "    doc = nlp(text)\n",
    "    \n",
    "    filtered_tokens = [token for token in doc if not token.is_stop]\n",
    "    filtered_tokens = [token for token in filtered_tokens if re.match(\"([\\w][^_])+\", token.text)]\n",
    "    \n",
    "    print(filtered_tokens)"
   ]
  }
 ],
 "metadata": {
  "kernelspec": {
   "display_name": "Python 3 (ipykernel)",
   "language": "python",
   "name": "python3"
  },
  "language_info": {
   "codemirror_mode": {
    "name": "ipython",
    "version": 3
   },
   "file_extension": ".py",
   "mimetype": "text/x-python",
   "name": "python",
   "nbconvert_exporter": "python",
   "pygments_lexer": "ipython3",
   "version": "3.11.5"
  }
 },
 "nbformat": 4,
 "nbformat_minor": 5
}
