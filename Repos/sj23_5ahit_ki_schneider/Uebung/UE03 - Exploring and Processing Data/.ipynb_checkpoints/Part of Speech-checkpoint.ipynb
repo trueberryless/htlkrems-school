{
 "cells": [
  {
   "cell_type": "markdown",
   "id": "8897ac2b",
   "metadata": {},
   "source": [
    "# Pipeline"
   ]
  },
  {
   "cell_type": "code",
   "execution_count": 1,
   "id": "bfe4d122",
   "metadata": {},
   "outputs": [],
   "source": [
    "import re, spacy\n",
    "# nlp = spacy.load(\"de_core_news_sm\")\n",
    "nlp = spacy.load(\"en_core_web_sm\")\n",
    "\n",
    "class NLP:\n",
    "    def __init__(self, text):\n",
    "        self.text = text\n",
    "        self.normalized = False\n",
    "        self.tokenized = False\n",
    "\n",
    "    def to_lower(self):\n",
    "        self.text = self.text.lower()\n",
    "        self.normalized = True\n",
    "        return self\n",
    "    \n",
    "    def remove_url(self):\n",
    "        if self.normalized == False:\n",
    "            raise Exception(\"Text must be normalized first. Use `.to_lower()` to normalize!\")\n",
    "        \n",
    "        return self\n",
    "    \n",
    "    def remove_email(self):\n",
    "        if self.normalized == False:\n",
    "            raise Exception(\"Text must be normalized first. Use `.to_lower()` to normalize!\")\n",
    "        \n",
    "        return self\n",
    "    \n",
    "    def remove_punctuation(self):\n",
    "        if self.normalized == False:\n",
    "            raise Exception(\"Text must be normalized first. Use `.to_lower()` to normalize!\")\n",
    "        \n",
    "        self.text = re.sub(\"[^a-z0-9 ]\", '', self.text)\n",
    "        return self\n",
    "    \n",
    "    def remove_stopword(self):\n",
    "        if self.normalized == False:\n",
    "            raise Exception(\"Text must be normalized first. Use `.to_lower()` to normalize!\")\n",
    "            \n",
    "        stop_words = spacy.lang.en.stop_words.STOP_WORDS\n",
    "        doc = nlp(self.text)\n",
    "        \n",
    "        filtered_tokens = [token for token in doc if not token.is_stop] \n",
    "        self.text = ' '.join([token.text for token in filtered_tokens])\n",
    "        \n",
    "        return self\n",
    "    \n",
    "    def lemmatize_word(self):\n",
    "        if self.normalized == False:\n",
    "            raise Exception(\"Text must be normalized first. Use `.to_lower()` to normalize!\")\n",
    "        \n",
    "        return self"
   ]
  },
  {
   "cell_type": "markdown",
   "id": "b0de1ef1",
   "metadata": {},
   "source": [
    "# NLTK"
   ]
  },
  {
   "cell_type": "code",
   "execution_count": 2,
   "id": "bed2d901",
   "metadata": {},
   "outputs": [
    {
     "name": "stdout",
     "output_type": "stream",
     "text": [
      "[('I', 'PRP'), ('love', 'VBP'), ('NLP', 'NNP'), ('I', 'PRP'), ('learn', 'VBP'), ('NLP', 'RB'), ('2', 'CD'), ('month', 'NN')]\n"
     ]
    },
    {
     "name": "stderr",
     "output_type": "stream",
     "text": [
      "[nltk_data] Downloading package averaged_perceptron_tagger to\n",
      "[nltk_data]     C:\\Users\\trueb\\AppData\\Roaming\\nltk_data...\n",
      "[nltk_data]   Package averaged_perceptron_tagger is already up-to-\n",
      "[nltk_data]       date!\n",
      "[nltk_data] Downloading package stopwords to\n",
      "[nltk_data]     C:\\Users\\trueb\\AppData\\Roaming\\nltk_data...\n",
      "[nltk_data]   Package stopwords is already up-to-date!\n"
     ]
    }
   ],
   "source": [
    "import nltk\n",
    "from nltk.tokenize import word_tokenize\n",
    "from nltk.corpus import stopwords\n",
    "nltk.download('averaged_perceptron_tagger')\n",
    "nltk.download('stopwords')\n",
    "\n",
    "text = \"I love NLP and I will learn NLP in 2 month\"\n",
    "stop_words = set(stopwords.words('english'))\n",
    "words = [token for token in word_tokenize(text) if token not in\n",
    "stop_words]\n",
    "print(nltk.pos_tag(words)) "
   ]
  },
  {
   "cell_type": "code",
   "execution_count": 3,
   "id": "d5db2aa4",
   "metadata": {},
   "outputs": [
    {
     "name": "stdout",
     "output_type": "stream",
     "text": [
      "$: dollar\n",
      "    $ -$ --$ A$ C$ HK$ M$ NZ$ S$ U.S.$ US$\n",
      "'': closing quotation mark\n",
      "    ' ''\n",
      "(: opening parenthesis\n",
      "    ( [ {\n",
      "): closing parenthesis\n",
      "    ) ] }\n",
      ",: comma\n",
      "    ,\n",
      "--: dash\n",
      "    --\n",
      ".: sentence terminator\n",
      "    . ! ?\n",
      ":: colon or ellipsis\n",
      "    : ; ...\n",
      "CC: conjunction, coordinating\n",
      "    & 'n and both but either et for less minus neither nor or plus so\n",
      "    therefore times v. versus vs. whether yet\n",
      "CD: numeral, cardinal\n",
      "    mid-1890 nine-thirty forty-two one-tenth ten million 0.5 one forty-\n",
      "    seven 1987 twenty '79 zero two 78-degrees eighty-four IX '60s .025\n",
      "    fifteen 271,124 dozen quintillion DM2,000 ...\n",
      "DT: determiner\n",
      "    all an another any both del each either every half la many much nary\n",
      "    neither no some such that the them these this those\n",
      "EX: existential there\n",
      "    there\n",
      "FW: foreign word\n",
      "    gemeinschaft hund ich jeux habeas Haementeria Herr K'ang-si vous\n",
      "    lutihaw alai je jour objets salutaris fille quibusdam pas trop Monte\n",
      "    terram fiche oui corporis ...\n",
      "IN: preposition or conjunction, subordinating\n",
      "    astride among uppon whether out inside pro despite on by throughout\n",
      "    below within for towards near behind atop around if like until below\n",
      "    next into if beside ...\n",
      "JJ: adjective or numeral, ordinal\n",
      "    third ill-mannered pre-war regrettable oiled calamitous first separable\n",
      "    ectoplasmic battery-powered participatory fourth still-to-be-named\n",
      "    multilingual multi-disciplinary ...\n",
      "JJR: adjective, comparative\n",
      "    bleaker braver breezier briefer brighter brisker broader bumper busier\n",
      "    calmer cheaper choosier cleaner clearer closer colder commoner costlier\n",
      "    cozier creamier crunchier cuter ...\n",
      "JJS: adjective, superlative\n",
      "    calmest cheapest choicest classiest cleanest clearest closest commonest\n",
      "    corniest costliest crassest creepiest crudest cutest darkest deadliest\n",
      "    dearest deepest densest dinkiest ...\n",
      "LS: list item marker\n",
      "    A A. B B. C C. D E F First G H I J K One SP-44001 SP-44002 SP-44005\n",
      "    SP-44007 Second Third Three Two * a b c d first five four one six three\n",
      "    two\n",
      "MD: modal auxiliary\n",
      "    can cannot could couldn't dare may might must need ought shall should\n",
      "    shouldn't will would\n",
      "NN: noun, common, singular or mass\n",
      "    common-carrier cabbage knuckle-duster Casino afghan shed thermostat\n",
      "    investment slide humour falloff slick wind hyena override subhumanity\n",
      "    machinist ...\n",
      "NNP: noun, proper, singular\n",
      "    Motown Venneboerger Czestochwa Ranzer Conchita Trumplane Christos\n",
      "    Oceanside Escobar Kreisler Sawyer Cougar Yvette Ervin ODI Darryl CTCA\n",
      "    Shannon A.K.C. Meltex Liverpool ...\n",
      "NNPS: noun, proper, plural\n",
      "    Americans Americas Amharas Amityvilles Amusements Anarcho-Syndicalists\n",
      "    Andalusians Andes Andruses Angels Animals Anthony Antilles Antiques\n",
      "    Apache Apaches Apocrypha ...\n",
      "NNS: noun, common, plural\n",
      "    undergraduates scotches bric-a-brac products bodyguards facets coasts\n",
      "    divestitures storehouses designs clubs fragrances averages\n",
      "    subjectivists apprehensions muses factory-jobs ...\n",
      "PDT: pre-determiner\n",
      "    all both half many quite such sure this\n",
      "POS: genitive marker\n",
      "    ' 's\n",
      "PRP: pronoun, personal\n",
      "    hers herself him himself hisself it itself me myself one oneself ours\n",
      "    ourselves ownself self she thee theirs them themselves they thou thy us\n",
      "PRP$: pronoun, possessive\n",
      "    her his mine my our ours their thy your\n",
      "RB: adverb\n",
      "    occasionally unabatingly maddeningly adventurously professedly\n",
      "    stirringly prominently technologically magisterially predominately\n",
      "    swiftly fiscally pitilessly ...\n",
      "RBR: adverb, comparative\n",
      "    further gloomier grander graver greater grimmer harder harsher\n",
      "    healthier heavier higher however larger later leaner lengthier less-\n",
      "    perfectly lesser lonelier longer louder lower more ...\n",
      "RBS: adverb, superlative\n",
      "    best biggest bluntest earliest farthest first furthest hardest\n",
      "    heartiest highest largest least less most nearest second tightest worst\n",
      "RP: particle\n",
      "    aboard about across along apart around aside at away back before behind\n",
      "    by crop down ever fast for forth from go high i.e. in into just later\n",
      "    low more off on open out over per pie raising start teeth that through\n",
      "    under unto up up-pp upon whole with you\n",
      "SYM: symbol\n",
      "    % & ' '' ''. ) ). * + ,. < = > @ A[fj] U.S U.S.S.R * ** ***\n",
      "TO: \"to\" as preposition or infinitive marker\n",
      "    to\n",
      "UH: interjection\n",
      "    Goodbye Goody Gosh Wow Jeepers Jee-sus Hubba Hey Kee-reist Oops amen\n",
      "    huh howdy uh dammit whammo shucks heck anyways whodunnit honey golly\n",
      "    man baby diddle hush sonuvabitch ...\n",
      "VB: verb, base form\n",
      "    ask assemble assess assign assume atone attention avoid bake balkanize\n",
      "    bank begin behold believe bend benefit bevel beware bless boil bomb\n",
      "    boost brace break bring broil brush build ...\n",
      "VBD: verb, past tense\n",
      "    dipped pleaded swiped regummed soaked tidied convened halted registered\n",
      "    cushioned exacted snubbed strode aimed adopted belied figgered\n",
      "    speculated wore appreciated contemplated ...\n",
      "VBG: verb, present participle or gerund\n",
      "    telegraphing stirring focusing angering judging stalling lactating\n",
      "    hankerin' alleging veering capping approaching traveling besieging\n",
      "    encrypting interrupting erasing wincing ...\n",
      "VBN: verb, past participle\n",
      "    multihulled dilapidated aerosolized chaired languished panelized used\n",
      "    experimented flourished imitated reunifed factored condensed sheared\n",
      "    unsettled primed dubbed desired ...\n",
      "VBP: verb, present tense, not 3rd person singular\n",
      "    predominate wrap resort sue twist spill cure lengthen brush terminate\n",
      "    appear tend stray glisten obtain comprise detest tease attract\n",
      "    emphasize mold postpone sever return wag ...\n",
      "VBZ: verb, present tense, 3rd person singular\n",
      "    bases reconstructs marks mixes displeases seals carps weaves snatches\n",
      "    slumps stretches authorizes smolders pictures emerges stockpiles\n",
      "    seduces fizzes uses bolsters slaps speaks pleads ...\n",
      "WDT: WH-determiner\n",
      "    that what whatever which whichever\n",
      "WP: WH-pronoun\n",
      "    that what whatever whatsoever which who whom whosoever\n",
      "WP$: WH-pronoun, possessive\n",
      "    whose\n",
      "WRB: Wh-adverb\n",
      "    how however whence whenever where whereby whereever wherein whereof why\n",
      "``: opening quotation mark\n",
      "    ` ``\n"
     ]
    },
    {
     "name": "stderr",
     "output_type": "stream",
     "text": [
      "[nltk_data] Downloading package tagsets to\n",
      "[nltk_data]     C:\\Users\\trueb\\AppData\\Roaming\\nltk_data...\n",
      "[nltk_data]   Package tagsets is already up-to-date!\n"
     ]
    }
   ],
   "source": [
    "nltk.download('tagsets')\n",
    "nltk.help.upenn_tagset() "
   ]
  },
  {
   "cell_type": "code",
   "execution_count": 4,
   "id": "93d0b883",
   "metadata": {},
   "outputs": [
    {
     "name": "stdout",
     "output_type": "stream",
     "text": [
      "517\n"
     ]
    }
   ],
   "source": [
    "with open('dataScientistJobDesc.txt', 'r', encoding=\"UTF-8\") as file:\n",
    "    data = file.read()\n",
    "    words = word_tokenize(data)\n",
    "    words_pos = nltk.pos_tag(words)\n",
    "    nouns_list = [word for word, pos in words_pos if pos == 'NN' or pos == 'NNP' or pos == 'NNPS' or pos == 'NNS']\n",
    "    verbs_list = [word for word, pos in words_pos if pos == 'VB' or pos == 'VBD' or pos == 'VBG' or pos == 'VBN' or pos == 'VBP' or pos == 'VBZ']\n",
    "    \n",
    "    nouns = len(nouns_list)\n",
    "    verbs = len(verbs_list)\n",
    "    print(nouns)"
   ]
  },
  {
   "cell_type": "markdown",
   "id": "910ef6e8",
   "metadata": {},
   "source": [
    "# Spacy"
   ]
  },
  {
   "cell_type": "code",
   "execution_count": 5,
   "id": "061b8725",
   "metadata": {},
   "outputs": [
    {
     "name": "stdout",
     "output_type": "stream",
     "text": [
      "love VERB\n",
      "NLP PROPN\n",
      "learn VERB\n",
      "NLP PROPN\n",
      "2 NUM\n",
      "month NOUN\n"
     ]
    }
   ],
   "source": [
    "import spacy\n",
    "nlp = spacy.load(\"en_core_web_sm\")\n",
    "doc = nlp(text)\n",
    "words=[token for token in doc if token.is_stop == False]\n",
    "for token in words:\n",
    "    print(token.text, token.pos_)"
   ]
  },
  {
   "cell_type": "code",
   "execution_count": 6,
   "id": "0fbd151c",
   "metadata": {},
   "outputs": [
    {
     "name": "stdout",
     "output_type": "stream",
     "text": [
      "514\n"
     ]
    }
   ],
   "source": [
    "with open('dataScientistJobDesc.txt', 'r', encoding=\"UTF-8\") as file:\n",
    "    data = file.read()\n",
    "    words = nlp(data)\n",
    "    nouns_list = [token.text for token in words if token.pos_ == 'NOUN' or token.pos_ == 'PROPN']\n",
    "    verbs_list = [token.text for token in words if token.pos_ == 'VERB']\n",
    "    \n",
    "    nouns = len(nouns_list)\n",
    "    verbs = len(verbs_list)\n",
    "    print(nouns)"
   ]
  },
  {
   "cell_type": "markdown",
   "id": "530bcfd9",
   "metadata": {},
   "source": [
    "### Word Type Counter"
   ]
  },
  {
   "cell_type": "code",
   "execution_count": 7,
   "id": "efb8aeae",
   "metadata": {},
   "outputs": [
    {
     "name": "stdout",
     "output_type": "stream",
     "text": [
      "[('NOUN', 433), ('VERB', 126), ('ADJ', 97), ('SPACE', 50), ('PROPN', 42), ('ADV', 11), ('ADP', 8), ('PART', 3), ('NUM', 3), ('PRON', 2), ('X', 2), ('DET', 1), ('CCONJ', 1), ('AUX', 1)]\n"
     ]
    }
   ],
   "source": [
    "import collections\n",
    "from collections import Counter\n",
    "\n",
    "with open('dataScientistJobDesc.txt', 'r', encoding=\"UTF-8\") as file:\n",
    "    data = file.read()\n",
    "    data = NLP(data).to_lower().remove_punctuation().remove_stopword().text\n",
    "    words = nlp(data)\n",
    "\n",
    "    counter = Counter([token.pos_ for token in words])\n",
    "    print(counter.most_common())"
   ]
  },
  {
   "cell_type": "code",
   "execution_count": 8,
   "id": "c2365c30",
   "metadata": {},
   "outputs": [
    {
     "data": {
      "image/png": "[encoded data removed]",
      "text/plain": [
       "<Figure size 640x480 with 1 Axes>"
      ]
     },
     "metadata": {},
     "output_type": "display_data"
    }
   ],
   "source": [
    "import pandas as pd\n",
    "import matplotlib.pyplot as plt\n",
    "import seaborn as sns\n",
    "\n",
    "df = pd.DataFrame(counter.most_common(), columns=[\"Part of Speech\", \"Count\"])\n",
    "\n",
    "sns.barplot(x=\"Count\", y=\"Part of Speech\", data=df, palette=\"viridis\")\n",
    "\n",
    "# Set labels and title\n",
    "plt.xlabel(\"Count\")\n",
    "plt.ylabel(\"Part of Speech\")\n",
    "plt.title(\"Part of Speech Distribution\")\n",
    "\n",
    "# Show the plot\n",
    "plt.show()"
   ]
  },
  {
   "cell_type": "markdown",
   "id": "0cb6db38",
   "metadata": {},
   "source": [
    "### Word Counter"
   ]
  },
  {
   "cell_type": "code",
   "execution_count": 9,
   "id": "aaab78af",
   "metadata": {},
   "outputs": [
    {
     "name": "stdout",
     "output_type": "stream",
     "text": [
      "[('data', 86), ('scientist', 46), ('    ', 29), ('skills', 14), ('  ', 13), ('science', 13), ('job', 10), ('business', 10), ('like', 7), ('scientists', 6), ('organization', 6), ('     ', 6), ('description', 5), ('information', 5), ('career', 5), ('statistical', 5), ('role', 4), ('analytical', 4), ('help', 4), ('professionals', 4)]\n"
     ]
    }
   ],
   "source": [
    "import collections\n",
    "from collections import Counter\n",
    "\n",
    "with open('dataScientistJobDesc.txt', 'r', encoding=\"UTF-8\") as file:\n",
    "    data = file.read()\n",
    "    data = NLP(data).to_lower().remove_punctuation().remove_stopword().text\n",
    "    words = nlp(data)\n",
    "    \n",
    "    counter = Counter([token.text for token in words])\n",
    "\n",
    "    print(counter.most_common(20))"
   ]
  },
  {
   "cell_type": "code",
   "execution_count": 10,
   "id": "ffbbbdbc",
   "metadata": {},
   "outputs": [
    {
     "data": {
      "image/png": "[encoded data removed]",
      "text/plain": [
       "<Figure size 640x480 with 1 Axes>"
      ]
     },
     "metadata": {},
     "output_type": "display_data"
    }
   ],
   "source": [
    "import pandas as pd\n",
    "import matplotlib.pyplot as plt\n",
    "import seaborn as sns\n",
    "\n",
    "df = pd.DataFrame(counter.most_common(20), columns=[\"Word\", \"Count\"])\n",
    "\n",
    "sns.barplot(x=\"Count\", y=\"Word\", data=df, palette=\"muted\")\n",
    "\n",
    "# Set labels and title\n",
    "plt.xlabel(\"Count\")\n",
    "plt.ylabel(\"Word\")\n",
    "plt.title(\"Word Frequency Distribution\")\n",
    "\n",
    "# Show the plot\n",
    "plt.show()"
   ]
  }
 ],
 "metadata": {
  "kernelspec": {
   "display_name": "Python 3 (ipykernel)",
   "language": "python",
   "name": "python3"
  },
  "language_info": {
   "codemirror_mode": {
    "name": "ipython",
    "version": 3
   },
   "file_extension": ".py",
   "mimetype": "text/x-python",
   "name": "python",
   "nbconvert_exporter": "python",
   "pygments_lexer": "ipython3",
   "version": "3.11.5"
  }
 },
 "nbformat": 4,
 "nbformat_minor": 5
}
