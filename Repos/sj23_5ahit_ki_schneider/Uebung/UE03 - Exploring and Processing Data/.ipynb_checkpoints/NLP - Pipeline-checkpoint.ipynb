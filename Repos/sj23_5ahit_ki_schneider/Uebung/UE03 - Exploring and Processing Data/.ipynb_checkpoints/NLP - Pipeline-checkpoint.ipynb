{
 "cells": [
  {
   "cell_type": "code",
   "execution_count": 4,
   "id": "2c8b4020",
   "metadata": {},
   "outputs": [],
   "source": [
    "import re, spacy\n",
    "# nlp = spacy.load(\"de_core_news_sm\")\n",
    "nlp = spacy.load(\"en_core_web_sm\")\n",
    "\n",
    "class NLP:\n",
    "    def __init__(self, text):\n",
    "        self.text = text\n",
    "        self.normalized = False\n",
    "        self.tokenized = False\n",
    "\n",
    "    def to_lower(self):\n",
    "        self.text = self.text.lower()\n",
    "        self.normalized = True\n",
    "        return self\n",
    "    \n",
    "    def remove_url(self):\n",
    "        if self.normalized == False:\n",
    "            raise Exception(\"Text must be normalized first. Use `.to_lower()` to normalize!\")\n",
    "        \n",
    "        return self\n",
    "    \n",
    "    def remove_email(self):\n",
    "        if self.normalized == False:\n",
    "            raise Exception(\"Text must be normalized first. Use `.to_lower()` to normalize!\")\n",
    "        \n",
    "        return self\n",
    "    \n",
    "    def remove_punctuation(self):\n",
    "        if self.normalized == False:\n",
    "            raise Exception(\"Text must be normalized first. Use `.to_lower()` to normalize!\")\n",
    "        \n",
    "        self.text = re.sub(\"[^a-z0-9 ]\", '', self.text)\n",
    "        return self\n",
    "    \n",
    "    def remove_stopword(self):\n",
    "        if self.normalized == False:\n",
    "            raise Exception(\"Text must be normalized first. Use `.to_lower()` to normalize!\")\n",
    "            \n",
    "        stop_words = spacy.lang.en.stop_words.STOP_WORDS\n",
    "        doc = nlp(self.text)\n",
    "        \n",
    "        filtered_tokens = [token for token in doc if not token.is_stop] \n",
    "        self.text = ' '.join([token.text for token in filtered_tokens])\n",
    "        \n",
    "        return self\n",
    "    \n",
    "    def lemmatize_word(self):\n",
    "        if self.normalized == False:\n",
    "            raise Exception(\"Text must be normalized first. Use `.to_lower()` to normalize!\")\n",
    "        \n",
    "        return self"
   ]
  },
  {
   "cell_type": "code",
   "execution_count": 5,
   "id": "8a92a800",
   "metadata": {},
   "outputs": [],
   "source": [
    "text = 'During the night of 21 September 1792, French troops under General Moutesquiou launched a surprise attack on the Duchy of Savoy, which at the time was a dependent territory of the Kingdom of Sardinia. The king, who was in residence at Chambéry, accompanied by his army, numerous administrators and clergy, fled across the Alps to his Piedmontese lands.'"
   ]
  },
  {
   "cell_type": "code",
   "execution_count": 3,
   "id": "fd57ad6f",
   "metadata": {},
   "outputs": [
    {
     "ename": "NameError",
     "evalue": "name 'stop' is not defined",
     "output_type": "error",
     "traceback": [
      "\u001b[1;31m---------------------------------------------------------------------------\u001b[0m",
      "\u001b[1;31mNameError\u001b[0m                                 Traceback (most recent call last)",
      "Cell \u001b[1;32mIn[3], line 1\u001b[0m\n\u001b[1;32m----> 1\u001b[0m NLP(text)\u001b[38;5;241m.\u001b[39mto_lower()\u001b[38;5;241m.\u001b[39mremove_url()\u001b[38;5;241m.\u001b[39mremove_email()\u001b[38;5;241m.\u001b[39mremove_punctuation()\u001b[38;5;241m.\u001b[39mremove_stopword()\u001b[38;5;241m.\u001b[39mlemmatize_word()\u001b[38;5;241m.\u001b[39mtext\n",
      "Cell \u001b[1;32mIn[1], line 37\u001b[0m, in \u001b[0;36mNLP.remove_stopword\u001b[1;34m(self)\u001b[0m\n\u001b[0;32m     34\u001b[0m \u001b[38;5;28;01mif\u001b[39;00m \u001b[38;5;28mself\u001b[39m\u001b[38;5;241m.\u001b[39mnormalized \u001b[38;5;241m==\u001b[39m \u001b[38;5;28;01mFalse\u001b[39;00m:\n\u001b[0;32m     35\u001b[0m     \u001b[38;5;28;01mraise\u001b[39;00m \u001b[38;5;167;01mException\u001b[39;00m(\u001b[38;5;124m\"\u001b[39m\u001b[38;5;124mText must be normalized first. Use `.to_lower()` to normalize!\u001b[39m\u001b[38;5;124m\"\u001b[39m)\n\u001b[1;32m---> 37\u001b[0m \u001b[38;5;28mself\u001b[39m\u001b[38;5;241m.\u001b[39mtext \u001b[38;5;241m=\u001b[39m \u001b[38;5;124m\"\u001b[39m\u001b[38;5;124m \u001b[39m\u001b[38;5;124m\"\u001b[39m\u001b[38;5;241m.\u001b[39mjoin([word \u001b[38;5;28;01mfor\u001b[39;00m word \u001b[38;5;129;01min\u001b[39;00m \u001b[38;5;28mself\u001b[39m\u001b[38;5;241m.\u001b[39mtext\u001b[38;5;241m.\u001b[39msplit() \u001b[38;5;28;01mif\u001b[39;00m word \u001b[38;5;129;01mnot\u001b[39;00m \u001b[38;5;129;01min\u001b[39;00m stop])\n\u001b[0;32m     38\u001b[0m \u001b[38;5;28;01mreturn\u001b[39;00m \u001b[38;5;28mself\u001b[39m\n",
      "Cell \u001b[1;32mIn[1], line 37\u001b[0m, in \u001b[0;36m<listcomp>\u001b[1;34m(.0)\u001b[0m\n\u001b[0;32m     34\u001b[0m \u001b[38;5;28;01mif\u001b[39;00m \u001b[38;5;28mself\u001b[39m\u001b[38;5;241m.\u001b[39mnormalized \u001b[38;5;241m==\u001b[39m \u001b[38;5;28;01mFalse\u001b[39;00m:\n\u001b[0;32m     35\u001b[0m     \u001b[38;5;28;01mraise\u001b[39;00m \u001b[38;5;167;01mException\u001b[39;00m(\u001b[38;5;124m\"\u001b[39m\u001b[38;5;124mText must be normalized first. Use `.to_lower()` to normalize!\u001b[39m\u001b[38;5;124m\"\u001b[39m)\n\u001b[1;32m---> 37\u001b[0m \u001b[38;5;28mself\u001b[39m\u001b[38;5;241m.\u001b[39mtext \u001b[38;5;241m=\u001b[39m \u001b[38;5;124m\"\u001b[39m\u001b[38;5;124m \u001b[39m\u001b[38;5;124m\"\u001b[39m\u001b[38;5;241m.\u001b[39mjoin([word \u001b[38;5;28;01mfor\u001b[39;00m word \u001b[38;5;129;01min\u001b[39;00m \u001b[38;5;28mself\u001b[39m\u001b[38;5;241m.\u001b[39mtext\u001b[38;5;241m.\u001b[39msplit() \u001b[38;5;28;01mif\u001b[39;00m word \u001b[38;5;129;01mnot\u001b[39;00m \u001b[38;5;129;01min\u001b[39;00m stop])\n\u001b[0;32m     38\u001b[0m \u001b[38;5;28;01mreturn\u001b[39;00m \u001b[38;5;28mself\u001b[39m\n",
      "\u001b[1;31mNameError\u001b[0m: name 'stop' is not defined"
     ]
    }
   ],
   "source": [
    "NLP(text).to_lower().remove_url().remove_email().remove_punctuation().remove_stopword().lemmatize_word().text"
   ]
  }
 ],
 "metadata": {
  "kernelspec": {
   "display_name": "Python 3 (ipykernel)",
   "language": "python",
   "name": "python3"
  },
  "language_info": {
   "codemirror_mode": {
    "name": "ipython",
    "version": 3
   },
   "file_extension": ".py",
   "mimetype": "text/x-python",
   "name": "python",
   "nbconvert_exporter": "python",
   "pygments_lexer": "ipython3",
   "version": "3.11.5"
  }
 },
 "nbformat": 4,
 "nbformat_minor": 5
}
