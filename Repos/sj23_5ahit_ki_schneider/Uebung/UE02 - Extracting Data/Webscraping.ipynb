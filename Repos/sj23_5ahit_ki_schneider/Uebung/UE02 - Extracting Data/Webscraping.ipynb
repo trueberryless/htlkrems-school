{
 "cells": [
  {
   "cell_type": "code",
   "execution_count": 19,
   "id": "fe707e2a",
   "metadata": {},
   "outputs": [],
   "source": [
    "import re"
   ]
  },
  {
   "cell_type": "code",
   "execution_count": 20,
   "id": "83c0ec5b",
   "metadata": {},
   "outputs": [
    {
     "name": "stdout",
     "output_type": "stream",
     "text": [
      "['office@htlkrems.at']\n"
     ]
    }
   ],
   "source": [
    "import urllib.request as urllib2\n",
    "from bs4 import BeautifulSoup\n",
    "# Website laden\n",
    "response = urllib2.urlopen('https://www.htlkrems.ac.at')\n",
    "html_doc = response.read()\n",
    "# Das BeautifulSoup Object soup repräsentiert das „geparste“ HTML-Dokument\n",
    "soup = BeautifulSoup(html_doc, 'html.parser')\n",
    "# Das „geparste“ HTML-Dokument formatieren, sodass jeder Tag bzw. Textblock\n",
    "# in einer separaten Zeile ausgegeben wird\n",
    "strhtm = soup.prettify()\n",
    "\n",
    "email = re.findall(\"\\S+@\\S+\\.\\S{2,3}\", strhtm)\n",
    "print(email)"
   ]
  },
  {
   "cell_type": "code",
   "execution_count": 21,
   "id": "cf62a6a9",
   "metadata": {},
   "outputs": [],
   "source": [
    "import csv\n",
    "\n",
    "with open('email.csv', 'w') as file:\n",
    "    writer = csv.writer(file)\n",
    "    writer.writerow(email)"
   ]
  },
  {
   "cell_type": "code",
   "execution_count": 22,
   "id": "1b3a4bcd",
   "metadata": {},
   "outputs": [],
   "source": [
    "# Website laden\n",
    "response = urllib2.urlopen('https://www.gamespot.com/games/reviews/?review_filter_type%5Bplatform%5D=&review_filter_type%5Bgenre%5D=4&review_filter_type%5BtimeFrame%5D=P12M&review_filter_type%5BstartDate%5D=&review_filter_type%5BendDate%5D=&review_filter_type%5BminRating%5D=&review_filter_type%5Btheme%5D=&review_filter_type%5Bregion%5D=&review_filter_type%5Bletter%5D=&sort=gs_score_desc')\n",
    "html_doc = response.read()\n",
    "# Das BeautifulSoup Object soup repräsentiert das „geparste“ HTML-Dokument\n",
    "soup = BeautifulSoup(html_doc, 'html.parser')\n",
    "# Das „geparste“ HTML-Dokument formatieren, sodass jeder Tag bzw. Textblock\n",
    "# in einer separaten Zeile ausgegeben wird\n",
    "strhtm = soup.prettify()"
   ]
  },
  {
   "cell_type": "code",
   "execution_count": 25,
   "id": "b53a480b",
   "metadata": {},
   "outputs": [
    {
     "name": "stdout",
     "output_type": "stream",
     "text": [
      "The Witcher 3: Wild Hunt Next-Gen Update Review - Wind's Howlin'\n",
      "PS5\n",
      "1912\n",
      "--------------------------------------------------\n",
      "Resident Evil 4 Remake Review - Stranga, Stranga, Now That's A Remake\n",
      "PS5\n",
      "33\n",
      "--------------------------------------------------\n",
      "The Legend Of Zelda: Tears Of The Kingdom Review\n",
      "NS\n",
      "27\n",
      "--------------------------------------------------\n"
     ]
    }
   ],
   "source": [
    "# Loop through the cards and create a DataFrame for each card's data\n",
    "for card in soup.findAll('div', attrs={'class': 'card-item__content'}, limit=3):\n",
    "    print(card.find('h4').text)\n",
    "    print(card.find('span').text)\n",
    "    print(card.find('div').findAll('div')[2].find('span').text)\n",
    "    print('-' * 50)"
   ]
  },
  {
   "cell_type": "code",
   "execution_count": 24,
   "id": "1139addf",
   "metadata": {},
   "outputs": [
    {
     "name": "stdout",
     "output_type": "stream",
     "text": [
      "                                                Title Platform NumOfThumbsUp\n",
      "0   The Witcher 3: Wild Hunt Next-Gen Update Revie...      PS5          1912\n",
      "1   Resident Evil 4 Remake Review - Stranga, Stran...      PS5            33\n",
      "2    The Legend Of Zelda: Tears Of The Kingdom Review       NS            27\n",
      "3   Cyberpunk 2077: Phantom Liberty Review - The S...       PC            18\n",
      "4             Bayonetta 3 Review - Real Hot Girls Hit       NS            28\n",
      "5   God Of War Ragnarok Review - Blood, Sweat, And...      PS5            28\n",
      "6   World Of Warcraft: Dragonflight Review - Who S...       PC             7\n",
      "7          Dead Space Remake Review - Hits The Marker       PC            25\n",
      "8                 Hi-Fi Rush Review - Good Vibes Only     XBSX            14\n",
      "9   Bayonetta Origins: Cereza And The Lost Demon -...       NS             5\n",
      "10          Street Fighter 6 Review - Battle Hardened      PS5            13\n",
      "11         Final Fantasy 16 Review - On Its Own Terms      PS5            25\n",
      "12           Blasphemous 2 Review - Unholy Pilgrimage       PC             6\n",
      "13  The Texas Chain Saw Massacre Review - Thrill O...     XBSX            14\n",
      "14                     Cocoon Review - A Bug's Strife       PC             3\n",
      "15                              Nier: Automata Review   NS, NS           279\n",
      "16           Overwatch 2 Review - Same As It Ever Was       PC            10\n",
      "17         Lego Bricktales Review: Build Brick Better       PC            10\n",
      "18                    Signalis Review - Silent Thrill     XONE             5\n",
      "19  Call Of Duty: Modern Warfare 2 Campaign Review...      PS5            14\n",
      "20  Call Of Duty: Warzone 2 Review - Al Mazrah Shines      PS5             7\n"
     ]
    }
   ],
   "source": [
    "import pandas as pd\n",
    "\n",
    "# Initialize an empty DataFrame with the desired columns\n",
    "df = pd.DataFrame(columns=['Title', 'Platform', 'NumOfThumbsUp'])\n",
    "\n",
    "# Loop through the cards and create a DataFrame for each card's data\n",
    "for card in soup.findAll('div', attrs={'class': 'card-item__content'}):\n",
    "    title = card.find('h4').text\n",
    "    platform = card.find('span').text\n",
    "    num_of_thumbs_up = card.find('div').findAll('div')[2].find('span').text\n",
    "    \n",
    "    # Create a DataFrame for the current card's data\n",
    "    card_df = pd.DataFrame({'Title': [title], 'Platform': [platform], 'NumOfThumbsUp': [num_of_thumbs_up]})\n",
    "    \n",
    "    # Concatenate the current card's DataFrame with the main DataFrame\n",
    "    df = pd.concat([df, card_df], ignore_index=True)\n",
    "\n",
    "# Print the resulting DataFrame\n",
    "print(df)"
   ]
  }
 ],
 "metadata": {
  "kernelspec": {
   "display_name": "Python 3 (ipykernel)",
   "language": "python",
   "name": "python3"
  },
  "language_info": {
   "codemirror_mode": {
    "name": "ipython",
    "version": 3
   },
   "file_extension": ".py",
   "mimetype": "text/x-python",
   "name": "python",
   "nbconvert_exporter": "python",
   "pygments_lexer": "ipython3",
   "version": "3.11.5"
  }
 },
 "nbformat": 4,
 "nbformat_minor": 5
}
