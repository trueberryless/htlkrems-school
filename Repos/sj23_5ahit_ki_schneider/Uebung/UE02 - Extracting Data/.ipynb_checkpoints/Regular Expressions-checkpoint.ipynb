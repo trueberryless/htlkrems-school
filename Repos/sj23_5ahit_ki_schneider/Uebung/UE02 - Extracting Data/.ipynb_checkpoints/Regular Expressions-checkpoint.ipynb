{
 "cells": [
  {
   "cell_type": "code",
   "execution_count": 2,
   "id": "744e4cce",
   "metadata": {},
   "outputs": [],
   "source": [
    "import re"
   ]
  },
  {
   "cell_type": "code",
   "execution_count": 4,
   "id": "43d7c22e",
   "metadata": {},
   "outputs": [
    {
     "name": "stdout",
     "output_type": "stream",
     "text": [
      "['5']\n"
     ]
    }
   ],
   "source": [
    "p = re.compile(\"5\")\n",
    "print(p.findall(\"Für 5 Semmeln habe ich 3.90€ bezahlt.\")) "
   ]
  },
  {
   "cell_type": "code",
   "execution_count": 5,
   "id": "1a6e6513",
   "metadata": {},
   "outputs": [
    {
     "name": "stdout",
     "output_type": "stream",
     "text": [
      "['5', '3', '9', '0']\n"
     ]
    }
   ],
   "source": [
    "p = re.compile(\"[0-9]\")\n",
    "print(p.findall(\"Für 5 Semmeln habe ich 3.90€ bezahlt.\"))"
   ]
  },
  {
   "cell_type": "code",
   "execution_count": 6,
   "id": "28b3911b",
   "metadata": {},
   "outputs": [
    {
     "name": "stdout",
     "output_type": "stream",
     "text": [
      "[' 5 ']\n"
     ]
    }
   ],
   "source": [
    "p = re.compile(\" [0-9] \")\n",
    "print(p.findall(\"Für 5 Semmeln habe ich 3.90€ bezahlt.\"))"
   ]
  },
  {
   "cell_type": "code",
   "execution_count": 7,
   "id": "3f88c0a2",
   "metadata": {},
   "outputs": [
    {
     "name": "stdout",
     "output_type": "stream",
     "text": [
      "['3.90']\n"
     ]
    }
   ],
   "source": [
    "p = re.compile(\"[0-9]\\.[0-9][0-9]\") \n",
    "print(p.findall(\"Für 5 Semmeln habe ich 3.90€ bezahlt.\"))"
   ]
  },
  {
   "cell_type": "code",
   "execution_count": 10,
   "id": "4953f9dd",
   "metadata": {},
   "outputs": [
    {
     "name": "stdout",
     "output_type": "stream",
     "text": [
      "['3.90€']\n",
      "['3.90$']\n"
     ]
    }
   ],
   "source": [
    "p = re.compile(\"[0-9]\\.[0-9][0-9][€$]\") \n",
    "print(p.findall(\"Für 5 Semmeln habe ich 3.90€ bezahlt.\"))\n",
    "print(p.findall(\"Für 5 Semmeln habe ich 3.90$ bezahlt.\"))"
   ]
  },
  {
   "cell_type": "code",
   "execution_count": 12,
   "id": "5e321218",
   "metadata": {},
   "outputs": [
    {
     "name": "stdout",
     "output_type": "stream",
     "text": [
      "[' 5 ']\n",
      "[]\n",
      "[]\n"
     ]
    }
   ],
   "source": [
    "p = re.compile(\" [0-9] \")\n",
    "print(p.findall(\"Für 5 Semmeln habe ich 3.90€ bezahlt.\"))\n",
    "print(p.findall(\"Für 15 Semmeln habe ich 19.50$ bezahlt.\"))\n",
    "print(p.findall(\"Für 150 Semmeln habe ich 190.50$ bezahlt.\")) "
   ]
  },
  {
   "cell_type": "code",
   "execution_count": 14,
   "id": "3694e965",
   "metadata": {},
   "outputs": [
    {
     "name": "stdout",
     "output_type": "stream",
     "text": [
      "[]\n",
      "[]\n",
      "[' 150 ']\n"
     ]
    }
   ],
   "source": [
    "# Also this pattern only matches if there are exactly three numbers.\n",
    "p = re.compile(\" [0-9][0-9][0-9] \")\n",
    "print(p.findall(\"Für 5 Semmeln habe ich 3.90€ bezahlt.\"))\n",
    "print(p.findall(\"Für 15 Semmeln habe ich 19.50$ bezahlt.\"))\n",
    "print(p.findall(\"Für 150 Semmeln habe ich 190.50$ bezahlt.\")) "
   ]
  },
  {
   "cell_type": "code",
   "execution_count": 16,
   "id": "5d1ab714",
   "metadata": {},
   "outputs": [
    {
     "name": "stdout",
     "output_type": "stream",
     "text": [
      "[' 5 ']\n",
      "[' 15 ']\n",
      "[' 150 ']\n"
     ]
    }
   ],
   "source": [
    "p = re.compile(\" [0-9]+ \")\n",
    "print(p.findall(\"Für 5 Semmeln habe ich 3.90€ bezahlt.\"))\n",
    "print(p.findall(\"Für 15 Semmeln habe ich 19.50$ bezahlt.\"))\n",
    "print(p.findall(\"Für 150 Semmeln habe ich 190.50$ bezahlt.\"))"
   ]
  },
  {
   "cell_type": "code",
   "execution_count": 17,
   "id": "55b75aa8",
   "metadata": {},
   "outputs": [
    {
     "name": "stdout",
     "output_type": "stream",
     "text": [
      "[' 3.90€ ']\n",
      "[' 19.50$ ']\n",
      "[' 190.50$ ']\n"
     ]
    }
   ],
   "source": [
    "p = re.compile(\" [0-9]+\\.[0-9][0-9][€$] \")\n",
    "print(p.findall(\"Für 5 Semmeln habe ich 3.90€ bezahlt.\"))\n",
    "print(p.findall(\"Für 15 Semmeln habe ich 19.50$ bezahlt.\"))\n",
    "print(p.findall(\"Für 150 Semmeln habe ich 190.50$ bezahlt.\")) "
   ]
  },
  {
   "cell_type": "code",
   "execution_count": 18,
   "id": "891f50c4",
   "metadata": {},
   "outputs": [
    {
     "name": "stdout",
     "output_type": "stream",
     "text": [
      "[' 3.90€ ']\n",
      "[' 19.50$ ']\n",
      "[' 190.50$ ']\n"
     ]
    }
   ],
   "source": [
    "p = re.compile(\" [0-9]+\\.[0-9]{2}[€$] \")\n",
    "print(p.findall(\"Für 5 Semmeln habe ich 3.90€ bezahlt.\"))\n",
    "print(p.findall(\"Für 15 Semmeln habe ich 19.50$ bezahlt.\"))\n",
    "print(p.findall(\"Für 150 Semmeln habe ich 190.50$ bezahlt.\")) "
   ]
  },
  {
   "cell_type": "code",
   "execution_count": 21,
   "id": "347bff40",
   "metadata": {},
   "outputs": [
    {
     "name": "stdout",
     "output_type": "stream",
     "text": [
      "[' 3.90€ ']\n",
      "[' 19.50$ ']\n",
      "[' 190,50 ']\n"
     ]
    }
   ],
   "source": [
    "p = re.compile(\" [0-9]+[\\.,][0-9]{2}[€$]? \")\n",
    "print(p.findall(\"Für 5 Semmeln habe ich 3.90€ bezahlt.\"))\n",
    "print(p.findall(\"Für 15 Semmeln habe ich 19.50$ bezahlt.\"))\n",
    "print(p.findall(\"Für 150 Semmeln habe ich 190,50 bezahlt.\"))"
   ]
  },
  {
   "cell_type": "code",
   "execution_count": 24,
   "id": "9b59273a",
   "metadata": {},
   "outputs": [
    {
     "name": "stdout",
     "output_type": "stream",
     "text": [
      "<re.Match object; span=(6, 19), match='Telefonnummer'>\n"
     ]
    }
   ],
   "source": [
    "p = re.compile(\"Telefonnummer\")\n",
    "print(p.search(\"Meine Telefonnummer ist 0664 555 0 123. Ruf schnell an!\")) "
   ]
  },
  {
   "cell_type": "code",
   "execution_count": 27,
   "id": "ea42b8b5",
   "metadata": {},
   "outputs": [
    {
     "name": "stdout",
     "output_type": "stream",
     "text": [
      "(6, 19)\n",
      "6\n",
      "19\n"
     ]
    }
   ],
   "source": [
    "match = p.search(\"Meine Telefonnummer ist 0664 555 0 123. Ruf schnell an!\")\n",
    "print(match.span())\n",
    "print(match.start())\n",
    "print(match.end()) "
   ]
  },
  {
   "cell_type": "code",
   "execution_count": 32,
   "id": "b0c44210",
   "metadata": {},
   "outputs": [
    {
     "name": "stdout",
     "output_type": "stream",
     "text": [
      "None\n"
     ]
    }
   ],
   "source": [
    "match = p.match(\"Meine Telefonnummer ist 0664 555 0 123. Ruf schnell an!\")\n",
    "print(match) "
   ]
  },
  {
   "cell_type": "code",
   "execution_count": 31,
   "id": "351e3268",
   "metadata": {},
   "outputs": [
    {
     "name": "stdout",
     "output_type": "stream",
     "text": [
      "<callable_iterator object at 0x0000014CE2867DF0>\n"
     ]
    }
   ],
   "source": [
    "match = p.finditer(\"Meine Telefonnummer ist 0664 555 0 123. Ruf schnell an!\")\n",
    "print(match)"
   ]
  },
  {
   "cell_type": "code",
   "execution_count": 34,
   "id": "0a901b14",
   "metadata": {},
   "outputs": [
    {
     "name": "stdout",
     "output_type": "stream",
     "text": [
      "<re.Match object; span=(13, 17), match='Frau'>\n",
      "<re.Match object; span=(14, 18), match='Herr'>\n"
     ]
    }
   ],
   "source": [
    "print(re.search(\"Frau|Herr\", \"Sehr geehrte Frau Musterfrau! Ich darf Sie darauf hinweisen, dass...\"))\n",
    "print(re.search(\"Frau|Herr\", \"Sehr geehrter Herr Mustermann! Ich darf Sie darauf hinweisen, dass...\")) "
   ]
  },
  {
   "cell_type": "code",
   "execution_count": 35,
   "id": "359b681b",
   "metadata": {},
   "outputs": [
    {
     "data": {
      "text/plain": [
       "['Hund', 'Mund']"
      ]
     },
     "execution_count": 35,
     "metadata": {},
     "output_type": "execute_result"
    }
   ],
   "source": [
    "re.findall(\".und\",\"Der Hund hat keinen Mund \")"
   ]
  },
  {
   "cell_type": "code",
   "execution_count": 36,
   "id": "62005e6d",
   "metadata": {},
   "outputs": [
    {
     "name": "stdout",
     "output_type": "stream",
     "text": [
      "['a']\n",
      "['a']\n",
      "[]\n"
     ]
    }
   ],
   "source": [
    "someText = [\"a\", \"abc\", \"bac\"]\n",
    "for text in someText:\n",
    "     print(re.findall(\"^a\", text)) "
   ]
  },
  {
   "cell_type": "code",
   "execution_count": 37,
   "id": "75505d3d",
   "metadata": {},
   "outputs": [
    {
     "name": "stdout",
     "output_type": "stream",
     "text": [
      "['a']\n",
      "[]\n",
      "[]\n"
     ]
    }
   ],
   "source": [
    "someNewText = [\"a\", \"formula\", \"bac\"]\n",
    "for text in someText:\n",
    "     print(re.findall(\"a$\", text)) "
   ]
  },
  {
   "cell_type": "code",
   "execution_count": 38,
   "id": "e5a44824",
   "metadata": {},
   "outputs": [
    {
     "data": {
      "text/plain": [
       "['D',\n",
       " 'a',\n",
       " 's',\n",
       " 'i',\n",
       " 's',\n",
       " 't',\n",
       " 'e',\n",
       " 'i',\n",
       " 'n',\n",
       " 'T',\n",
       " 'e',\n",
       " 'x',\n",
       " 't',\n",
       " 'm',\n",
       " 'i',\n",
       " 't',\n",
       " 'L',\n",
       " 'e',\n",
       " 'e',\n",
       " 'r',\n",
       " 'z',\n",
       " 'e',\n",
       " 'i',\n",
       " 'c',\n",
       " 'h',\n",
       " 'e',\n",
       " 'n',\n",
       " '!']"
      ]
     },
     "execution_count": 38,
     "metadata": {},
     "output_type": "execute_result"
    }
   ],
   "source": [
    "re.findall(\"[^ ]\",\"Das ist ein Text mit Leerzeichen!\") "
   ]
  },
  {
   "cell_type": "code",
   "execution_count": null,
   "id": "8099b198",
   "metadata": {},
   "outputs": [],
   "source": []
  }
 ],
 "metadata": {
  "kernelspec": {
   "display_name": "Python 3 (ipykernel)",
   "language": "python",
   "name": "python3"
  },
  "language_info": {
   "codemirror_mode": {
    "name": "ipython",
    "version": 3
   },
   "file_extension": ".py",
   "mimetype": "text/x-python",
   "name": "python",
   "nbconvert_exporter": "python",
   "pygments_lexer": "ipython3",
   "version": "3.9.16"
  }
 },
 "nbformat": 4,
 "nbformat_minor": 5
}
