{
 "cells": [
  {
   "cell_type": "code",
   "execution_count": 2,
   "id": "97fda897",
   "metadata": {},
   "outputs": [
    {
     "name": "stdout",
     "output_type": "stream",
     "text": [
      "['abound' 'applications' 'crucial' 'evolving' 'for' 'insights' 'learns'\n",
      " 'ml' 'nlp' 'patterns' 'preprocessing' 'understanding' 'unlocks']\n",
      "[[0.         0.         0.         0.43381609 0.         0.43381609\n",
      "  0.         0.         0.65985664 0.         0.         0.\n",
      "  0.43381609]\n",
      " [0.35355339 0.35355339 0.         0.         0.         0.\n",
      "  0.35355339 0.70710678 0.         0.35355339 0.         0.\n",
      "  0.        ]\n",
      " [0.         0.         0.39798027 0.         0.39798027 0.\n",
      "  0.         0.         0.60534851 0.         0.39798027 0.39798027\n",
      "  0.        ]]\n"
     ]
    }
   ],
   "source": [
    "from sklearn.feature_extraction.text import TfidfVectorizer\n",
    "text=[\n",
    " \"NLP unlocks insights, NLP evolving.\",\n",
    " \"ML learns patterns; ML applications abound.\",\n",
    " \"NLP preprocessing crucial for NLP understanding.\"\n",
    "]\n",
    "vectorizer = TfidfVectorizer()\n",
    "X = vectorizer.fit_transform(text)\n",
    "print(vectorizer.get_feature_names_out())\n",
    "# TF-IDF-Vektordaten ausgeben\n",
    "print(X.toarray())"
   ]
  },
  {
   "cell_type": "code",
   "execution_count": 3,
   "id": "821061f4",
   "metadata": {},
   "outputs": [
    {
     "name": "stdout",
     "output_type": "stream",
     "text": [
      "[-2.8751e+00 -3.0886e+00 -6.5668e-02  7.6071e-01 -1.0454e+00  1.4128e+00\n",
      "  2.9616e+00 -1.0241e+00 -3.2125e+00  2.4650e+00  1.8139e+00 -1.3931e+00\n",
      " -1.0748e+00 -1.0771e+00 -4.1786e-01  2.2618e+00 -1.6344e+00 -6.6468e-01\n",
      " -2.2136e+00  1.2849e+00  1.4909e+00  3.6191e+00 -2.1748e+00  1.4585e+00\n",
      "  2.1528e+00 -8.1199e-02 -1.2381e+00 -3.3737e+00 -4.0432e-01 -2.3723e-01\n",
      " -8.0084e-01  9.4969e-01 -4.6358e-02  5.2613e-01 -8.0498e-01 -1.2646e+00\n",
      " -7.0785e-01  5.4351e-01 -9.9471e-01 -2.1358e+00 -1.2586e+00 -2.6932e+00\n",
      " -1.8820e-01 -7.2355e-01 -1.1235e+00 -4.6935e-01 -2.2595e-01 -4.1580e-01\n",
      " -1.3651e+00 -5.4309e-02  1.3478e+00 -1.5488e+00  2.1997e-01 -6.5675e-01\n",
      "  1.3244e-01 -1.8588e+00 -1.1909e+00  1.4809e+00  3.2557e+00 -7.4432e-01\n",
      " -1.0937e+00 -1.4814e+00 -9.6496e-01 -1.1938e+00 -1.7297e-01 -1.1948e+00\n",
      "  4.7582e-01  1.3427e+00 -9.1829e-01 -1.5111e+00  5.8706e-01  1.3217e+00\n",
      "  5.9117e-01  4.6654e-01  1.3922e+00  7.8353e-01  2.7861e+00 -3.2419e+00\n",
      " -1.9398e+00  2.6994e+00 -7.5187e-01  1.3133e+00  1.2180e+00 -1.3612e+00\n",
      "  6.4139e-01  8.2365e-01  9.1217e-01  2.7528e+00 -1.8931e+00  2.3566e+00\n",
      " -2.6695e-01 -8.6119e-01  1.9792e+00  3.9730e-01 -1.1616e-01 -6.0668e-01\n",
      "  2.0040e+00  4.5835e-01  2.4700e-01 -2.2339e+00  8.9366e-01  1.2569e+00\n",
      "  1.6592e+00  1.5495e+00  2.0392e+00 -5.8593e-01  7.0228e-01 -1.6008e+00\n",
      "  7.9060e-01  2.0361e+00  1.1788e+00  4.6759e-02  3.0311e-01 -3.7978e+00\n",
      " -3.9143e-01  3.4163e-01 -7.5759e-01 -1.2971e+00  1.8188e+00  1.0111e+00\n",
      "  2.3888e-01  9.3831e-02  3.2635e-01 -1.3921e+00 -1.3647e+00  1.8041e+00\n",
      " -4.6324e-01  1.7997e+00  6.6103e-01 -1.4520e+00 -7.1699e-01 -4.4235e-01\n",
      " -7.3767e-01 -1.7748e+00  4.6420e-01 -3.4165e+00  1.3684e+00 -1.1852e+00\n",
      "  1.5130e-02  1.0600e-02 -8.6917e-03  1.1629e-01  8.2577e-01 -1.5892e-01\n",
      " -2.8780e-02 -5.5835e-01  1.9711e+00  2.1175e+00 -1.0241e-01  1.1843e+00\n",
      "  2.5901e+00 -1.5268e+00  2.5451e+00  2.1448e-01 -1.9819e+00  7.6722e-01\n",
      " -5.3179e-01  1.3164e-01 -4.8037e-02  1.0520e+00  7.3478e-01  3.2927e+00\n",
      " -3.2929e+00  3.9642e-01 -4.5321e-01 -2.7144e+00  2.5556e+00 -1.4363e+00\n",
      " -2.2597e+00 -9.9328e-01 -7.4129e-01  2.0985e-01 -1.1859e-01  5.3109e-01\n",
      " -3.0532e-01 -2.4144e-01 -3.0271e+00  2.0574e+00 -2.8437e+00 -1.1241e+00\n",
      " -2.2230e+00  8.8153e-01 -1.4223e-01  1.5605e+00 -1.3481e+00 -1.0523e+00\n",
      "  1.4235e+00 -1.4499e+00 -6.4272e-02 -1.5608e+00 -1.8410e+00 -1.3440e+00\n",
      "  2.0303e-01  1.9923e+00  3.8355e+00 -1.3637e+00 -1.6944e-01  1.4844e+00\n",
      "  3.5742e-01 -1.5190e-01  1.3556e+00 -9.1537e-02  9.1097e-01 -2.5472e+00\n",
      " -3.2766e-01  7.3030e-01  1.6762e+00  3.4036e+00 -9.5269e-01  2.2313e+00\n",
      "  3.4209e-02 -6.1561e-01  3.0358e-01 -4.0100e+00  1.6659e+00  2.4608e+00\n",
      "  1.3832e+00 -2.0200e-01  1.8979e-01  1.3325e-01  1.1942e+00 -2.8832e+00\n",
      "  2.2906e-01  3.5158e-02  1.1644e-01 -5.5531e-01  3.0508e+00  8.1441e-01\n",
      "  1.8391e+00 -3.7270e-01  7.6866e-02 -8.1138e-01 -7.6252e-01  6.6935e-01\n",
      "  5.2094e-01 -3.5596e-03  6.8565e-01 -2.1274e+00  3.3119e+00  1.7086e+00\n",
      " -1.9490e+00 -9.0736e-01 -1.5983e-01 -6.4329e-01 -7.2220e-01  6.5028e-02\n",
      "  1.0358e+00  1.1046e+00  8.6325e-01 -1.3217e+00  1.1595e+00 -2.2315e+00\n",
      " -2.0921e+00 -1.0224e+00  2.1074e+00  2.6038e+00 -4.8554e-01  7.7685e-02\n",
      " -2.0880e+00 -6.9018e-01  7.9511e-01 -6.2049e-01 -2.3241e+00 -2.2587e+00\n",
      "  1.1934e+00 -1.0388e+00  3.9332e-01  1.8193e+00  2.1302e+00 -2.5283e-01\n",
      "  1.3425e-01 -5.6143e-01 -5.4457e-01  4.5454e-01  1.0104e+00  7.5829e-03\n",
      " -3.0731e+00 -7.6610e-01  6.1753e-01  2.6055e+00  1.2391e+00  1.0418e+00\n",
      " -1.1232e+00 -9.2710e-01 -2.7182e+00 -2.1826e+00 -3.1342e+00 -1.7098e+00\n",
      "  5.9320e-01 -1.4237e+00  1.1204e+00  1.1436e+00 -2.2334e+00  1.8626e+00\n",
      " -2.6243e+00  1.9196e+00  2.4288e-01  3.8982e+00 -2.4094e+00  7.3557e-01]\n"
     ]
    }
   ],
   "source": [
    "import spacy\n",
    "nlp = spacy.load(\"de_core_news_lg\")\n",
    "\n",
    "# Unicode String (u)\n",
    "banana_vector = nlp(u'Banana').vector\n",
    "print(banana_vector)"
   ]
  },
  {
   "cell_type": "code",
   "execution_count": 4,
   "id": "a55dce43",
   "metadata": {},
   "outputs": [
    {
     "name": "stdout",
     "output_type": "stream",
     "text": [
      "(300,)\n"
     ]
    }
   ],
   "source": [
    "print(banana_vector.shape) # 300 mit lg, 96 mit sm "
   ]
  },
  {
   "cell_type": "code",
   "execution_count": 5,
   "id": "65d17a9f",
   "metadata": {},
   "outputs": [
    {
     "name": "stdout",
     "output_type": "stream",
     "text": [
      "dog          1    39.64518356323242     0\n",
      "cat          1   43.187129974365234     0\n",
      "banana       1    21.89556884765625     0\n",
      "afskfsd      0                  0.0     1\n"
     ]
    }
   ],
   "source": [
    "tokens = nlp(\"dog cat banana afskfsd\")\n",
    "for token in tokens:\n",
    "    print(f\"{token.text:{10}} {token.has_vector:{3}}\", f\"{token.vector_norm:{20}} {token.is_oov:{5}}\") "
   ]
  },
  {
   "cell_type": "code",
   "execution_count": 10,
   "id": "691c280e",
   "metadata": {},
   "outputs": [
    {
     "name": "stdout",
     "output_type": "stream",
     "text": [
      "Ähnliche Wörter: ['c.', 'it', 'is', 'Might', 'where', 'must', 'had', 'Calif', 'does', 'nothin’', 'b', 'might', 'ought', 'these', 'somethin', \"there's\", 'When', 'i.e', 'i.e.', '(;', 'would', ':-/', ';', 'a.', 'Ought', 'king', 'need', 'cause', 'you', 'that’s', 'was', 'Where', '.', 'who', 'how', 'could', 'those', 'space', 'He', 'were', 'a', 'somethin’', '’cause', 'this', 'they', 'he', 'woman', 'there', 'b.', 'It', 'Those', 'Id.', '(=', 'or', 'when', 'she', 'may', 'all', 'what', 'and/or', \"''\", 'Sen', 'i.', 'nothin', 'This', 'There', \"There's\", 'These', 'e.g.', 'not', 'f.', 'e.', 'has', 'Ala', 'have', 'She', 'd.', 'can', 'that', 'Should', 'Nothin', 'They', 'r.', 'Cause', 's.', 'should', 'are', 'and', '—']\n"
     ]
    }
   ],
   "source": [
    "from sklearn.metrics.pairwise import cosine_similarity\n",
    "\n",
    "# Install first: python -m spacy download en_core_web_lg\n",
    "nlp = spacy.load(\"en_core_web_lg\")\n",
    "\n",
    "king = nlp.vocab['king'].vector\n",
    "man = nlp.vocab['man'].vector\n",
    "woman = nlp.vocab['woman'].vector\n",
    "\n",
    "# Wortvektoren verrechnen\n",
    "new_vector = king - man + woman\n",
    "\n",
    "# Vokabular durchlaufen und ähnliche Wörter mit den ähnlichsten Vektoren finden. Ähnlichkeit wird durch Schwellenwert definiert.\n",
    "similar_words = []\n",
    "\n",
    "for token in nlp.vocab:\n",
    "    # Stoppwörter überspringen\n",
    "    if not token.has_vector:\n",
    "        continue\n",
    "    \n",
    "    # Ähnlichkeit zwischen dem gegebenen Vektor und dem jeweiligen\n",
    "    similarity = cosine_similarity(new_vector.reshape(1,-1), token.vector.reshape(1,-1))\n",
    "    \n",
    "    # > Schwellwert, dann hinzufügen\n",
    "    if similarity > 0.:\n",
    "        similar_words.append(token.text)\n",
    "\n",
    "print(\"Ähnliche Wörter:\", similar_words)"
   ]
  },
  {
   "cell_type": "code",
   "execution_count": 12,
   "id": "bad78d96",
   "metadata": {},
   "outputs": [
    {
     "data": {
      "text/plain": [
       "0.6305076508837961"
      ]
     },
     "execution_count": 12,
     "metadata": {},
     "output_type": "execute_result"
    }
   ],
   "source": [
    "nlp(\"apple\").similarity(nlp(\"mango\"))"
   ]
  },
  {
   "cell_type": "code",
   "execution_count": 14,
   "id": "a8d3cd8b",
   "metadata": {},
   "outputs": [
    {
     "data": {
      "text/plain": [
       "array([[0.6875837]], dtype=float32)"
      ]
     },
     "execution_count": 14,
     "metadata": {},
     "output_type": "execute_result"
    }
   ],
   "source": [
    "cosine_similarity(nlp(\"apple\").vector.reshape(1,-1), nlp(\"cherry\").vector.reshape(1,-1))"
   ]
  }
 ],
 "metadata": {
  "kernelspec": {
   "display_name": "Python 3 (ipykernel)",
   "language": "python",
   "name": "python3"
  },
  "language_info": {
   "codemirror_mode": {
    "name": "ipython",
    "version": 3
   },
   "file_extension": ".py",
   "mimetype": "text/x-python",
   "name": "python",
   "nbconvert_exporter": "python",
   "pygments_lexer": "ipython3",
   "version": "3.11.5"
  }
 },
 "nbformat": 4,
 "nbformat_minor": 5
}
