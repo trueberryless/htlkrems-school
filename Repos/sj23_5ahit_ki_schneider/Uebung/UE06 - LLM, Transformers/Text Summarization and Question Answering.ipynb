{
 "cells": [
  {
   "cell_type": "markdown",
   "id": "478e3faa",
   "metadata": {},
   "source": [
    "# Text Summarization"
   ]
  },
  {
   "cell_type": "code",
   "execution_count": 2,
   "id": "cf804ab4",
   "metadata": {},
   "outputs": [
    {
     "name": "stdout",
     "output_type": "stream",
     "text": [
      "WARNING:tensorflow:From C:\\Users\\trueb\\anaconda3\\Lib\\site-packages\\keras\\src\\losses.py:2976: The name tf.losses.sparse_softmax_cross_entropy is deprecated. Please use tf.compat.v1.losses.sparse_softmax_cross_entropy instead.\n",
      "\n"
     ]
    },
    {
     "name": "stderr",
     "output_type": "stream",
     "text": [
      "C:\\Users\\trueb\\anaconda3\\Lib\\site-packages\\transformers\\utils\\generic.py:260: UserWarning: torch.utils._pytree._register_pytree_node is deprecated. Please use torch.utils._pytree.register_pytree_node instead.\n",
      "  torch.utils._pytree._register_pytree_node(\n",
      "No model was supplied, defaulted to sshleifer/distilbart-cnn-12-6 and revision a4f8f3e (https://huggingface.co/sshleifer/distilbart-cnn-12-6).\n",
      "Using a pipeline without specifying a model name and revision in production is not recommended.\n"
     ]
    }
   ],
   "source": [
    "from transformers import pipeline\n",
    "model = pipeline(\"summarization\")\n",
    "model.save_pretrained(\"./saved_model\") "
   ]
  },
  {
   "cell_type": "code",
   "execution_count": 3,
   "id": "9534f9ac",
   "metadata": {},
   "outputs": [],
   "source": [
    "from transformers import BartTokenizer\n",
    "from transformers import AutoModelForSeq2SeqLM\n",
    "# Seq2Seq generiert Text basierend auf Texteingaben\n",
    "loaded_model = AutoModelForSeq2SeqLM.from_pretrained(\"saved_model\")\n",
    "tokenizer = BartTokenizer.from_pretrained(\"sshleifer/distilbart-cnn-12-6\")\n",
    "summarizer = pipeline(\"summarization\", model=loaded_model, tokenizer=tokenizer)"
   ]
  },
  {
   "cell_type": "code",
   "execution_count": 4,
   "id": "8b858a94",
   "metadata": {},
   "outputs": [
    {
     "name": "stdout",
     "output_type": "stream",
     "text": [
      "[{'summary_text': ' Groß Sprachmodelle (LLM) sind sehr große Deep-Learning-Modelle, die auf riesigen Datenmengen vorab trainiert wurden . Durch diesen Prozess lernen Transformatoren, grundlegende Grammatik, Sprachen und Kenntnisse zu verstehen .'}]\n"
     ]
    }
   ],
   "source": [
    "with open('text.txt', encoding=\"utf-8\") as file:\n",
    "    text = file.read()\n",
    "    summary = summarizer(text[:1024])\n",
    "    print(summary) "
   ]
  },
  {
   "cell_type": "markdown",
   "id": "93d00747",
   "metadata": {},
   "source": [
    "# Question Answering"
   ]
  },
  {
   "cell_type": "code",
   "execution_count": 5,
   "id": "39e52a18",
   "metadata": {},
   "outputs": [],
   "source": [
    "questions = [\"Was sind große Sprachmodelle?\", \"Kann ein Modell unteschiedliche Aufgaben ausführen?\", \"Ist Textklassifizierung eine Anwendung von LLMs?\"]"
   ]
  },
  {
   "cell_type": "code",
   "execution_count": 10,
   "id": "1bc76078",
   "metadata": {},
   "outputs": [
    {
     "name": "stderr",
     "output_type": "stream",
     "text": [
      "No model was supplied, defaulted to distilbert-base-cased-distilled-squad and revision 626af31 (https://huggingface.co/distilbert-base-cased-distilled-squad).\n",
      "Using a pipeline without specifying a model name and revision in production is not recommended.\n"
     ]
    }
   ],
   "source": [
    "question_answerer = pipeline(\"question-answering\")"
   ]
  },
  {
   "cell_type": "code",
   "execution_count": 14,
   "id": "5699dd72",
   "metadata": {},
   "outputs": [
    {
     "name": "stdout",
     "output_type": "stream",
     "text": [
      "Question: Was sind große Sprachmodelle? Answer: unglaublich flexibel\n",
      "Question: Kann ein Modell unteschiedliche Aufgaben ausführen? Answer: Es ist dann für LLMs möglich\n",
      "Question: Ist Textklassifizierung eine Anwendung von LLMs? Answer: Amazon\n"
     ]
    }
   ],
   "source": [
    "with open('text.txt', encoding=\"utf-8\") as file:\n",
    "    context = file.read()\n",
    "    for question in questions:\n",
    "        print(\"Question:\", question, \"Answer:\", question_answerer(question=question, context=context,)['answer'])"
   ]
  }
 ],
 "metadata": {
  "kernelspec": {
   "display_name": "Python 3 (ipykernel)",
   "language": "python",
   "name": "python3"
  },
  "language_info": {
   "codemirror_mode": {
    "name": "ipython",
    "version": 3
   },
   "file_extension": ".py",
   "mimetype": "text/x-python",
   "name": "python",
   "nbconvert_exporter": "python",
   "pygments_lexer": "ipython3",
   "version": "3.11.5"
  }
 },
 "nbformat": 4,
 "nbformat_minor": 5
}
